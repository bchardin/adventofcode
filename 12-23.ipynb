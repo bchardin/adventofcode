{
 "cells": [
  {
   "cell_type": "markdown",
   "id": "50d92458-cc07-4d41-9b23-d2dfaff51251",
   "metadata": {},
   "source": [
    "# Part 1"
   ]
  },
  {
   "cell_type": "code",
   "execution_count": null,
   "id": "33069890-1946-45ae-a504-0df010f2ff43",
   "metadata": {},
   "outputs": [],
   "source": [
    "filename = \"inputs/12-23.txt\"\n",
    "with open(filename, \"r\") as f:\n",
    "    data = f.read()"
   ]
  },
  {
   "cell_type": "code",
   "execution_count": null,
   "id": "b5551910-b1c9-4ea4-ae48-d660d4e92d22",
   "metadata": {},
   "outputs": [],
   "source": [
    "init_elves = set()\n",
    "for j, l in enumerate(data.splitlines()):\n",
    "    for i, c in enumerate(l):\n",
    "        if c == \"#\":\n",
    "            init_elves.add((i, j))"
   ]
  },
  {
   "cell_type": "code",
   "execution_count": null,
   "id": "115fb2ef-b4a3-4ba5-8369-ab889e822fbb",
   "metadata": {},
   "outputs": [],
   "source": [
    "from collections import defaultdict"
   ]
  },
  {
   "cell_type": "code",
   "execution_count": null,
   "id": "17d6d2f5-8a20-4353-8052-53addf769d54",
   "metadata": {},
   "outputs": [],
   "source": [
    "checks = (\n",
    "    ((0, -1), tuple((x, -1) for x in (-1, 0, 1))),\n",
    "    ((0, 1), tuple((x, 1) for x in (-1, 0, 1))),\n",
    "    ((-1, 0), tuple((-1, x) for x in (-1, 0, 1))),\n",
    "    ((1, 0), tuple((1, x) for x in (-1, 0, 1))),\n",
    ")\n",
    "alone_checks = tuple((i, j) for i in range(-1, 2) for j in range(-1, 2) if not (j == 0 and i == 0))\n",
    "\n",
    "def move(elves, i):\n",
    "    propositions = defaultdict(int)\n",
    "    positions = {}\n",
    "    for cnt, (ex, ey) in enumerate(elves):\n",
    "        alone = True\n",
    "        for dx, dy in alone_checks:\n",
    "            if (ex + dx, ey + dy) in elves:\n",
    "                alone = False\n",
    "                break\n",
    "        found = False\n",
    "        if not alone:\n",
    "            for j in range(len(checks)):\n",
    "                (dx, dy), cells = checks[(i + j) % len(checks)]\n",
    "                empty = True\n",
    "                for cx, cy in cells:\n",
    "                    if (ex + cx, ey + cy) in elves:\n",
    "                        empty = False\n",
    "                        break\n",
    "                if empty:\n",
    "                    found = True\n",
    "                    propositions[ex + dx, ey + dy] += 1\n",
    "                    positions[ex, ey] = (ex + dx, ey + dy)\n",
    "                    break\n",
    "        if not found:\n",
    "            assert (ex, ey) not in positions\n",
    "            positions[ex, ey] = (ex, ey)\n",
    "            propositions[ex, ey] += 1\n",
    "\n",
    "    nelves = set()\n",
    "    moved = False\n",
    "    for (ex, ey), (nx, ny) in positions.items():\n",
    "        if propositions[nx, ny] > 1:\n",
    "            nelves.add((ex, ey))\n",
    "        else:\n",
    "            nelves.add((nx, ny))\n",
    "            if (ex, ey) != (nx, ny):\n",
    "                moved = True\n",
    "    return nelves, moved"
   ]
  },
  {
   "cell_type": "code",
   "execution_count": null,
   "id": "b5991f51-c3d6-4a0a-9565-09e68e7f472a",
   "metadata": {},
   "outputs": [],
   "source": [
    "elves = init_elves.copy()\n",
    "for i in range(10):\n",
    "    elves, _ = move(elves, i)\n",
    "\n",
    "x, y = [e for e in zip(*elves)]\n",
    "print((max(x) - min(x) + 1) * (max(y) - min(y) + 1) - len(elves))"
   ]
  },
  {
   "cell_type": "markdown",
   "id": "8ec77c7e-82c6-43ba-805f-af8292c7bd0b",
   "metadata": {},
   "source": [
    "# Part 2"
   ]
  },
  {
   "cell_type": "code",
   "execution_count": null,
   "id": "1433b264-5aeb-4bee-8f43-b78e49b9d8d2",
   "metadata": {},
   "outputs": [],
   "source": [
    "elves = init_elves.copy()\n",
    "moved = True\n",
    "i = 0\n",
    "while moved:\n",
    "    elves, moved = move(elves, i)\n",
    "    i += 1\n",
    "\n",
    "print(i)"
   ]
  },
  {
   "cell_type": "markdown",
   "id": "64a8750b-46ed-4856-bc05-142b13bc072f",
   "metadata": {},
   "source": [
    "# Misc"
   ]
  },
  {
   "cell_type": "code",
   "execution_count": null,
   "id": "73ae36ed-2186-4c60-b715-a15e83e22167",
   "metadata": {},
   "outputs": [],
   "source": [
    "def print_elves(elves):\n",
    "    x, y = [e for e in zip(*elves)]\n",
    "    for j in range(min(y), max(y) + 1):\n",
    "        print(\"\".join([\"#\" if (i, j) in elves else \".\" for i in range(min(x), max(x) + 1)]))\n",
    "    print()"
   ]
  }
 ],
 "metadata": {
  "language_info": {
   "codemirror_mode": {
    "name": "ipython"
   },
   "file_extension": ".py",
   "mimetype": "text/x-python",
   "name": "python",
   "nbconvert_exporter": "python"
  }
 },
 "nbformat": 4,
 "nbformat_minor": 5
}

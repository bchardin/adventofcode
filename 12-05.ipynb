{
 "cells": [
  {
   "cell_type": "markdown",
   "metadata": {},
   "source": [
    "# Part 1"
   ]
  },
  {
   "cell_type": "code",
   "execution_count": null,
   "metadata": {},
   "outputs": [],
   "source": [
    "import re"
   ]
  },
  {
   "cell_type": "code",
   "execution_count": null,
   "metadata": {},
   "outputs": [],
   "source": [
    "def load_stacks(filename):\n",
    "    \"\"\"Load stacks from file.\n",
    "    \n",
    "    Does not work if any stack is empty.\"\"\"\n",
    "    stacks = {}\n",
    "    with open(filename, \"r\") as f:\n",
    "        for l in f.read().splitlines():\n",
    "            nstacks = (len(l)+1)//4\n",
    "            found_any = False\n",
    "            for i in range(nstacks):\n",
    "                if m := re.search(\"\\[([A-Z])\\]\", l[4*i:4*i+3]):\n",
    "                    found_any |= True\n",
    "                    crate = m.group(1)\n",
    "                    if i + 1 in stacks:\n",
    "                        stacks[i + 1].append(crate)\n",
    "                    else:\n",
    "                        stacks[i + 1] = [crate]\n",
    "            if not found_any:\n",
    "                return dict(sorted(stacks.items()))"
   ]
  },
  {
   "cell_type": "code",
   "execution_count": null,
   "metadata": {},
   "outputs": [],
   "source": [
    "stacks = load_stacks(\"12-05.txt\")\n",
    "with open(\"12-05.txt\", \"r\") as f:\n",
    "    for l in f.read().splitlines():\n",
    "        if m := re.search(\"move ([0-9]+) from ([0-9]+) to ([0-9]+)\", l):\n",
    "            quantity, from_, to = (int(v) for v in m.groups())\n",
    "            stacks[to] = stacks[from_][:quantity][::-1] + stacks[to]\n",
    "            stacks[from_] = stacks[from_][quantity:]"
   ]
  },
  {
   "cell_type": "code",
   "execution_count": null,
   "metadata": {},
   "outputs": [],
   "source": [
    "\"\".join(stack[0] for _, stack in stacks.items())"
   ]
  },
  {
   "cell_type": "markdown",
   "metadata": {},
   "source": [
    "# Part 2"
   ]
  },
  {
   "cell_type": "code",
   "execution_count": null,
   "metadata": {},
   "outputs": [],
   "source": [
    "stacks = load_stacks(\"12-05.txt\")\n",
    "with open(\"12-05.txt\", \"r\") as f:\n",
    "    for l in f.read().splitlines():\n",
    "        if m := re.search(\"move ([0-9]+) from ([0-9]+) to ([0-9]+)\", l):\n",
    "            quantity, from_, to = (int(v) for v in m.groups())\n",
    "            stacks[to] = stacks[from_][:quantity] + stacks[to]\n",
    "            stacks[from_] = stacks[from_][quantity:]"
   ]
  },
  {
   "cell_type": "code",
   "execution_count": null,
   "metadata": {},
   "outputs": [],
   "source": [
    "\"\".join(stack[0] for _, stack in stacks.items())"
   ]
  }
 ],
 "metadata": {
  "language_info": {
   "codemirror_mode": {
    "name": "ipython"
   },
   "file_extension": ".py",
   "mimetype": "text/x-python",
   "name": "python",
   "nbconvert_exporter": "python"
  }
 },
 "nbformat": 4,
 "nbformat_minor": 4
}

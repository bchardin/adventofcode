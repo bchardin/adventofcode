{
 "cells": [
  {
   "cell_type": "markdown",
   "metadata": {},
   "source": [
    "# Part 1"
   ]
  },
  {
   "cell_type": "code",
   "execution_count": null,
   "metadata": {},
   "outputs": [],
   "source": [
    "filename = \"12-13.txt\"\n",
    "with open(filename, \"r\") as f:\n",
    "    data = f.read()"
   ]
  },
  {
   "cell_type": "code",
   "execution_count": null,
   "metadata": {},
   "outputs": [],
   "source": [
    "import pyparsing as pp"
   ]
  },
  {
   "cell_type": "code",
   "execution_count": null,
   "metadata": {},
   "outputs": [],
   "source": [
    "list_ = pp.Forward()\n",
    "lbracket = pp.Suppress(pp.Literal(\"[\"))\n",
    "rbracket = pp.Suppress(pp.Literal(\"]\"))\n",
    "list_ << pp.Group(lbracket + pp.Opt(pp.delimited_list(pp.common.integer | list_)) + rbracket)"
   ]
  },
  {
   "cell_type": "code",
   "execution_count": null,
   "metadata": {},
   "outputs": [],
   "source": [
    "def comp(left, right):\n",
    "    if isinstance(left, int) and isinstance(right, int):\n",
    "        return left - right\n",
    "    if isinstance(left, int):\n",
    "        left = [left]\n",
    "    if isinstance(right, int):\n",
    "        right = [right]\n",
    "    for l, r in zip(left, right):\n",
    "        if (c := comp(l, r)) != 0:\n",
    "            return c\n",
    "    return len(left) - len(right)"
   ]
  },
  {
   "cell_type": "code",
   "execution_count": null,
   "metadata": {},
   "outputs": [],
   "source": [
    "sum_ = 0\n",
    "for idx, pair in enumerate(data.split(\"\\n\\n\")):\n",
    "    for left, right in [[list_.parse_string(expr).as_list()[0] for expr in pair.strip().split(\"\\n\")]]:\n",
    "        c = comp(left, right)\n",
    "        assert comp != 0\n",
    "        if comp(left, right) < 0:\n",
    "            sum_ += idx + 1\n",
    "sum_"
   ]
  },
  {
   "cell_type": "markdown",
   "metadata": {},
   "source": [
    "# Part 2"
   ]
  },
  {
   "cell_type": "code",
   "execution_count": null,
   "metadata": {},
   "outputs": [],
   "source": [
    "packets = []\n",
    "for expr in data.split(\"\\n\"):\n",
    "    if expr:\n",
    "        packets.append(list_.parse_string(expr).as_list()[0])\n",
    "div_packets = [[[2]], [[6]]]\n",
    "for p in div_packets:\n",
    "    packets.append(p)"
   ]
  },
  {
   "cell_type": "code",
   "execution_count": null,
   "metadata": {},
   "outputs": [],
   "source": [
    "from functools import cmp_to_key"
   ]
  },
  {
   "cell_type": "code",
   "execution_count": null,
   "metadata": {},
   "outputs": [],
   "source": [
    "sort = sorted(packets, key=cmp_to_key(comp))"
   ]
  },
  {
   "cell_type": "code",
   "execution_count": null,
   "metadata": {},
   "outputs": [],
   "source": [
    "idx1, idx2 = (sort.index(p) + 1 for p in div_packets)\n",
    "idx1 * idx2"
   ]
  }
 ],
 "metadata": {
  "language_info": {
   "codemirror_mode": {
    "name": "ipython"
   },
   "file_extension": ".py",
   "mimetype": "text/x-python",
   "name": "python",
   "nbconvert_exporter": "python"
  }
 },
 "nbformat": 4,
 "nbformat_minor": 4
}

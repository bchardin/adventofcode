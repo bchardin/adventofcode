{
 "cells": [
  {
   "cell_type": "markdown",
   "id": "6bcd3c0b-b74d-4596-870a-3ebc30faa8f6",
   "metadata": {},
   "source": [
    "# Part 1"
   ]
  },
  {
   "cell_type": "code",
   "execution_count": null,
   "id": "d63248be-aa95-419f-bab9-b6ff57daf8ac",
   "metadata": {},
   "outputs": [],
   "source": [
    "import re"
   ]
  },
  {
   "cell_type": "code",
   "execution_count": null,
   "id": "8ae69f37-4cd1-4c1b-8315-490997458949",
   "metadata": {},
   "outputs": [],
   "source": [
    "filename = \"inputs/12-10.txt\"\n",
    "with open(filename, \"r\") as f:\n",
    "    data = f.read()"
   ]
  },
  {
   "cell_type": "code",
   "execution_count": null,
   "id": "6209ea03-f1df-48a9-bf0d-cc8e37020d1d",
   "metadata": {},
   "outputs": [],
   "source": [
    "def cycle_increment(state, incr=1):\n",
    "    if incr > 40:\n",
    "        raise NotImplementedError(\"Large increments are currently not supported.\")\n",
    "    for i in range(incr):\n",
    "        x_pos = (state[\"cycle\"] + i) % 40\n",
    "        if abs(x_pos - state[\"x\"]) <= 1:\n",
    "            state[\"screen\"][state[\"cycle\"] + i] = \"#\"\n",
    "        else:\n",
    "            state[\"screen\"][state[\"cycle\"] + i] = \".\"\n",
    "    if (state[\"cycle\"] % 40) < 20 <= (state[\"cycle\"] % 40) + incr:\n",
    "        state[\"strength\"] += state[\"x\"] * ((state[\"cycle\"] + incr - 20) // 40 * 40 + 20)\n",
    "    state[\"cycle\"] += incr\n",
    "    return state"
   ]
  },
  {
   "cell_type": "code",
   "execution_count": null,
   "id": "8f05a62a-fcdc-4966-a822-7f26c60a88a9",
   "metadata": {},
   "outputs": [],
   "source": [
    "state = {\n",
    "    \"cycle\": 0,\n",
    "    \"x\": 1,\n",
    "    \"strength\": 0,\n",
    "    \"screen\": [\"?\"] * 40 * 6,\n",
    "}\n",
    "\n",
    "for l in data.splitlines():\n",
    "    if re.match(\"noop\", l):\n",
    "        state = cycle_increment(state)\n",
    "    elif m := re.match(\"addx (-?\\d+)\", l):\n",
    "        state = cycle_increment(state, 2)\n",
    "        x_incr = int(m.group(1))\n",
    "        state[\"x\"] += x_incr\n",
    "    else:\n",
    "        raise ValueError(f\"Unknow operation: '{l}'\")\n",
    "\n",
    "print(f\"Total signal strength is {state['strength']}\")"
   ]
  },
  {
   "cell_type": "markdown",
   "id": "749b5d82-7571-4025-af39-5783fe52172a",
   "metadata": {},
   "source": [
    "# Part 2"
   ]
  },
  {
   "cell_type": "code",
   "execution_count": null,
   "id": "3e7b59ee-dd86-43f3-b522-065aa8f8bceb",
   "metadata": {},
   "outputs": [],
   "source": [
    "print(\"\\n\".join([\"\".join(state[\"screen\"][line*40:(line+1)*40]) for line in range(6)]))"
   ]
  }
 ],
 "metadata": {
  "language_info": {
   "codemirror_mode": {
    "name": "ipython"
   },
   "file_extension": ".py",
   "mimetype": "text/x-python",
   "name": "python",
   "nbconvert_exporter": "python"
  }
 },
 "nbformat": 4,
 "nbformat_minor": 5
}

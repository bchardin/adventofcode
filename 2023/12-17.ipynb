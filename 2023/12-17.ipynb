{
 "cells": [
  {
   "cell_type": "code",
   "execution_count": null,
   "id": "fed8fc3a-d4d8-4590-9a49-f56ecbf5de4f",
   "metadata": {},
   "outputs": [],
   "source": [
    "import os\n",
    "import sys\n",
    "\n",
    "sys.path.insert(0, os.path.abspath(\"../utils\"))\n",
    "from aoc_utils import load_data, check"
   ]
  },
  {
   "cell_type": "code",
   "execution_count": null,
   "id": "61e9a07b-047f-4319-9d0a-870b2c0c4ad8",
   "metadata": {},
   "outputs": [],
   "source": [
    "import bisect"
   ]
  },
  {
   "cell_type": "code",
   "execution_count": null,
   "id": "61342c74-6c06-4600-af0d-879fe0b0eda7",
   "metadata": {},
   "outputs": [],
   "source": [
    "data = load_data(2023, 17)"
   ]
  },
  {
   "cell_type": "code",
   "execution_count": null,
   "id": "661e1822-ff0f-4a87-a4a9-ffbd4aeb36a2",
   "metadata": {},
   "outputs": [],
   "source": [
    "# data, part_1, part_2\n",
    "tests = [\n",
    "    (\n",
    "        \"\"\"2413432311323\n",
    "3215453535623\n",
    "3255245654254\n",
    "3446585845452\n",
    "4546657867536\n",
    "1438598798454\n",
    "4457876987766\n",
    "3637877979653\n",
    "4654967986887\n",
    "4564679986453\n",
    "1224686865563\n",
    "2546548887735\n",
    "4322674655533\"\"\",\n",
    "        102,\n",
    "        94,\n",
    "    ),\n",
    "    (\n",
    "        \"\"\"111111111111\n",
    "999999999991\n",
    "999999999991\n",
    "999999999991\n",
    "999999999991\"\"\",\n",
    "        None,\n",
    "        71,\n",
    "    ),\n",
    "    (\n",
    "        \"\"\"111119999999\n",
    "999919999999\n",
    "999919911999\n",
    "999911111111\"\"\",\n",
    "        24,\n",
    "        None,\n",
    "    ),\n",
    "]"
   ]
  },
  {
   "cell_type": "markdown",
   "id": "e3a0e91e-2dd3-4cfe-897d-6869e1ec01e5",
   "metadata": {},
   "source": [
    "# Part 1"
   ]
  },
  {
   "cell_type": "code",
   "execution_count": null,
   "id": "2f581072-58ec-477b-bf4a-f8131085d31a",
   "metadata": {},
   "outputs": [],
   "source": [
    "def gen_map(lines):\n",
    "    map_ = {}\n",
    "    for y, line in enumerate(lines):\n",
    "        for x, c in enumerate(line):\n",
    "            map_[x + 1j * y] = int(c)\n",
    "    return map_"
   ]
  },
  {
   "cell_type": "code",
   "execution_count": null,
   "id": "3c2cebf2-2c9c-4dae-9db2-ce2ebb9c86b3",
   "metadata": {},
   "outputs": [],
   "source": [
    "def travel_cost(map_, target, max_length, min_length=0):\n",
    "    queue = []\n",
    "    min_costs = {}\n",
    "\n",
    "    def _enqueue(cost, pos, dir, steps, queue=queue, min_costs=min_costs):\n",
    "        if pos not in map_:\n",
    "            return\n",
    "        if (pos, dir, steps) in min_costs:\n",
    "            if cost >= min_costs[(pos, dir, steps)]:\n",
    "                return\n",
    "        min_costs[(pos, dir, steps)] = cost\n",
    "        bisect.insort(queue, (cost, pos, dir, steps), key=lambda t: -t[0])\n",
    "\n",
    "    _enqueue(0, 1, 1, 0)\n",
    "    _enqueue(0, 1j, 1j, 0)\n",
    "    min_cost = 9 * len(map_)\n",
    "    while queue:\n",
    "        cost, pos, dir, steps = queue.pop()\n",
    "        if cost > min_cost:\n",
    "            return min_cost\n",
    "        steps += 1\n",
    "        assert map_[pos] > 0\n",
    "        cost += map_[pos]\n",
    "        if pos == target and steps >= min_length:\n",
    "            min_cost = min(cost, min_cost)\n",
    "            continue\n",
    "        if steps < max_length:\n",
    "            # continue forward\n",
    "            _enqueue(cost, pos + dir, dir, steps)\n",
    "        if steps >= min_length:\n",
    "            # turn clockwise\n",
    "            dir = dir * 1j\n",
    "            _enqueue(cost, pos + dir, dir, 0)\n",
    "            # turn counterclockwise\n",
    "            _enqueue(cost, pos - dir, -dir, 0)"
   ]
  },
  {
   "cell_type": "code",
   "execution_count": null,
   "id": "dbb1d2bb-0c83-47f1-9627-55efe317bbb0",
   "metadata": {},
   "outputs": [],
   "source": [
    "def crucible_path(data, max_length=3, min_length=0):\n",
    "    lines = data.splitlines()\n",
    "    map_ = gen_map(lines)\n",
    "    target = len(lines[0]) - 1 + 1j * (len(lines) - 1)\n",
    "    return travel_cost(map_, target, max_length, min_length)"
   ]
  },
  {
   "cell_type": "code",
   "execution_count": null,
   "id": "9d0e9143-9dd3-453f-9d86-e415da87425d",
   "metadata": {},
   "outputs": [],
   "source": [
    "check(crucible_path, tests)\n",
    "crucible_path(data)"
   ]
  },
  {
   "cell_type": "markdown",
   "id": "3386658c-9811-4824-8fcf-59521344d102",
   "metadata": {},
   "source": [
    "# Part 2"
   ]
  },
  {
   "cell_type": "code",
   "execution_count": null,
   "id": "db59d676-94f5-4ce2-9f06-7756d5fa20ee",
   "metadata": {},
   "outputs": [],
   "source": [
    "check(crucible_path, tests, 2, max_length=10, min_length=4)\n",
    "crucible_path(data, max_length=10, min_length=4)"
   ]
  }
 ],
 "metadata": {
  "language_info": {
   "codemirror_mode": {
    "name": "ipython"
   },
   "file_extension": ".py",
   "mimetype": "text/x-python",
   "name": "python",
   "nbconvert_exporter": "python"
  }
 },
 "nbformat": 4,
 "nbformat_minor": 5
}

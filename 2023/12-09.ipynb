{
 "cells": [
  {
   "cell_type": "code",
   "execution_count": null,
   "id": "c3247d2f-62c2-4f4f-a7e9-bfab4d32bd3b",
   "metadata": {},
   "outputs": [],
   "source": [
    "import numpy as np\n",
    "from scipy.special import comb"
   ]
  },
  {
   "cell_type": "code",
   "execution_count": null,
   "id": "9a792655-0ef1-4db8-b032-d5e936a8ed42",
   "metadata": {},
   "outputs": [],
   "source": [
    "filename = \"inputs/12-09.txt\"\n",
    "with open(filename, \"r\") as f:\n",
    "    data = f.read()"
   ]
  },
  {
   "cell_type": "code",
   "execution_count": null,
   "id": "661e1822-ff0f-4a87-a4a9-ffbd4aeb36a2",
   "metadata": {},
   "outputs": [],
   "source": [
    "# data, part_1, part_2\n",
    "tests = [\n",
    "    (\n",
    "        \"\"\"0 3 6 9 12 15\n",
    "1 3 6 10 15 21\n",
    "10 13 16 21 30 45\"\"\",\n",
    "        114,\n",
    "        2,\n",
    "    ),\n",
    "]"
   ]
  },
  {
   "cell_type": "code",
   "execution_count": null,
   "id": "feb7413b-28f2-4ec8-bc47-5dcba8316db0",
   "metadata": {},
   "outputs": [],
   "source": [
    "def check(function, part=1, tests=tests):\n",
    "    for input, *outputs in tests:\n",
    "        output = outputs[part - 1]\n",
    "        if output is not None:\n",
    "            result = function(input)\n",
    "            assert result == output, f\"{result} == {output}\""
   ]
  },
  {
   "cell_type": "markdown",
   "id": "e3a0e91e-2dd3-4cfe-897d-6869e1ec01e5",
   "metadata": {},
   "source": [
    "# Part 1"
   ]
  },
  {
   "cell_type": "code",
   "execution_count": null,
   "id": "ee262491-9532-411e-acc4-35aad922fde1",
   "metadata": {},
   "outputs": [],
   "source": [
    "def get_series(data):\n",
    "    series = []\n",
    "    for line in data.splitlines():\n",
    "        series.append([int(v) for v in line.split(\" \")])\n",
    "    return series"
   ]
  },
  {
   "cell_type": "code",
   "execution_count": null,
   "id": "779823e5-ecdc-433f-8200-707dc65e78d3",
   "metadata": {},
   "outputs": [],
   "source": [
    "def get_coeffs(s):\n",
    "    s = np.array(s, dtype=np.int64)\n",
    "    c = [s[0]]\n",
    "    while len(s) > 0 and not np.all(s == s[0]):\n",
    "        s = s[1:] - s[:-1]\n",
    "        c.append(s[0])\n",
    "    return c"
   ]
  },
  {
   "cell_type": "code",
   "execution_count": null,
   "id": "cf1f0570-80e7-47c8-9baf-739bd4f982ae",
   "metadata": {},
   "outputs": [],
   "source": [
    "def predict(coeffs, i):\n",
    "    s = 0\n",
    "    for j, c in enumerate(coeffs):\n",
    "        s += c * comb(i, j, exact=True)\n",
    "    return s"
   ]
  },
  {
   "cell_type": "code",
   "execution_count": null,
   "id": "b1926aa1-2fc8-4672-b74f-d7860b4efdd2",
   "metadata": {},
   "outputs": [],
   "source": [
    "def sum_predict(data):\n",
    "    series = get_series(data)\n",
    "    predict_idx = len(series[0])\n",
    "    sum_ = 0\n",
    "    for s in series:\n",
    "        coeffs = get_coeffs(s)\n",
    "        sum_ += predict(coeffs, predict_idx)\n",
    "    return sum_"
   ]
  },
  {
   "cell_type": "code",
   "execution_count": null,
   "id": "9d0e9143-9dd3-453f-9d86-e415da87425d",
   "metadata": {},
   "outputs": [],
   "source": [
    "check(sum_predict)\n",
    "sum_predict(data)"
   ]
  },
  {
   "cell_type": "markdown",
   "id": "3386658c-9811-4824-8fcf-59521344d102",
   "metadata": {},
   "source": [
    "# Part 2"
   ]
  },
  {
   "cell_type": "code",
   "execution_count": null,
   "id": "a40ccc5c-2d05-44a9-8e66-159fab05ed25",
   "metadata": {},
   "outputs": [],
   "source": [
    "def previous(coeffs):\n",
    "    sum_ = 0\n",
    "    for i, c in enumerate(coeffs):\n",
    "        sum_ += c * (-1) ** i\n",
    "    return sum_"
   ]
  },
  {
   "cell_type": "code",
   "execution_count": null,
   "id": "47b0f09f-633b-44e9-b1dd-eb81bc8887a6",
   "metadata": {},
   "outputs": [],
   "source": [
    "def sum_predict(data):\n",
    "    series = get_series(data)\n",
    "    sum_ = 0\n",
    "    for s in series:\n",
    "        coeffs = get_coeffs(s)\n",
    "        sum_ += previous(coeffs)\n",
    "    return sum_"
   ]
  },
  {
   "cell_type": "code",
   "execution_count": null,
   "id": "ae039850-618b-49d4-b4e6-12ec03a2cf54",
   "metadata": {},
   "outputs": [],
   "source": [
    "check(sum_predict, 2)\n",
    "sum_predict(data)"
   ]
  }
 ],
 "metadata": {
  "language_info": {
   "codemirror_mode": {
    "name": "ipython"
   },
   "file_extension": ".py",
   "mimetype": "text/x-python",
   "name": "python",
   "nbconvert_exporter": "python"
  }
 },
 "nbformat": 4,
 "nbformat_minor": 5
}

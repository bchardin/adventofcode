{
 "cells": [
  {
   "cell_type": "code",
   "execution_count": null,
   "id": "fed8fc3a-d4d8-4590-9a49-f56ecbf5de4f",
   "metadata": {},
   "outputs": [],
   "source": [
    "import os\n",
    "import sys\n",
    "\n",
    "sys.path.insert(0, os.path.abspath(\"../utils\"))\n",
    "from aoc_utils import load_data, check"
   ]
  },
  {
   "cell_type": "code",
   "execution_count": null,
   "id": "61e9a07b-047f-4319-9d0a-870b2c0c4ad8",
   "metadata": {},
   "outputs": [],
   "source": [
    "from functools import cache"
   ]
  },
  {
   "cell_type": "code",
   "execution_count": null,
   "id": "61342c74-6c06-4600-af0d-879fe0b0eda7",
   "metadata": {},
   "outputs": [],
   "source": [
    "data = load_data(2023, 12)"
   ]
  },
  {
   "cell_type": "code",
   "execution_count": null,
   "id": "661e1822-ff0f-4a87-a4a9-ffbd4aeb36a2",
   "metadata": {},
   "outputs": [],
   "source": [
    "# data, part_1, part_2\n",
    "tests = [\n",
    "    (\n",
    "        \"\"\"???.### 1,1,3\n",
    ".??..??...?##. 1,1,3\n",
    "?#?#?#?#?#?#?#? 1,3,1,6\n",
    "????.#...#... 4,1,1\n",
    "????.######..#####. 1,6,5\n",
    "?###???????? 3,2,1\"\"\",\n",
    "        21,\n",
    "        525152,\n",
    "    ),\n",
    "]"
   ]
  },
  {
   "cell_type": "markdown",
   "id": "e3a0e91e-2dd3-4cfe-897d-6869e1ec01e5",
   "metadata": {},
   "source": [
    "# Part 1\n",
    "\n",
    "The first solution recurses around the central clue. It does not rely on caching.  \n",
    "It processes part 2 with the full input in about 10 seconds."
   ]
  },
  {
   "cell_type": "code",
   "execution_count": null,
   "id": "4eb6e3b7-aba7-4c17-91a3-054285556255",
   "metadata": {},
   "outputs": [],
   "source": [
    "def leftmost(line, clues):\n",
    "    if line[-1] != \".\":\n",
    "        line = line + \".\"\n",
    "    pos = 0\n",
    "    for c in clues:\n",
    "        if pos + c >= len(line):\n",
    "            return None\n",
    "        while \".\" in line[pos:pos + c] or not line[pos + c] in \".?\":\n",
    "            pos += 1\n",
    "            if pos + c >= len(line):\n",
    "                return None\n",
    "        pos += c + 1\n",
    "    while pos < len(line) and line[pos] == \".\":\n",
    "        pos += 1\n",
    "    return pos\n",
    "\n",
    "def rightmost(line, clues):\n",
    "    left = leftmost(line[::-1], clues[::-1])\n",
    "    if left is None:\n",
    "        return None\n",
    "    return len(line) - left\n",
    "\n",
    "def possible(line, clue, pos):\n",
    "    if pos < 0 or pos + clue > len(line):\n",
    "        return False\n",
    "    if \".\" in line[pos:pos + clue]:\n",
    "        return False\n",
    "    if pos > 0 and line[pos - 1] == \"#\":\n",
    "        return False\n",
    "    if pos + clue < len(line) and line[pos + clue] == \"#\":\n",
    "        return False\n",
    "    return True\n",
    "\n",
    "def line_arrangements(line, clues):\n",
    "    if len(clues) == 0:\n",
    "        if \"#\" in line:\n",
    "            return 0\n",
    "        return 1\n",
    "    if sum(clues) + len(clues) - 1 > len(line):\n",
    "        return 0\n",
    "    if len(clues) == 1:\n",
    "        clue = clues[0]\n",
    "        line = \".\" + line + \".\"\n",
    "        arr = 0\n",
    "        for pos in range(1, len(line) - clue):\n",
    "            if \"#\" not in line[:pos] and \"#\" not in line[pos + clue:] and \".\" not in line[pos:pos + clue]:\n",
    "                arr += 1\n",
    "        return arr\n",
    "    # use the middle clue as a pivot\n",
    "    pivot = len(clues) // 2\n",
    "    left_clues = clues[:pivot]\n",
    "    leftmost_pos = leftmost(line, left_clues)\n",
    "    if leftmost_pos is None:\n",
    "        return 0\n",
    "    right_clues = clues[pivot + 1:]\n",
    "    rightmost_pos = rightmost(line, right_clues)\n",
    "    if rightmost_pos is None:\n",
    "        return 0\n",
    "    clue = clues[pivot]\n",
    "    arr = 0\n",
    "    for pos in range(leftmost_pos, rightmost_pos + 1):\n",
    "        if possible(line, clue, pos):\n",
    "            left_arrangements = line_arrangements(line[:max(pos - 1, 0)], left_clues)\n",
    "            if left_arrangements:\n",
    "                arr += left_arrangements * line_arrangements(line[pos + clue + 1:], right_clues)\n",
    "    return arr"
   ]
  },
  {
   "cell_type": "markdown",
   "id": "acd19061-472e-4af7-907b-9ce11bf9bb9f",
   "metadata": {},
   "source": [
    "The second solution uses dynamic programming.  \n",
    "It processes part 2 with the full input in about 100 milliseconds."
   ]
  },
  {
   "cell_type": "code",
   "execution_count": null,
   "id": "ba5c6854-12d4-4e7c-bd74-edde6e328844",
   "metadata": {},
   "outputs": [],
   "source": [
    "@cache\n",
    "def line_arrangements(line, clues):\n",
    "    if len(clues) == 0:\n",
    "        if \"#\" in line:\n",
    "            return 0\n",
    "        return 1\n",
    "    if sum(clues) + len(clues) - 1 > len(line):\n",
    "        return 0\n",
    "\n",
    "    start = 0\n",
    "    clue = clues[0]\n",
    "    while (\n",
    "        \".\" in line[start:(stop := start + clue)]\n",
    "        or (stop < len(line) and line[stop] == \"#\")\n",
    "    ):\n",
    "        if line[start] == \"#\" or stop >= len(line):\n",
    "            return 0\n",
    "        start += 1\n",
    "    arr = line_arrangements(line[stop + 1:], clues[1:])\n",
    "    if line[start] == \"?\":\n",
    "        arr += line_arrangements(line[start + 1:], clues)\n",
    "    return arr"
   ]
  },
  {
   "cell_type": "code",
   "execution_count": null,
   "id": "8eec77e1-46e2-422f-8d72-365e8e91f26a",
   "metadata": {},
   "outputs": [],
   "source": [
    "def arrangements(data, repeat=1):\n",
    "    arr = 0\n",
    "    for line in data.splitlines():\n",
    "        springs, clues_str = line.split()\n",
    "        clues = tuple(int(v) for v in clues_str.split(\",\"))\n",
    "        arr += line_arrangements(\"?\".join([springs] * repeat), clues * repeat)\n",
    "    return arr"
   ]
  },
  {
   "cell_type": "code",
   "execution_count": null,
   "id": "9d0e9143-9dd3-453f-9d86-e415da87425d",
   "metadata": {},
   "outputs": [],
   "source": [
    "check(arrangements, tests)\n",
    "arrangements(data)"
   ]
  },
  {
   "cell_type": "markdown",
   "id": "3386658c-9811-4824-8fcf-59521344d102",
   "metadata": {},
   "source": [
    "# Part 2"
   ]
  },
  {
   "cell_type": "code",
   "execution_count": null,
   "id": "ae039850-618b-49d4-b4e6-12ec03a2cf54",
   "metadata": {},
   "outputs": [],
   "source": [
    "%%time\n",
    "check(arrangements, tests, 2, repeat=5)\n",
    "arrangements(data, repeat=5)"
   ]
  }
 ],
 "metadata": {
  "language_info": {
   "codemirror_mode": {
    "name": "ipython"
   },
   "file_extension": ".py",
   "mimetype": "text/x-python",
   "name": "python",
   "nbconvert_exporter": "python"
  }
 },
 "nbformat": 4,
 "nbformat_minor": 5
}

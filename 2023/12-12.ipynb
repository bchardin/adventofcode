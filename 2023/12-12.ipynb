{
 "cells": [
  {
   "cell_type": "code",
   "execution_count": null,
   "id": "fed8fc3a-d4d8-4590-9a49-f56ecbf5de4f",
   "metadata": {},
   "outputs": [],
   "source": [
    "import os\n",
    "import sys\n",
    "\n",
    "sys.path.insert(0, os.path.abspath(\"../utils\"))\n",
    "from aoc_utils import load_data, check"
   ]
  },
  {
   "cell_type": "code",
   "execution_count": null,
   "id": "61e9a07b-047f-4319-9d0a-870b2c0c4ad8",
   "metadata": {},
   "outputs": [],
   "source": [
    "from functools import cache"
   ]
  },
  {
   "cell_type": "code",
   "execution_count": null,
   "id": "61342c74-6c06-4600-af0d-879fe0b0eda7",
   "metadata": {},
   "outputs": [],
   "source": [
    "data = load_data(2023, 12)"
   ]
  },
  {
   "cell_type": "code",
   "execution_count": null,
   "id": "661e1822-ff0f-4a87-a4a9-ffbd4aeb36a2",
   "metadata": {},
   "outputs": [],
   "source": [
    "# data, part_1, part_2\n",
    "tests = [\n",
    "    (\n",
    "        \"\"\"???.### 1,1,3\n",
    ".??..??...?##. 1,1,3\n",
    "?#?#?#?#?#?#?#? 1,3,1,6\n",
    "????.#...#... 4,1,1\n",
    "????.######..#####. 1,6,5\n",
    "?###???????? 3,2,1\"\"\",\n",
    "        21,\n",
    "        525152,\n",
    "    ),\n",
    "]"
   ]
  },
  {
   "cell_type": "markdown",
   "id": "e3a0e91e-2dd3-4cfe-897d-6869e1ec01e5",
   "metadata": {},
   "source": [
    "# Part 1"
   ]
  },
  {
   "cell_type": "code",
   "execution_count": null,
   "id": "ba5c6854-12d4-4e7c-bd74-edde6e328844",
   "metadata": {},
   "outputs": [],
   "source": [
    "@cache\n",
    "def line_arrangements(line, clues):\n",
    "    if len(clues) == 0:\n",
    "        if \"#\" in line:\n",
    "            return 0\n",
    "        return 1\n",
    "    if sum(clues) + len(clues) - 1 > len(line):\n",
    "        return 0\n",
    "\n",
    "    start = 0\n",
    "    c = clues[0]\n",
    "    while (\n",
    "        \".\" in line[start:start + c]\n",
    "        or (start + c < len(line) and line[start + c] == \"#\")\n",
    "        or (start > 0 and line[start - 1] == \"#\")\n",
    "    ):\n",
    "        if line[start] == \"#\" or start + c >= len(line):\n",
    "            return 0\n",
    "        start += 1\n",
    "    ret = line_arrangements(line[start + c + 1:], clues[1:])\n",
    "    if line[start] == \"?\":\n",
    "        ret += line_arrangements(line[start + 1:], clues)\n",
    "    return ret"
   ]
  },
  {
   "cell_type": "code",
   "execution_count": null,
   "id": "8eec77e1-46e2-422f-8d72-365e8e91f26a",
   "metadata": {},
   "outputs": [],
   "source": [
    "def arrangements(data, repeat=1):\n",
    "    arr = 0\n",
    "    for line in data.splitlines():\n",
    "        springs, clues_str = line.split()\n",
    "        clues = tuple(int(v) for v in clues_str.split(\",\"))\n",
    "        arr += line_arrangements(\"?\".join([springs] * repeat), clues * repeat)\n",
    "    return arr"
   ]
  },
  {
   "cell_type": "code",
   "execution_count": null,
   "id": "9d0e9143-9dd3-453f-9d86-e415da87425d",
   "metadata": {},
   "outputs": [],
   "source": [
    "check(arrangements, tests)\n",
    "arrangements(data)"
   ]
  },
  {
   "cell_type": "markdown",
   "id": "3386658c-9811-4824-8fcf-59521344d102",
   "metadata": {},
   "source": [
    "# Part 2"
   ]
  },
  {
   "cell_type": "code",
   "execution_count": null,
   "id": "ae039850-618b-49d4-b4e6-12ec03a2cf54",
   "metadata": {},
   "outputs": [],
   "source": [
    "check(arrangements, tests, 2, repeat=5)\n",
    "arrangements(data, repeat=5)"
   ]
  }
 ],
 "metadata": {
  "language_info": {
   "codemirror_mode": {
    "name": "ipython"
   },
   "file_extension": ".py",
   "mimetype": "text/x-python",
   "name": "python",
   "nbconvert_exporter": "python"
  }
 },
 "nbformat": 4,
 "nbformat_minor": 5
}

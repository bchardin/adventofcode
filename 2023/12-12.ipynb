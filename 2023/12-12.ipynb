{
 "cells": [
  {
   "cell_type": "code",
   "execution_count": null,
   "id": "fed8fc3a-d4d8-4590-9a49-f56ecbf5de4f",
   "metadata": {},
   "outputs": [],
   "source": [
    "import os\n",
    "import sys\n",
    "\n",
    "sys.path.insert(0, os.path.abspath(\"../utils\"))\n",
    "from aoc_utils import load_data, check"
   ]
  },
  {
   "cell_type": "code",
   "execution_count": null,
   "id": "61e9a07b-047f-4319-9d0a-870b2c0c4ad8",
   "metadata": {},
   "outputs": [],
   "source": [
    "from functools import cache"
   ]
  },
  {
   "cell_type": "code",
   "execution_count": null,
   "id": "61342c74-6c06-4600-af0d-879fe0b0eda7",
   "metadata": {},
   "outputs": [],
   "source": [
    "data = load_data(2023, 12)"
   ]
  },
  {
   "cell_type": "code",
   "execution_count": null,
   "id": "661e1822-ff0f-4a87-a4a9-ffbd4aeb36a2",
   "metadata": {},
   "outputs": [],
   "source": [
    "# data, part_1, part_2\n",
    "tests = [\n",
    "    (\n",
    "        \"\"\"???.### 1,1,3\n",
    ".??..??...?##. 1,1,3\n",
    "?#?#?#?#?#?#?#? 1,3,1,6\n",
    "????.#...#... 4,1,1\n",
    "????.######..#####. 1,6,5\n",
    "?###???????? 3,2,1\n",
    "\"\"\",\n",
    "        21,\n",
    "        525152,\n",
    "    ),\n",
    "]"
   ]
  },
  {
   "cell_type": "markdown",
   "id": "e3a0e91e-2dd3-4cfe-897d-6869e1ec01e5",
   "metadata": {},
   "source": [
    "# Part 1"
   ]
  },
  {
   "cell_type": "code",
   "execution_count": null,
   "id": "be6a2404-d880-4f49-9797-03a5bfc63cea",
   "metadata": {},
   "outputs": [],
   "source": [
    "def leftmost(line, clues):\n",
    "    if line[-1] != \".\":\n",
    "        line = line + \".\"\n",
    "    pos = 0\n",
    "    for c in clues:\n",
    "        if pos + c >= len(line):\n",
    "            return None\n",
    "        while \".\" in line[pos:pos + c] or not line[pos + c] in \".?\":\n",
    "            pos += 1\n",
    "            if pos + c >= len(line):\n",
    "                return None\n",
    "        pos += c + 1\n",
    "    while pos < len(line) and line[pos] == \".\":\n",
    "        pos += 1\n",
    "    return pos"
   ]
  },
  {
   "cell_type": "code",
   "execution_count": null,
   "id": "fbb93e33-5b11-42f1-bf82-9339a02f3063",
   "metadata": {},
   "outputs": [],
   "source": [
    "def rightmost(line, clues):\n",
    "    left = leftmost(line[::-1], clues[::-1])\n",
    "    if left is None:\n",
    "        return None\n",
    "    return len(line) - left"
   ]
  },
  {
   "cell_type": "code",
   "execution_count": null,
   "id": "91998536-7eb9-4aab-aa60-a7cb820fda59",
   "metadata": {},
   "outputs": [],
   "source": [
    "def possible(line, clue, pos):\n",
    "    if pos < 0 or pos + clue > len(line):\n",
    "        return False\n",
    "    if \".\" in line[pos:pos + clue]:\n",
    "        return False\n",
    "    if pos > 0 and line[pos - 1] == \"#\":\n",
    "        return False\n",
    "    if pos + clue < len(line) and line[pos + clue] == \"#\":\n",
    "        return False\n",
    "    return True"
   ]
  },
  {
   "cell_type": "code",
   "execution_count": null,
   "id": "bc6ed482-8c0a-46db-809a-e054a963b25b",
   "metadata": {},
   "outputs": [],
   "source": [
    "@cache\n",
    "def line_arrangements(line, clues):\n",
    "    if len(clues) == 0:\n",
    "        if \"#\" in line:\n",
    "            return 0\n",
    "        return 1\n",
    "    if sum(clues) + len(clues) - 1 > len(line):\n",
    "        return 0\n",
    "    if len(clues) == 1:\n",
    "        clue = clues[0]\n",
    "        line = \".\" + line + \".\"\n",
    "        arr = 0\n",
    "        for pos in range(1, len(line) - clue):\n",
    "            if \"#\" not in line[:pos] and \"#\" not in line[pos + clue:] and \".\" not in line[pos:pos + clue]:\n",
    "                arr += 1\n",
    "        return arr\n",
    "    # use the middle clue as a pivot\n",
    "    pivot = len(clues) // 2\n",
    "    left_clues = clues[:pivot]\n",
    "    leftmost_pos = leftmost(line, left_clues)\n",
    "    if leftmost_pos is None:\n",
    "        return 0\n",
    "    right_clues = clues[pivot + 1:]\n",
    "    rightmost_pos = rightmost(line, right_clues)\n",
    "    if rightmost_pos is None:\n",
    "        return 0\n",
    "    clue = clues[pivot]\n",
    "    arr = 0\n",
    "    for pos in range(leftmost_pos, rightmost_pos + 1):\n",
    "        if possible(line, clue, pos):\n",
    "            left_arrangements = line_arrangements(line[:max(pos - 1, 0)], left_clues)\n",
    "            if left_arrangements:\n",
    "                arr += left_arrangements * line_arrangements(line[pos + clue + 1:], right_clues)\n",
    "    return arr"
   ]
  },
  {
   "cell_type": "code",
   "execution_count": null,
   "id": "71e97db1-43ea-40ad-811e-79023c340d65",
   "metadata": {},
   "outputs": [],
   "source": [
    "def arrangements(data, repeat=1):\n",
    "    arr = 0\n",
    "    for line in data.splitlines():\n",
    "        m, c = line.split(\" \")\n",
    "        clues = tuple(int(v) for v in c.split(\",\"))\n",
    "        arr += line_arrangements(\"?\".join([m] * repeat), clues * repeat)\n",
    "    return arr"
   ]
  },
  {
   "cell_type": "code",
   "execution_count": null,
   "id": "9d0e9143-9dd3-453f-9d86-e415da87425d",
   "metadata": {},
   "outputs": [],
   "source": [
    "check(arrangements, tests)\n",
    "arrangements(data)"
   ]
  },
  {
   "cell_type": "markdown",
   "id": "3386658c-9811-4824-8fcf-59521344d102",
   "metadata": {},
   "source": [
    "# Part 2"
   ]
  },
  {
   "cell_type": "code",
   "execution_count": null,
   "id": "ae039850-618b-49d4-b4e6-12ec03a2cf54",
   "metadata": {},
   "outputs": [],
   "source": [
    "check(arrangements, tests, 2, repeat=5)\n",
    "arrangements(data, repeat=5)"
   ]
  }
 ],
 "metadata": {
  "language_info": {
   "codemirror_mode": {
    "name": "ipython"
   },
   "file_extension": ".py",
   "mimetype": "text/x-python",
   "name": "python",
   "nbconvert_exporter": "python"
  }
 },
 "nbformat": 4,
 "nbformat_minor": 5
}

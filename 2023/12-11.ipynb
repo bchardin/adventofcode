{
 "cells": [
  {
   "cell_type": "code",
   "execution_count": null,
   "id": "b1c54780-c55e-4507-990a-8a3a579e40df",
   "metadata": {},
   "outputs": [],
   "source": [
    "import os\n",
    "import sys\n",
    "\n",
    "sys.path.insert(0, os.path.abspath(\"../utils\"))\n",
    "from aoc_utils import load_data, check"
   ]
  },
  {
   "cell_type": "code",
   "execution_count": null,
   "id": "5afdd8a8-e631-40bb-ad15-dc88f30aef9c",
   "metadata": {},
   "outputs": [],
   "source": [
    "from itertools import combinations"
   ]
  },
  {
   "cell_type": "code",
   "execution_count": null,
   "id": "8bc8812c-d42b-4edc-893b-74124047aa6d",
   "metadata": {},
   "outputs": [],
   "source": [
    "data = load_data(2023, 11)"
   ]
  },
  {
   "cell_type": "code",
   "execution_count": null,
   "id": "661e1822-ff0f-4a87-a4a9-ffbd4aeb36a2",
   "metadata": {},
   "outputs": [],
   "source": [
    "# data, part_1, part_2\n",
    "tests = [\n",
    "    (\n",
    "        \"\"\"...#......\n",
    ".......#..\n",
    "#.........\n",
    "..........\n",
    "......#...\n",
    ".#........\n",
    ".........#\n",
    "..........\n",
    ".......#..\n",
    "#...#.....\n",
    "\"\"\",\n",
    "        374,\n",
    "        1030,\n",
    "    ),\n",
    "]"
   ]
  },
  {
   "cell_type": "markdown",
   "id": "e3a0e91e-2dd3-4cfe-897d-6869e1ec01e5",
   "metadata": {},
   "source": [
    "# Part 1"
   ]
  },
  {
   "cell_type": "code",
   "execution_count": null,
   "id": "c2a7e407-9a67-43b8-b932-71e46cfd827e",
   "metadata": {},
   "outputs": [],
   "source": [
    "def find_stars(data):\n",
    "    stars = set()\n",
    "    empty_lines = set()\n",
    "    empty_rows = set(range(len(data.splitlines()[0])))\n",
    "    for y, line in enumerate(data.splitlines()):\n",
    "        has_stars = False\n",
    "        for x, c in enumerate(line):\n",
    "            if c == \"#\":\n",
    "                empty_rows -= {x}\n",
    "                stars.add((x, y))\n",
    "                has_stars = True\n",
    "        if not has_stars:\n",
    "            empty_lines.add(y)\n",
    "    return stars, empty_lines, empty_rows"
   ]
  },
  {
   "cell_type": "code",
   "execution_count": null,
   "id": "2a2aca20-89ec-48fc-a5c2-619a5b64a751",
   "metadata": {},
   "outputs": [],
   "source": [
    "def sum_distances(data, expansion=2):\n",
    "    stars, empty_lines, empty_rows = find_stars(data)\n",
    "    sum_ = 0\n",
    "    for (x1, y1), (x2, y2) in combinations(stars, 2):\n",
    "        x1, x2 = sorted((x1, x2))\n",
    "        y1, y2 = sorted((y1, y2))\n",
    "        exp_rows = len({x for x in empty_rows if x1 < x < x2})\n",
    "        exp_lines = len({y for y in empty_lines if y1 < y < y2})\n",
    "        sum_ += x2 - x1 + y2 - y1 + (expansion - 1) * (exp_rows + exp_lines)\n",
    "    return sum_"
   ]
  },
  {
   "cell_type": "code",
   "execution_count": null,
   "id": "9d0e9143-9dd3-453f-9d86-e415da87425d",
   "metadata": {},
   "outputs": [],
   "source": [
    "check(sum_distances, tests)\n",
    "sum_distances(data)"
   ]
  },
  {
   "cell_type": "markdown",
   "id": "3386658c-9811-4824-8fcf-59521344d102",
   "metadata": {},
   "source": [
    "# Part 2"
   ]
  },
  {
   "cell_type": "code",
   "execution_count": null,
   "id": "ae039850-618b-49d4-b4e6-12ec03a2cf54",
   "metadata": {},
   "outputs": [],
   "source": [
    "check(sum_distances, tests, 2, expansion=10)\n",
    "sum_distances(data, 1000000)"
   ]
  }
 ],
 "metadata": {
  "language_info": {
   "codemirror_mode": {
    "name": "ipython"
   },
   "file_extension": ".py",
   "mimetype": "text/x-python",
   "name": "python",
   "nbconvert_exporter": "python"
  }
 },
 "nbformat": 4,
 "nbformat_minor": 5
}

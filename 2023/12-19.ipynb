{
 "cells": [
  {
   "cell_type": "code",
   "execution_count": null,
   "id": "fed8fc3a-d4d8-4590-9a49-f56ecbf5de4f",
   "metadata": {},
   "outputs": [],
   "source": [
    "import os\n",
    "import sys\n",
    "\n",
    "sys.path.insert(0, os.path.abspath(\"../utils\"))\n",
    "from aoc_utils import load_data, check"
   ]
  },
  {
   "cell_type": "code",
   "execution_count": null,
   "id": "61e9a07b-047f-4319-9d0a-870b2c0c4ad8",
   "metadata": {},
   "outputs": [],
   "source": [
    "import math\n",
    "import pyparsing as pp"
   ]
  },
  {
   "cell_type": "code",
   "execution_count": null,
   "id": "61342c74-6c06-4600-af0d-879fe0b0eda7",
   "metadata": {},
   "outputs": [],
   "source": [
    "data = load_data(2023, 19)"
   ]
  },
  {
   "cell_type": "code",
   "execution_count": null,
   "id": "661e1822-ff0f-4a87-a4a9-ffbd4aeb36a2",
   "metadata": {},
   "outputs": [],
   "source": [
    "# data, part_1, part_2\n",
    "tests = [\n",
    "    (\n",
    "        \"\"\"px{a<2006:qkq,m>2090:A,rfg}\n",
    "pv{a>1716:R,A}\n",
    "lnx{m>1548:A,A}\n",
    "rfg{s<537:gd,x>2440:R,A}\n",
    "qs{s>3448:A,lnx}\n",
    "qkq{x<1416:A,crn}\n",
    "crn{x>2662:A,R}\n",
    "in{s<1351:px,qqz}\n",
    "qqz{s>2770:qs,m<1801:hdj,R}\n",
    "gd{a>3333:R,R}\n",
    "hdj{m>838:A,pv}\n",
    "\n",
    "{x=787,m=2655,a=1222,s=2876}\n",
    "{x=1679,m=44,a=2067,s=496}\n",
    "{x=2036,m=264,a=79,s=2244}\n",
    "{x=2461,m=1339,a=466,s=291}\n",
    "{x=2127,m=1623,a=2188,s=1013}\"\"\",\n",
    "        19114,\n",
    "        167409079868000,\n",
    "    ),\n",
    "]"
   ]
  },
  {
   "cell_type": "markdown",
   "id": "e3a0e91e-2dd3-4cfe-897d-6869e1ec01e5",
   "metadata": {},
   "source": [
    "# Part 1"
   ]
  },
  {
   "cell_type": "code",
   "execution_count": null,
   "id": "73a651c2-dca5-4bc3-aabc-1c19a28bab55",
   "metadata": {},
   "outputs": [],
   "source": [
    "def parse_workflows(data):\n",
    "    uint = pp.Word(pp.nums).set_parse_action(lambda toks: int(toks[0]))\n",
    "    label = pp.Word(pp.alphas)\n",
    "    category = pp.Or(pp.Keyword(c) for c in \"xmas\")\n",
    "    comparator = (\n",
    "        pp.Word(\">\").set_parse_action(lambda: int.__gt__)\n",
    "        | pp.Word(\"<\").set_parse_action(lambda: int.__lt__)\n",
    "    )\n",
    "    step = pp.Group(category + comparator + uint + pp.Suppress(\":\") + label) | label\n",
    "    workflow = pp.Group(\n",
    "        label\n",
    "        + pp.Suppress(\"{\")\n",
    "        + pp.Group(pp.delimited_list(step))\n",
    "        + pp.Suppress(\"}\")\n",
    "    )\n",
    "    part = pp.Dict(\n",
    "        pp.Suppress(\"{\")\n",
    "        + pp.delimited_list(pp.Group(category + pp.Suppress(\"=\") + uint))\n",
    "        + pp.Suppress(\"}\"),\n",
    "        asdict=True,\n",
    "    )\n",
    "    block = pp.Dict(pp.OneOrMore(workflow), asdict=True) + pp.Group(pp.OneOrMore(part), aslist=True)\n",
    "\n",
    "    workflows, parts = block.parse_string(data)\n",
    "    workflows[\"A\"] = [\"A\"]\n",
    "    workflows[\"R\"] = [\"R\"]\n",
    "    return workflows, parts"
   ]
  },
  {
   "cell_type": "code",
   "execution_count": null,
   "id": "941a5717-4f80-443c-9cfd-8cb6f090d598",
   "metadata": {},
   "outputs": [],
   "source": [
    "def outcome(part, workflows):\n",
    "    label, step = \"in\", 0\n",
    "    while True:\n",
    "        match workflows[label][step]:\n",
    "            case \"A\":\n",
    "                return sum(part.values())\n",
    "            case \"R\":\n",
    "                return 0\n",
    "            case category, cmp, int(threshold), next:\n",
    "                if cmp(part[category], threshold):\n",
    "                    label = next\n",
    "                    step = 0\n",
    "                else:\n",
    "                    step += 1\n",
    "            case str(next):\n",
    "                label = next\n",
    "                step = 0\n",
    "            case _:\n",
    "                raise ValueError(f\"Invalid workflow: {label, step}\")"
   ]
  },
  {
   "cell_type": "code",
   "execution_count": null,
   "id": "e2d560dc-9a80-4ba5-b4fa-f4e3f7015a5d",
   "metadata": {},
   "outputs": [],
   "source": [
    "def accepted(data):\n",
    "    workflows, parts = parse_workflows(data)\n",
    "    return sum(outcome(part, workflows) for part in parts)"
   ]
  },
  {
   "cell_type": "code",
   "execution_count": null,
   "id": "9d0e9143-9dd3-453f-9d86-e415da87425d",
   "metadata": {},
   "outputs": [],
   "source": [
    "check(accepted, tests)\n",
    "accepted(data)"
   ]
  },
  {
   "cell_type": "markdown",
   "id": "3386658c-9811-4824-8fcf-59521344d102",
   "metadata": {},
   "source": [
    "# Part 2"
   ]
  },
  {
   "cell_type": "code",
   "execution_count": null,
   "id": "df1a714d-cfbe-48e0-afd2-254fd427e588",
   "metadata": {},
   "outputs": [],
   "source": [
    "def accepted_count(workflows):\n",
    "    ranges = [({c: (1, 4000) for c in \"xmas\"}, \"in\", 0)]\n",
    "    total = 0\n",
    "    while ranges:\n",
    "        rng, label, step = ranges.pop()\n",
    "        match workflows[label][step]:\n",
    "            case \"A\":\n",
    "                total += math.prod(max_ - min_ + 1 for min_, max_ in rng.values())\n",
    "            case \"R\":\n",
    "                pass\n",
    "            case category, cmp, int(threshold), next:\n",
    "                left = (next, 0)\n",
    "                right = (label, step + 1)\n",
    "                if cmp == int.__gt__:\n",
    "                    cmp = int.__lt__\n",
    "                    threshold += 1\n",
    "                    left, right = right, left\n",
    "                min_, max_ = rng[category]\n",
    "                if cmp(min_, threshold):\n",
    "                    left_range = rng.copy()\n",
    "                    left_range[category] = min_, min(max_, threshold - 1)\n",
    "                    ranges.append((left_range, *left))\n",
    "                if not cmp(max_, threshold):\n",
    "                    right_ranges = rng.copy()\n",
    "                    right_ranges[category] = max(min_, threshold), max_\n",
    "                    ranges.append((right_ranges, *right))\n",
    "            case str(next):\n",
    "                ranges.append((rng, next, 0))\n",
    "            case _:\n",
    "                raise ValueError(f\"Invalid workflow: {label, step}\")\n",
    "    return total"
   ]
  },
  {
   "cell_type": "code",
   "execution_count": null,
   "id": "381151f2-44b8-44fa-a0bc-2aa1ccd6f197",
   "metadata": {},
   "outputs": [],
   "source": [
    "def combinations(data):\n",
    "    workflows, _ = parse_workflows(data)\n",
    "    return accepted_count(workflows)"
   ]
  },
  {
   "cell_type": "code",
   "execution_count": null,
   "id": "ae039850-618b-49d4-b4e6-12ec03a2cf54",
   "metadata": {},
   "outputs": [],
   "source": [
    "check(combinations, tests, 2)\n",
    "combinations(data)"
   ]
  }
 ],
 "metadata": {
  "language_info": {
   "codemirror_mode": {
    "name": "ipython"
   },
   "file_extension": ".py",
   "mimetype": "text/x-python",
   "name": "python",
   "nbconvert_exporter": "python"
  }
 },
 "nbformat": 4,
 "nbformat_minor": 5
}

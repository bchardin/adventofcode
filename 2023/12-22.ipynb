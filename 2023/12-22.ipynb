{
 "cells": [
  {
   "cell_type": "code",
   "execution_count": null,
   "id": "fed8fc3a-d4d8-4590-9a49-f56ecbf5de4f",
   "metadata": {},
   "outputs": [],
   "source": [
    "import os\n",
    "import sys\n",
    "\n",
    "sys.path.insert(0, os.path.abspath(\"../utils\"))\n",
    "from aoc_utils import load_data, check"
   ]
  },
  {
   "cell_type": "code",
   "execution_count": null,
   "id": "fbcbff7a-379e-4159-b509-ea1b813a990e",
   "metadata": {},
   "outputs": [],
   "source": [
    "from collections import defaultdict"
   ]
  },
  {
   "cell_type": "code",
   "execution_count": null,
   "id": "61342c74-6c06-4600-af0d-879fe0b0eda7",
   "metadata": {},
   "outputs": [],
   "source": [
    "data = load_data(2023, 22)"
   ]
  },
  {
   "cell_type": "code",
   "execution_count": null,
   "id": "661e1822-ff0f-4a87-a4a9-ffbd4aeb36a2",
   "metadata": {},
   "outputs": [],
   "source": [
    "# data, part_1, part_2\n",
    "tests = [\n",
    "    (\n",
    "        \"\"\"1,0,1~1,2,1\n",
    "0,0,2~2,0,2\n",
    "0,2,3~2,2,3\n",
    "0,0,4~0,2,4\n",
    "2,0,5~2,2,5\n",
    "0,1,6~2,1,6\n",
    "1,1,8~1,1,9\"\"\",\n",
    "        5,\n",
    "        7,\n",
    "    ),\n",
    "]"
   ]
  },
  {
   "cell_type": "markdown",
   "id": "e3a0e91e-2dd3-4cfe-897d-6869e1ec01e5",
   "metadata": {},
   "source": [
    "# Part 1"
   ]
  },
  {
   "cell_type": "code",
   "execution_count": null,
   "id": "9f3519c2-6a5f-4c83-b161-0228e46a4306",
   "metadata": {},
   "outputs": [],
   "source": [
    "def get_bricks(data):\n",
    "    \"\"\"Retrieve bricks from the input.\n",
    "\n",
    "    Parameters\n",
    "    ----------\n",
    "    data : str\n",
    "        The puzzle input.\n",
    "\n",
    "    Returns\n",
    "    -------\n",
    "    bricks : dict[int, tuple[int, int] * 3]\n",
    "        The falling bricks.\n",
    "        Keys are block ids.\n",
    "        Values are (xmin, xmax), (ymin, ymax), (zmin, zmax).\n",
    "    order : list[int]\n",
    "        Block ids sorted by increasing height.\n",
    "    xrange, yrange : range\n",
    "        The projected ground ranges of the falling area.\n",
    "    \"\"\"\n",
    "    bricks = {}\n",
    "    xs = set()\n",
    "    ys = set()\n",
    "    for idx, line in enumerate(data.splitlines(), start=1):\n",
    "        x1, y1, z1, x2, y2, z2 = [int(v) for v in line.replace(\"~\", \",\").split(\",\")]\n",
    "        xs |= {x1, x2}\n",
    "        ys |= {y1, y2}\n",
    "        bricks[idx] = (x1, x2), (y1, y2), (z1, z2)\n",
    "\n",
    "    return (\n",
    "        bricks,\n",
    "        sorted(bricks.keys(), key=lambda idx: bricks[idx][2][0]),\n",
    "        range(min(xs), max(xs) + 1),\n",
    "        range(min(ys), max(ys) + 1),\n",
    "    )"
   ]
  },
  {
   "cell_type": "code",
   "execution_count": null,
   "id": "9e2d197b-1a51-4be2-b4cf-a44220ccd84d",
   "metadata": {},
   "outputs": [],
   "source": [
    "def fall(bricks, order, xrange, yrange):\n",
    "    \"\"\"Let gravity do its work.\n",
    "\n",
    "    Parameters\n",
    "    ----------\n",
    "    bricks, order, xrange, yrange :\n",
    "        The output of get_bricks.\n",
    "\n",
    "    Returns\n",
    "    -------\n",
    "    safe_to_remove : set[int]\n",
    "        The bricks than are not the unique support of another.\n",
    "    support : dict[int, set[int]]\n",
    "        The vertical adjacency relation.\n",
    "        Entry A : {B, C} means that brick A supports bricks B and C.\n",
    "        There are no uniqueness constraints in support.\n",
    "    \"\"\"\n",
    "    heights = {}\n",
    "    tops = {}\n",
    "    support = defaultdict(set)\n",
    "    safe_to_remove = set(bricks)\n",
    "    for x in xrange:\n",
    "        for y in yrange:\n",
    "            heights[x, y] = 0\n",
    "            tops[x, y] = 0\n",
    "    for idx in order:\n",
    "        (x1, x2), (y1, y2), (z1, z2) = bricks[idx]\n",
    "        maxz = 0\n",
    "        top_bricks = set()\n",
    "        for x in range(x1, x2 + 1):\n",
    "            for y in range(y1, y2 + 1):\n",
    "                z = heights[x, y]\n",
    "                if z > maxz:\n",
    "                    maxz = z\n",
    "                    top_bricks = {tops[x, y]}\n",
    "                elif z == maxz:\n",
    "                    top_bricks.add(tops[x, y])\n",
    "        for brick in top_bricks - {0}:\n",
    "            support[brick].add(idx)\n",
    "        if len(top_bricks) == 1:\n",
    "            safe_to_remove -= top_bricks\n",
    "        for x in range(x1, x2 + 1):\n",
    "            for y in range(y1, y2 + 1):\n",
    "                heights[x, y] = maxz + z2 - z1 + 1\n",
    "                tops[x, y] = idx\n",
    "    return safe_to_remove, support"
   ]
  },
  {
   "cell_type": "code",
   "execution_count": null,
   "id": "a4b632b3-bdba-4f89-baaa-43caaaca9035",
   "metadata": {},
   "outputs": [],
   "source": [
    "def safe_to_remove(data):\n",
    "    safe_to_remove, _ = fall(*get_bricks(data))\n",
    "    return len(safe_to_remove)"
   ]
  },
  {
   "cell_type": "code",
   "execution_count": null,
   "id": "9d0e9143-9dd3-453f-9d86-e415da87425d",
   "metadata": {},
   "outputs": [],
   "source": [
    "check(safe_to_remove, tests)\n",
    "safe_to_remove(data)"
   ]
  },
  {
   "cell_type": "markdown",
   "id": "3386658c-9811-4824-8fcf-59521344d102",
   "metadata": {},
   "source": [
    "# Part 2"
   ]
  },
  {
   "cell_type": "code",
   "execution_count": null,
   "id": "26016a51-dd23-4c5e-a0f1-189228c9ef50",
   "metadata": {},
   "outputs": [],
   "source": [
    "def chain_reactions(data):\n",
    "    \"\"\"Sum chain reactions lengths.\"\"\"\n",
    "    _, support = fall(*get_bricks(data))\n",
    "\n",
    "    # invert the support dictionary\n",
    "    resting = defaultdict(set)\n",
    "    for block in support:\n",
    "        for other in support[block]:\n",
    "            resting[other].add(block)\n",
    "\n",
    "    s = 0\n",
    "    for brick in support:\n",
    "        to_remove = {brick}\n",
    "        candidates = list(support[brick])\n",
    "        while candidates:\n",
    "            candidate = candidates.pop()\n",
    "            # at this point, we might miss a block supported by multiple\n",
    "            # intermediate blocks, but it will be added back later\n",
    "            if not resting[candidate] - to_remove:\n",
    "                to_remove.add(candidate)\n",
    "                if candidate in support:\n",
    "                    candidates += support[candidate]\n",
    "        s += len(to_remove) - 1\n",
    "    return s"
   ]
  },
  {
   "cell_type": "code",
   "execution_count": null,
   "id": "ae039850-618b-49d4-b4e6-12ec03a2cf54",
   "metadata": {},
   "outputs": [],
   "source": [
    "check(chain_reactions, tests, 2)\n",
    "chain_reactions(data)"
   ]
  }
 ],
 "metadata": {
  "language_info": {
   "codemirror_mode": {
    "name": "ipython"
   },
   "file_extension": ".py",
   "mimetype": "text/x-python",
   "name": "python",
   "nbconvert_exporter": "python"
  }
 },
 "nbformat": 4,
 "nbformat_minor": 5
}

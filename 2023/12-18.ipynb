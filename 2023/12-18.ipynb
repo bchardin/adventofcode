{
 "cells": [
  {
   "cell_type": "code",
   "execution_count": null,
   "id": "fed8fc3a-d4d8-4590-9a49-f56ecbf5de4f",
   "metadata": {},
   "outputs": [],
   "source": [
    "import os\n",
    "import sys\n",
    "\n",
    "sys.path.insert(0, os.path.abspath(\"../utils\"))\n",
    "from aoc_utils import load_data, check"
   ]
  },
  {
   "cell_type": "code",
   "execution_count": null,
   "id": "61342c74-6c06-4600-af0d-879fe0b0eda7",
   "metadata": {},
   "outputs": [],
   "source": [
    "data = load_data(2023, 18)"
   ]
  },
  {
   "cell_type": "code",
   "execution_count": null,
   "id": "661e1822-ff0f-4a87-a4a9-ffbd4aeb36a2",
   "metadata": {},
   "outputs": [],
   "source": [
    "# data, part_1, part_2\n",
    "tests = [\n",
    "    (\n",
    "        \"\"\"R 6 (#70c710)\n",
    "D 5 (#0dc571)\n",
    "L 2 (#5713f0)\n",
    "D 2 (#d2c081)\n",
    "R 2 (#59c680)\n",
    "D 2 (#411b91)\n",
    "L 5 (#8ceee2)\n",
    "U 2 (#caa173)\n",
    "L 1 (#1b58a2)\n",
    "U 2 (#caa171)\n",
    "R 2 (#7807d2)\n",
    "U 3 (#a77fa3)\n",
    "L 2 (#015232)\n",
    "U 2 (#7a21e3)\"\"\",\n",
    "        62,\n",
    "        952408144115,\n",
    "    ),\n",
    "    (\n",
    "        \"\"\"L 6 (#70c710)\n",
    "D 5 (#0dc571)\n",
    "R 2 (#5713f0)\n",
    "D 2 (#d2c081)\n",
    "L 2 (#59c680)\n",
    "D 2 (#411b91)\n",
    "R 5 (#8ceee2)\n",
    "U 2 (#caa173)\n",
    "R 1 (#1b58a2)\n",
    "U 2 (#caa171)\n",
    "L 2 (#7807d2)\n",
    "U 3 (#a77fa3)\n",
    "R 2 (#015232)\n",
    "U 2 (#7a21e3)\"\"\",\n",
    "        62,\n",
    "        None,\n",
    "    ),\n",
    "]"
   ]
  },
  {
   "cell_type": "markdown",
   "id": "e3a0e91e-2dd3-4cfe-897d-6869e1ec01e5",
   "metadata": {},
   "source": [
    "# Part 1"
   ]
  },
  {
   "cell_type": "code",
   "execution_count": null,
   "id": "ba510ea8-b8ee-461b-ba87-e1de0a156eb7",
   "metadata": {},
   "outputs": [],
   "source": [
    "def area(polygon):\n",
    "    \"\"\"Shoelace formula for integer values.\"\"\"\n",
    "    sum_ = 0\n",
    "    for (x1, y1), (x2, y2) in zip(polygon, polygon[1:] + polygon[:1]):\n",
    "        sum_ += (x1 + x2) * (y1 - y2)\n",
    "    assert sum_ % 2 == 0\n",
    "    return abs(sum_) // 2"
   ]
  },
  {
   "cell_type": "code",
   "execution_count": null,
   "id": "6eb3bb07-9064-4fdc-932d-1fe41e8f88b1",
   "metadata": {},
   "outputs": [],
   "source": [
    "def dig_plan(data):\n",
    "    DIRECTIONS = {\"R\": (1, 0), \"D\": (0, 1), \"L\": (-1, 0), \"U\": (0, -1)}\n",
    "    dirs = []\n",
    "    lengths = []\n",
    "    for line in data.splitlines():\n",
    "        direction, length, _ = line.split(\" \")\n",
    "        dirs.append(DIRECTIONS[direction])\n",
    "        lengths.append(int(length))\n",
    "    return dirs, lengths"
   ]
  },
  {
   "cell_type": "code",
   "execution_count": null,
   "id": "c3b82003-1b2d-41df-be57-91d62bcdca2d",
   "metadata": {},
   "outputs": [],
   "source": [
    "def dig(data, plan=dig_plan):\n",
    "    dirs, lengths = plan(data)\n",
    "    x, y = 0, 0\n",
    "    poly = []\n",
    "    for (dx, dy), length in zip(dirs, lengths):\n",
    "        poly.append((x, y))\n",
    "        x += length * dx\n",
    "        y += length * dy\n",
    "    # the dig plan should get us back to the origin\n",
    "    assert (x, y) == (0, 0)\n",
    "    assert sum(lengths) % 2 == 0\n",
    "    return area(poly) + sum(lengths) // 2 + 1"
   ]
  },
  {
   "cell_type": "code",
   "execution_count": null,
   "id": "9d0e9143-9dd3-453f-9d86-e415da87425d",
   "metadata": {},
   "outputs": [],
   "source": [
    "check(dig, tests)\n",
    "dig(data)"
   ]
  },
  {
   "cell_type": "markdown",
   "id": "3386658c-9811-4824-8fcf-59521344d102",
   "metadata": {},
   "source": [
    "# Part 2"
   ]
  },
  {
   "cell_type": "code",
   "execution_count": null,
   "id": "939954ca-2945-46d2-8eb7-9f0276ed1190",
   "metadata": {},
   "outputs": [],
   "source": [
    "def swapped_dig_plan(data):\n",
    "    DIRECTIONS = {\"0\": (1, 0), \"1\": (0, 1), \"2\": (-1, 0), \"3\": (0, -1)}\n",
    "    dirs = []\n",
    "    lengths = []\n",
    "    for line in data.splitlines():\n",
    "        *_, color = line.split(\" \")\n",
    "        assert color[:2] + color[-1] == \"(#)\"\n",
    "        dirs.append(DIRECTIONS[color[-2]])\n",
    "        lengths.append(int(color[2:-2], base=16))\n",
    "    return dirs, lengths"
   ]
  },
  {
   "cell_type": "code",
   "execution_count": null,
   "id": "ae039850-618b-49d4-b4e6-12ec03a2cf54",
   "metadata": {},
   "outputs": [],
   "source": [
    "check(dig, tests, 2, plan=swapped_dig_plan)\n",
    "dig(data, plan=swapped_dig_plan)"
   ]
  }
 ],
 "metadata": {
  "language_info": {
   "codemirror_mode": {
    "name": "ipython"
   },
   "file_extension": ".py",
   "mimetype": "text/x-python",
   "name": "python",
   "nbconvert_exporter": "python"
  }
 },
 "nbformat": 4,
 "nbformat_minor": 5
}

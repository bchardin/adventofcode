{
 "cells": [
  {
   "cell_type": "code",
   "execution_count": null,
   "id": "c3247d2f-62c2-4f4f-a7e9-bfab4d32bd3b",
   "metadata": {},
   "outputs": [],
   "source": [
    "from collections import Counter\n",
    "from functools import cmp_to_key"
   ]
  },
  {
   "cell_type": "code",
   "execution_count": null,
   "id": "9a792655-0ef1-4db8-b032-d5e936a8ed42",
   "metadata": {},
   "outputs": [],
   "source": [
    "filename = \"inputs/12-07.txt\"\n",
    "with open(filename, \"r\") as f:\n",
    "    data = f.read()"
   ]
  },
  {
   "cell_type": "code",
   "execution_count": null,
   "id": "661e1822-ff0f-4a87-a4a9-ffbd4aeb36a2",
   "metadata": {},
   "outputs": [],
   "source": [
    "# data, part_1, part_2\n",
    "tests = [\n",
    "    (\n",
    "        \"\"\"32T3K 765\n",
    "T55J5 684\n",
    "KK677 28\n",
    "KTJJT 220\n",
    "QQQJA 483\"\"\",\n",
    "        6440,\n",
    "        5905,\n",
    "    ),\n",
    "    (\n",
    "        \"\"\"AKQJT 1\n",
    "AAKQJ 2\n",
    "AAKKQ 3\n",
    "AAAKQ 4\n",
    "AAAKK 5\n",
    "AAAAK 6\n",
    "AAAAA 7\"\"\",\n",
    "        140,\n",
    "        None,\n",
    "    ),\n",
    "]"
   ]
  },
  {
   "cell_type": "code",
   "execution_count": null,
   "id": "feb7413b-28f2-4ec8-bc47-5dcba8316db0",
   "metadata": {},
   "outputs": [],
   "source": [
    "def check(function, part=1, tests=tests):\n",
    "    for input, *outputs in tests:\n",
    "        output = outputs[part - 1]\n",
    "        if output is not None:\n",
    "            result = function(input)\n",
    "            assert result == output, f\"{result} == {output}\""
   ]
  },
  {
   "cell_type": "markdown",
   "id": "e3a0e91e-2dd3-4cfe-897d-6869e1ec01e5",
   "metadata": {},
   "source": [
    "# Part 1"
   ]
  },
  {
   "cell_type": "code",
   "execution_count": null,
   "id": "18441857-b35d-4882-8b50-07e32eb9512d",
   "metadata": {},
   "outputs": [],
   "source": [
    "ranks = [str(v) for v in range(2, 10)] + [\"T\", \"J\", \"Q\", \"K\", \"A\"]\n",
    "\n",
    "def score(hand):\n",
    "    return sorted(Counter(hand).values(), reverse=True)\n",
    "\n",
    "def compare(h1, h2):\n",
    "    if score(h1) < score(h2):\n",
    "        return -1\n",
    "    if score(h1) > score(h2):\n",
    "        return 1\n",
    "    for c1, c2 in zip(h1, h2):\n",
    "        if ranks.index(c1) < ranks.index(c2):\n",
    "            return -1\n",
    "        elif ranks.index(c1) > ranks.index(c2):\n",
    "            return 1\n",
    "    return 0"
   ]
  },
  {
   "cell_type": "code",
   "execution_count": null,
   "id": "62611200-1c9c-4fcc-8ee0-1dba21a0ea7c",
   "metadata": {},
   "outputs": [],
   "source": [
    "def winnings(data):\n",
    "    hands = []\n",
    "    for line in data.splitlines():\n",
    "        hand, bet = line.split(\" \")\n",
    "        hands.append((hand, int(bet)))\n",
    "    hands = sorted(hands, key=cmp_to_key(lambda t1, t2: compare(t1[0], t2[0])))\n",
    "    ret = 0\n",
    "    for pos, (h, b) in enumerate(hands):\n",
    "        ret += b * (pos + 1)\n",
    "    return ret"
   ]
  },
  {
   "cell_type": "code",
   "execution_count": null,
   "id": "9d0e9143-9dd3-453f-9d86-e415da87425d",
   "metadata": {},
   "outputs": [],
   "source": [
    "check(winnings)\n",
    "winnings(data)"
   ]
  },
  {
   "cell_type": "markdown",
   "id": "3386658c-9811-4824-8fcf-59521344d102",
   "metadata": {},
   "source": [
    "# Part 2"
   ]
  },
  {
   "cell_type": "code",
   "execution_count": null,
   "id": "24e0d0ea-e497-403e-b867-fe19cfac752e",
   "metadata": {},
   "outputs": [],
   "source": [
    "ranks = [\"J\"] + [str(v) for v in range(2, 10)] + [\"T\", \"Q\", \"K\", \"A\"]\n",
    "\n",
    "def score(hand):\n",
    "    jacks = hand.count(\"J\")\n",
    "    others = sorted(Counter(hand.replace(\"J\", \"\")).values(), reverse=True)\n",
    "    if len(others) == 0:\n",
    "        return [5]\n",
    "    others[0] += jacks\n",
    "    return others"
   ]
  },
  {
   "cell_type": "code",
   "execution_count": null,
   "id": "ae039850-618b-49d4-b4e6-12ec03a2cf54",
   "metadata": {},
   "outputs": [],
   "source": [
    "check(winnings, 2)\n",
    "winnings(data)"
   ]
  }
 ],
 "metadata": {
  "language_info": {
   "codemirror_mode": {
    "name": "ipython"
   },
   "file_extension": ".py",
   "mimetype": "text/x-python",
   "name": "python",
   "nbconvert_exporter": "python"
  }
 },
 "nbformat": 4,
 "nbformat_minor": 5
}

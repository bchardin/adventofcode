{
 "cells": [
  {
   "cell_type": "code",
   "execution_count": null,
   "id": "57f095f1-435b-464c-922a-860adb500bc8",
   "metadata": {},
   "outputs": [],
   "source": [
    "import os\n",
    "import sys\n",
    "\n",
    "sys.path.insert(0, os.path.abspath(\"../utils\"))\n",
    "from aoc_utils import load_data, check"
   ]
  },
  {
   "cell_type": "code",
   "execution_count": null,
   "id": "c3247d2f-62c2-4f4f-a7e9-bfab4d32bd3b",
   "metadata": {},
   "outputs": [],
   "source": [
    "import re\n",
    "import math"
   ]
  },
  {
   "cell_type": "code",
   "execution_count": null,
   "id": "a8ee1009-3f2f-4395-96b1-8e9945efdbf4",
   "metadata": {},
   "outputs": [],
   "source": [
    "data = load_data(2023, 6)"
   ]
  },
  {
   "cell_type": "code",
   "execution_count": null,
   "id": "661e1822-ff0f-4a87-a4a9-ffbd4aeb36a2",
   "metadata": {},
   "outputs": [],
   "source": [
    "# data, part_1, part_2\n",
    "tests = [\n",
    "    (\n",
    "        \"\"\"Time:      7  15   30\n",
    "Distance:  9  40  200\"\"\",\n",
    "        288,\n",
    "        71503,\n",
    "    ),\n",
    "]"
   ]
  },
  {
   "cell_type": "markdown",
   "id": "e3a0e91e-2dd3-4cfe-897d-6869e1ec01e5",
   "metadata": {},
   "source": [
    "# Part 1"
   ]
  },
  {
   "cell_type": "code",
   "execution_count": null,
   "id": "0e383304-79e6-455a-b1b9-ac2a06acd87f",
   "metadata": {},
   "outputs": [],
   "source": [
    "def winning_distances(n, thr):\n",
    "    thr = thr + 0.1\n",
    "    x1 = math.ceil((n - math.sqrt(n * n - 4 * thr))/2)\n",
    "    x2 = math.floor((n + math.sqrt(n * n - 4 * thr))/2)\n",
    "    return x2 - x1 + 1"
   ]
  },
  {
   "cell_type": "code",
   "execution_count": null,
   "id": "ac6fb949-f673-460d-9025-35dffc31d6b7",
   "metadata": {},
   "outputs": [],
   "source": [
    "def margin(data):\n",
    "    time_str, dist_str, *_ = data.splitlines()\n",
    "    times = re.findall(r\"\\d+\", time_str)\n",
    "    times = [int(t) for t in times]\n",
    "    distances = re.findall(r\"\\d+\", dist_str)\n",
    "    distances = [int(d) for d in distances]\n",
    "    prod = 1\n",
    "    for time, dist in zip(times, distances):\n",
    "        prod *= winning_distances(time, dist)\n",
    "    return prod"
   ]
  },
  {
   "cell_type": "code",
   "execution_count": null,
   "id": "9d0e9143-9dd3-453f-9d86-e415da87425d",
   "metadata": {},
   "outputs": [],
   "source": [
    "check(margin, tests)\n",
    "margin(data)"
   ]
  },
  {
   "cell_type": "markdown",
   "id": "3386658c-9811-4824-8fcf-59521344d102",
   "metadata": {},
   "source": [
    "# Part 2"
   ]
  },
  {
   "cell_type": "code",
   "execution_count": null,
   "id": "0a497d03-d8a7-4659-9d1f-5453deebc72f",
   "metadata": {},
   "outputs": [],
   "source": [
    "def margin(data):\n",
    "    time_str, dist_str, *_ = data.splitlines()\n",
    "    times = re.findall(r\"\\d+\", time_str)\n",
    "    time = int(\"\".join(times))\n",
    "    distances = re.findall(r\"\\d+\", dist_str)\n",
    "    distance = int(\"\".join(distances))\n",
    "    return winning_distances(time, distance)"
   ]
  },
  {
   "cell_type": "code",
   "execution_count": null,
   "id": "ae039850-618b-49d4-b4e6-12ec03a2cf54",
   "metadata": {},
   "outputs": [],
   "source": [
    "check(margin, tests, 2)\n",
    "margin(data)"
   ]
  }
 ],
 "metadata": {
  "language_info": {
   "codemirror_mode": {
    "name": "ipython"
   },
   "file_extension": ".py",
   "mimetype": "text/x-python",
   "name": "python",
   "nbconvert_exporter": "python"
  }
 },
 "nbformat": 4,
 "nbformat_minor": 5
}

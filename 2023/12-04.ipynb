{
 "cells": [
  {
   "cell_type": "code",
   "execution_count": null,
   "id": "c3247d2f-62c2-4f4f-a7e9-bfab4d32bd3b",
   "metadata": {},
   "outputs": [],
   "source": [
    "import pyparsing as pp"
   ]
  },
  {
   "cell_type": "code",
   "execution_count": null,
   "id": "9a792655-0ef1-4db8-b032-d5e936a8ed42",
   "metadata": {},
   "outputs": [],
   "source": [
    "filename = \"inputs/12-04.txt\"\n",
    "with open(filename, \"r\") as f:\n",
    "    data = f.read()"
   ]
  },
  {
   "cell_type": "code",
   "execution_count": null,
   "id": "661e1822-ff0f-4a87-a4a9-ffbd4aeb36a2",
   "metadata": {},
   "outputs": [],
   "source": [
    "# data, part_1, part_2\n",
    "tests = [\n",
    "    (\n",
    "        \"\"\"Card 1: 41 48 83 86 17 | 83 86  6 31 17  9 48 53\n",
    "Card 2: 13 32 20 16 61 | 61 30 68 82 17 32 24 19\n",
    "Card 3:  1 21 53 59 44 | 69 82 63 72 16 21 14  1\n",
    "Card 4: 41 92 73 84 69 | 59 84 76 51 58  5 54 83\n",
    "Card 5: 87 83 26 28 32 | 88 30 70 12 93 22 82 36\n",
    "Card 6: 31 18 13 56 72 | 74 77 10 23 35 67 36 11\"\"\",\n",
    "        13,\n",
    "        30,\n",
    "    ),\n",
    "]"
   ]
  },
  {
   "cell_type": "code",
   "execution_count": null,
   "id": "298139a9-5587-41d1-8044-e553bf7a8b31",
   "metadata": {},
   "outputs": [],
   "source": [
    "def check(function, part=1, tests=tests):\n",
    "    for input, *outputs in tests:\n",
    "        output = outputs[part - 1]\n",
    "        if output is not None:\n",
    "            result = function(input)\n",
    "            assert result == output, f\"{result} == {output}\""
   ]
  },
  {
   "cell_type": "markdown",
   "id": "e3a0e91e-2dd3-4cfe-897d-6869e1ec01e5",
   "metadata": {},
   "source": [
    "# Part 1"
   ]
  },
  {
   "cell_type": "code",
   "execution_count": null,
   "id": "c2a7e407-9a67-43b8-b932-71e46cfd827e",
   "metadata": {},
   "outputs": [],
   "source": [
    "uint = pp.Word(pp.nums).set_parse_action(lambda toks: int(toks[0]))\n",
    "game = pp.Suppress(\"Card\") + uint(\"card_id\") + pp.Suppress(\":\")\n",
    "nums_exp = pp.Group(pp.OneOrMore(uint))\n",
    "line_expr = game + nums_exp + pp.Suppress(\"|\") + nums_exp"
   ]
  },
  {
   "cell_type": "code",
   "execution_count": null,
   "id": "91b80eaf-f38b-4546-9000-e8954759a1c4",
   "metadata": {},
   "outputs": [],
   "source": [
    "def parse_card(line):\n",
    "    gameid, winning_nums, selected_nums = line_expr.parse_string(line)\n",
    "    winning_nums = set(winning_nums.as_list())\n",
    "    selected_nums = set(selected_nums.as_list())\n",
    "    score = int(2 ** (len(winning_nums.intersection(selected_nums)) - 1))\n",
    "    return score"
   ]
  },
  {
   "cell_type": "code",
   "execution_count": null,
   "id": "ec632422-d029-4189-8337-0da345d426e1",
   "metadata": {},
   "outputs": [],
   "source": [
    "def points(data):\n",
    "    return sum([parse_card(line) for line in data.splitlines()])"
   ]
  },
  {
   "cell_type": "code",
   "execution_count": null,
   "id": "3ad9c072-8656-4f4f-b51e-1f862d3c24bd",
   "metadata": {},
   "outputs": [],
   "source": [
    "check(points)\n",
    "points(data)"
   ]
  },
  {
   "cell_type": "markdown",
   "id": "b65b87e2-1edc-4d43-8327-345ca363b28c",
   "metadata": {},
   "source": [
    "# Part 2"
   ]
  },
  {
   "cell_type": "code",
   "execution_count": null,
   "id": "65dabc31-d792-470f-ae33-84accbe3bf47",
   "metadata": {},
   "outputs": [],
   "source": [
    "def scratchcards(data):\n",
    "    cards = []\n",
    "    for line in data.splitlines():\n",
    "        gameid, winning_nums, selected_nums = line_expr.parse_string(line)\n",
    "        winning_nums = set(winning_nums.as_list())\n",
    "        selected_nums = set(selected_nums.as_list())\n",
    "        cards.append(len(winning_nums.intersection(selected_nums)))\n",
    "\n",
    "    qty = [1] * len(cards)\n",
    "    for idx, card in enumerate(cards):\n",
    "        for i in range(card):\n",
    "            qty[idx + i + 1] += qty[idx]\n",
    "    return sum(qty)"
   ]
  },
  {
   "cell_type": "code",
   "execution_count": null,
   "id": "dd93d66e-8d82-4440-9446-4f352bf5af32",
   "metadata": {},
   "outputs": [],
   "source": [
    "check(scratchcards, 2)\n",
    "scratchcards(data)"
   ]
  }
 ],
 "metadata": {
  "language_info": {
   "codemirror_mode": {
    "name": "ipython"
   },
   "file_extension": ".py",
   "mimetype": "text/x-python",
   "name": "python",
   "nbconvert_exporter": "python"
  }
 },
 "nbformat": 4,
 "nbformat_minor": 5
}

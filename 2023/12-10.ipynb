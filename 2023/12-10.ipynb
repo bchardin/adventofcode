{
 "cells": [
  {
   "cell_type": "code",
   "execution_count": null,
   "id": "94cc8f51-3460-45b1-9345-c1a870624458",
   "metadata": {},
   "outputs": [],
   "source": [
    "import os\n",
    "import sys\n",
    "\n",
    "sys.path.insert(0, os.path.abspath(\"../utils\"))\n",
    "from aoc_utils import load_data, check"
   ]
  },
  {
   "cell_type": "code",
   "execution_count": null,
   "id": "a97d04af-4815-4a72-9992-57c159890620",
   "metadata": {},
   "outputs": [],
   "source": [
    "from collections import abc"
   ]
  },
  {
   "cell_type": "code",
   "execution_count": null,
   "id": "426ce1f6-4d01-4a12-9f5e-3622bd2abdaa",
   "metadata": {},
   "outputs": [],
   "source": [
    "data = load_data(2023, 10)"
   ]
  },
  {
   "cell_type": "code",
   "execution_count": null,
   "id": "661e1822-ff0f-4a87-a4a9-ffbd4aeb36a2",
   "metadata": {},
   "outputs": [],
   "source": [
    "# data, part_1, part_2\n",
    "tests = [\n",
    "    (\n",
    "        \"\"\".....\n",
    ".S-7.\n",
    ".|.|.\n",
    ".L-J.\n",
    ".....\"\"\",\n",
    "        4,\n",
    "        None,\n",
    "    ),\n",
    "    (\n",
    "        \"\"\"..F7.\n",
    ".FJ|.\n",
    "SJ.L7\n",
    "|F--J\n",
    "LJ...\"\"\",\n",
    "        8,\n",
    "        None,\n",
    "    ),\n",
    "    (\n",
    "        \"\"\"7-F7-\n",
    ".FJ|7\n",
    "SJLL7\n",
    "|F--J\n",
    "LJ.LJ\"\"\",\n",
    "        8,\n",
    "        None,\n",
    "    ),\n",
    "    (\n",
    "        \"\"\"...........\n",
    ".S-------7.\n",
    ".|F-----7|.\n",
    ".||.....||.\n",
    ".||.....||.\n",
    ".|L-7.F-J|.\n",
    ".|..|.|..|.\n",
    ".L--J.L--J.\n",
    "...........\"\"\",\n",
    "        None,\n",
    "        4,\n",
    "    ),\n",
    "    (\n",
    "        \"\"\".F----7F7F7F7F-7....\n",
    ".|F--7||||||||FJ....\n",
    ".||.FJ||||||||L7....\n",
    "FJL7L7LJLJ||LJ.L-7..\n",
    "L--J.L7...LJS7F-7L7.\n",
    "....F-J..F7FJ|L7L7L7\n",
    "....L7.F7||L7|.L7L7|\n",
    ".....|FJLJ|FJ|F7|.LJ\n",
    "....FJL-7.||.||||...\n",
    "....L---J.LJ.LJLJ...\"\"\",\n",
    "        None,\n",
    "        8,\n",
    "    ),\n",
    "    (\n",
    "        \"\"\"FF7FSF7F7F7F7F7F---7\n",
    "L|LJ||||||||||||F--J\n",
    "FL-7LJLJ||||||LJL-77\n",
    "F--JF--7||LJLJ7F7FJ-\n",
    "L---JF-JLJ.||-FJLJJ7\n",
    "|F|F-JF---7F7-L7L|7|\n",
    "|FFJF7L7F-JF7|JL---7\n",
    "7-L-JL7||F7|L7F-7F7|\n",
    "L.L7LFJ|||||FJL7||LJ\n",
    "L7JLJL-JLJLJL--JLJ.L\"\"\",\n",
    "        None,\n",
    "        10,\n",
    "    ),\n",
    "]"
   ]
  },
  {
   "cell_type": "markdown",
   "id": "e3a0e91e-2dd3-4cfe-897d-6869e1ec01e5",
   "metadata": {},
   "source": [
    "# Part 1"
   ]
  },
  {
   "cell_type": "code",
   "execution_count": null,
   "id": "1e3a393e-a6f8-43f3-8295-b517dc1952de",
   "metadata": {},
   "outputs": [],
   "source": [
    "def get_maze(data):\n",
    "    maze = data.splitlines()\n",
    "    walled_maze = []\n",
    "    for line in maze:\n",
    "        walled_maze.append(\".\" + line + \".\")\n",
    "    walled_maze = [\".\" * len(walled_maze[0])] + walled_maze + [\".\" * len(walled_maze[0])]\n",
    "    maze_dct = {}\n",
    "    for y, line in enumerate(walled_maze):\n",
    "        for x, c in enumerate(line):\n",
    "            maze_dct[x + 1j * y] = c\n",
    "    return maze_dct"
   ]
  },
  {
   "cell_type": "code",
   "execution_count": null,
   "id": "6b122d3f-5767-4c3a-b537-9f3ac162c606",
   "metadata": {},
   "outputs": [],
   "source": [
    "def find_start(maze):\n",
    "    for k in maze:\n",
    "        if maze[k] == \"S\":\n",
    "            return k"
   ]
  },
  {
   "cell_type": "code",
   "execution_count": null,
   "id": "04376937-c976-408d-8a09-50e020515fd6",
   "metadata": {},
   "outputs": [],
   "source": [
    "# north: -i, south: i, east: 1, west: -1\n",
    "pipes = {\n",
    "    \"|\": {-1j, 1j},\n",
    "    \"-\": {1, -1},\n",
    "    \"L\": {-1j, 1},\n",
    "    \"J\": {-1j, -1},\n",
    "    \"7\": {1j, -1},\n",
    "    \"F\": {1j, 1},\n",
    "    \".\": set(),\n",
    "    \"S\": {-1j, 1j, 1, -1},\n",
    "}\n",
    "def follow_pipe(pipe, direction):\n",
    "    if -direction not in pipes[pipe]:\n",
    "        # end of the path\n",
    "        return None\n",
    "    d1, d2 = pipes[pipe]\n",
    "    if d1 == -direction:\n",
    "        return d2\n",
    "    return d1"
   ]
  },
  {
   "cell_type": "code",
   "execution_count": null,
   "id": "0e5eceab-cf67-46cd-b164-7c84058df2aa",
   "metadata": {},
   "outputs": [],
   "source": [
    "def find_path(maze, start, direction, end_direction=False):\n",
    "    pos = start\n",
    "    path = {}\n",
    "    length = 0\n",
    "    while pos not in path:\n",
    "        path[pos] = length\n",
    "        pos += direction\n",
    "        length += 1\n",
    "        if maze[pos] == \"S\":\n",
    "            if end_direction:\n",
    "                return path, direction\n",
    "            return path\n",
    "        direction = follow_pipe(maze[pos], direction)\n",
    "        if direction is None:\n",
    "            return None\n",
    "    assert False"
   ]
  },
  {
   "cell_type": "code",
   "execution_count": null,
   "id": "b1289f43-8f41-42a2-b91d-121257d17676",
   "metadata": {},
   "outputs": [],
   "source": [
    "def compute_length(maze):\n",
    "    lengths = []\n",
    "    start = find_start(maze)\n",
    "    for direction in (-1j, 1j, 1, -1):\n",
    "        path = find_path(maze, start, direction)\n",
    "        if path is not None:\n",
    "            # instructions state that only one path is valid\n",
    "            return (max(path.values()) + 1) // 2"
   ]
  },
  {
   "cell_type": "code",
   "execution_count": null,
   "id": "8479b38e-e832-41e1-9d26-2639dbf317f6",
   "metadata": {},
   "outputs": [],
   "source": [
    "def get_steps(data):\n",
    "    maze = get_maze(data)\n",
    "    return compute_length(maze)"
   ]
  },
  {
   "cell_type": "code",
   "execution_count": null,
   "id": "9d0e9143-9dd3-453f-9d86-e415da87425d",
   "metadata": {},
   "outputs": [],
   "source": [
    "check(get_steps, tests)\n",
    "get_steps(data)"
   ]
  },
  {
   "cell_type": "markdown",
   "id": "420aa50a-4f5a-4d96-9487-3b6aba3f4f6e",
   "metadata": {},
   "source": [
    "# Part 2"
   ]
  },
  {
   "cell_type": "code",
   "execution_count": null,
   "id": "14d6d526-f977-49cf-9527-56f0d6ef8be5",
   "metadata": {},
   "outputs": [],
   "source": [
    "def cleanup(maze):\n",
    "    start = find_start(maze)\n",
    "    for direction in (-1j, 1j, 1, -1):\n",
    "        res = find_path(maze, start, direction, end_direction=True)\n",
    "        if res is not None:\n",
    "            path, s_dir = res\n",
    "            S_dirs = {-s_dir, direction}\n",
    "            break\n",
    "    clean_maze = maze.copy()\n",
    "    # find pipe type for S\n",
    "    for type in pipes:\n",
    "        if pipes[type] == S_dirs:\n",
    "            clean_maze[start] = type\n",
    "            break\n",
    "    # remove unused pipes\n",
    "    for cell in clean_maze:\n",
    "        if cell not in path:\n",
    "            clean_maze[cell] = \".\"\n",
    "    return clean_maze"
   ]
  },
  {
   "cell_type": "code",
   "execution_count": null,
   "id": "386e3062-7043-4e0e-906f-39f57a91d5ed",
   "metadata": {},
   "outputs": [],
   "source": [
    "def count_enclosed(data):\n",
    "    maze = cleanup(get_maze(data))\n",
    "    max_x = int(max(z.real for z in maze))\n",
    "    max_y = int(max(z.imag for z in maze))\n",
    "    cnt = 0\n",
    "    for y in range(max_y + 1):\n",
    "        enclosed = False\n",
    "        for x in range(max_x + 1):\n",
    "            c = maze[x + 1j * y]\n",
    "            if c in \"|F7\":\n",
    "                enclosed = not enclosed\n",
    "            if c == \".\" and enclosed:\n",
    "                cnt += 1\n",
    "    return cnt"
   ]
  },
  {
   "cell_type": "code",
   "execution_count": null,
   "id": "bdee03af-6257-46cf-9c87-f08dbc527ee2",
   "metadata": {},
   "outputs": [],
   "source": [
    "check(count_enclosed, tests, 2)\n",
    "count_enclosed(data)"
   ]
  }
 ],
 "metadata": {
  "language_info": {
   "codemirror_mode": {
    "name": "ipython"
   },
   "file_extension": ".py",
   "mimetype": "text/x-python",
   "name": "python",
   "nbconvert_exporter": "python"
  }
 },
 "nbformat": 4,
 "nbformat_minor": 5
}

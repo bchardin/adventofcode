{
 "cells": [
  {
   "cell_type": "code",
   "execution_count": null,
   "id": "fed8fc3a-d4d8-4590-9a49-f56ecbf5de4f",
   "metadata": {},
   "outputs": [],
   "source": [
    "import os\n",
    "import sys\n",
    "\n",
    "sys.path.insert(0, os.path.abspath(\"../utils\"))\n",
    "from aoc_utils import load_data, check"
   ]
  },
  {
   "cell_type": "code",
   "execution_count": null,
   "id": "5a202bd0-bde6-4e3e-91b6-22dd691365eb",
   "metadata": {},
   "outputs": [],
   "source": [
    "from collections import defaultdict"
   ]
  },
  {
   "cell_type": "code",
   "execution_count": null,
   "id": "61342c74-6c06-4600-af0d-879fe0b0eda7",
   "metadata": {},
   "outputs": [],
   "source": [
    "data = load_data(2023, 16)"
   ]
  },
  {
   "cell_type": "code",
   "execution_count": null,
   "id": "661e1822-ff0f-4a87-a4a9-ffbd4aeb36a2",
   "metadata": {},
   "outputs": [],
   "source": [
    "# data, part_1, part_2\n",
    "tests = [\n",
    "    (\n",
    "        r\"\"\".|...\\....\n",
    "|.-.\\.....\n",
    ".....|-...\n",
    "........|.\n",
    "..........\n",
    ".........\\\n",
    "..../.\\\\..\n",
    ".-.-/..|..\n",
    ".|....-|.\\\n",
    "..//.|....\"\"\",\n",
    "        46,\n",
    "        51,\n",
    "    ),\n",
    "]"
   ]
  },
  {
   "cell_type": "markdown",
   "id": "e3a0e91e-2dd3-4cfe-897d-6869e1ec01e5",
   "metadata": {},
   "source": [
    "# Part 1"
   ]
  },
  {
   "cell_type": "code",
   "execution_count": null,
   "id": "290e95e8-4a61-478a-843d-07e9c2f63477",
   "metadata": {},
   "outputs": [],
   "source": [
    "def gen_grid(lines):\n",
    "    grid = {}\n",
    "    for y, line in enumerate(lines):\n",
    "        for x, c in enumerate(line):\n",
    "            grid[x + 1j * y] = c\n",
    "    return grid"
   ]
  },
  {
   "cell_type": "code",
   "execution_count": null,
   "id": "36d9cbda-1201-4eb6-94f0-c586487ef799",
   "metadata": {},
   "outputs": [],
   "source": [
    "def _travel(grid, light, pos=0, direction=1):\n",
    "    while pos in grid and direction not in light[pos]:\n",
    "        light[pos].append(direction)\n",
    "        match grid[pos]:\n",
    "            case \".\":\n",
    "                pos = pos + direction\n",
    "            case \"\\\\\":\n",
    "                direction = direction.imag + direction.real * 1j\n",
    "                pos = pos + direction\n",
    "            case \"/\":\n",
    "                direction = -direction.imag - direction.real * 1j\n",
    "                pos = pos + direction\n",
    "            case \"-\", complex(imag=0):\n",
    "                pos = pos + direction\n",
    "            case \"-\":\n",
    "                _travel(grid, light, pos - 1, -1)\n",
    "                _travel(grid, light, pos + 1, 1)\n",
    "            case \"|\", complex(real=0):\n",
    "                pos = pos + direction\n",
    "            case \"|\":\n",
    "                _travel(grid, light, pos - 1j, -1j)\n",
    "                _travel(grid, light, pos + 1j, 1j)\n",
    "            case _:\n",
    "                raise ValueError(f\"Unknown grid cell: {grid[pos]}\")\n",
    "\n",
    "def travel(data):\n",
    "    grid = gen_grid(data.splitlines())\n",
    "    light = defaultdict(list)\n",
    "    _travel(grid, light)\n",
    "    return len(light)"
   ]
  },
  {
   "cell_type": "code",
   "execution_count": null,
   "id": "9d0e9143-9dd3-453f-9d86-e415da87425d",
   "metadata": {},
   "outputs": [],
   "source": [
    "check(travel, tests)\n",
    "travel(data)"
   ]
  },
  {
   "cell_type": "markdown",
   "id": "3386658c-9811-4824-8fcf-59521344d102",
   "metadata": {},
   "source": [
    "# Part 2"
   ]
  },
  {
   "cell_type": "code",
   "execution_count": null,
   "id": "a18d0d6f-b450-4d88-86a0-d7e16e2f53c5",
   "metadata": {},
   "outputs": [],
   "source": [
    "def travel(data):\n",
    "    lines = data.splitlines()\n",
    "    grid = gen_grid(lines)\n",
    "    max_x, max_y = len(lines[0]), len(lines)\n",
    "    max_ = 0\n",
    "    for direction, xrange, yrange in [\n",
    "        (-1j, range(max_x + 1), [max_y]),\n",
    "        (1j, range(max_x + 1), [0]),\n",
    "        (-1, [max_x], range(max_y + 1)),\n",
    "        (1, [0], range(max_y + 1)),\n",
    "    ]:\n",
    "        for x in xrange:\n",
    "            for y in yrange:\n",
    "                light = defaultdict(list)\n",
    "                _travel(grid, light, x + 1j * y, direction)\n",
    "                max_ = max(max_, len(light))\n",
    "    return max_"
   ]
  },
  {
   "cell_type": "code",
   "execution_count": null,
   "id": "ae039850-618b-49d4-b4e6-12ec03a2cf54",
   "metadata": {},
   "outputs": [],
   "source": [
    "check(travel, tests, 2)\n",
    "travel(data)"
   ]
  }
 ],
 "metadata": {
  "language_info": {
   "codemirror_mode": {
    "name": "ipython"
   },
   "file_extension": ".py",
   "mimetype": "text/x-python",
   "name": "python",
   "nbconvert_exporter": "python"
  }
 },
 "nbformat": 4,
 "nbformat_minor": 5
}

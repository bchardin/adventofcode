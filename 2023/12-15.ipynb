{
 "cells": [
  {
   "cell_type": "code",
   "execution_count": null,
   "id": "fed8fc3a-d4d8-4590-9a49-f56ecbf5de4f",
   "metadata": {},
   "outputs": [],
   "source": [
    "import os\n",
    "import sys\n",
    "\n",
    "sys.path.insert(0, os.path.abspath(\"../utils\"))\n",
    "from aoc_utils import load_data, check"
   ]
  },
  {
   "cell_type": "code",
   "execution_count": null,
   "id": "61342c74-6c06-4600-af0d-879fe0b0eda7",
   "metadata": {},
   "outputs": [],
   "source": [
    "data = load_data(2023, 15)"
   ]
  },
  {
   "cell_type": "code",
   "execution_count": null,
   "id": "661e1822-ff0f-4a87-a4a9-ffbd4aeb36a2",
   "metadata": {},
   "outputs": [],
   "source": [
    "# data, part_1, part_2\n",
    "tests = [\n",
    "    (\n",
    "        \"\"\"rn=1,cm-,qp=3,cm=2,qp-,pc=4,ot=9,ab=5,pc-,pc=6,ot=7\"\"\",\n",
    "        1320,\n",
    "        145,\n",
    "    ),\n",
    "    (\n",
    "        \"\"\"HASH\"\"\",\n",
    "        52,\n",
    "        None,\n",
    "    ),\n",
    "]"
   ]
  },
  {
   "cell_type": "markdown",
   "id": "e3a0e91e-2dd3-4cfe-897d-6869e1ec01e5",
   "metadata": {},
   "source": [
    "# Part 1"
   ]
  },
  {
   "cell_type": "code",
   "execution_count": null,
   "id": "7902d92b-21d9-4f88-901a-d589486cf98b",
   "metadata": {},
   "outputs": [],
   "source": [
    "def aoc_hash(string):\n",
    "    assert \"\\n\" not in string\n",
    "    h = 0\n",
    "    for c in string:\n",
    "        h += ord(c)\n",
    "        h = 17 * h % 256\n",
    "    return h"
   ]
  },
  {
   "cell_type": "code",
   "execution_count": null,
   "id": "220e6903-66a9-4a64-bb93-48eeaae55305",
   "metadata": {},
   "outputs": [],
   "source": [
    "def sum_hash(data):\n",
    "    data = data.replace(\"\\n\", \"\")\n",
    "    return sum(aoc_hash(s) for s in data.split(\",\"))"
   ]
  },
  {
   "cell_type": "code",
   "execution_count": null,
   "id": "9d0e9143-9dd3-453f-9d86-e415da87425d",
   "metadata": {},
   "outputs": [],
   "source": [
    "check(sum_hash, tests)\n",
    "sum_hash(data)"
   ]
  },
  {
   "cell_type": "markdown",
   "id": "3386658c-9811-4824-8fcf-59521344d102",
   "metadata": {},
   "source": [
    "# Part 2"
   ]
  },
  {
   "cell_type": "code",
   "execution_count": null,
   "id": "7bf6c97d-5391-4013-a42a-fd4a6bd68ce1",
   "metadata": {},
   "outputs": [],
   "source": [
    "def lens_seq(data):\n",
    "    data = data.replace(\"\\n\", \"\")\n",
    "    boxes = {}\n",
    "    for instruction in data.split(\",\"):\n",
    "        if \"-\" in instruction:\n",
    "            assert \"=\" not in instruction\n",
    "            assert instruction[-1] == \"-\"\n",
    "            label = instruction[:-1]\n",
    "            if aoc_hash(label) in boxes and label in boxes[aoc_hash(label)]:\n",
    "                del boxes[aoc_hash(label)][label]\n",
    "        else:\n",
    "            assert \"=\" in instruction\n",
    "            label, nb = instruction.split(\"=\")\n",
    "            nb = int(nb)\n",
    "            if aoc_hash(label) not in boxes:\n",
    "                boxes[aoc_hash(label)] = {}\n",
    "            boxes[aoc_hash(label)][label] = nb\n",
    "    sum_ = 0\n",
    "    for h in boxes:\n",
    "        box = boxes[h]\n",
    "        for i, label in enumerate(box):\n",
    "            sum_ += (h + 1) * (i + 1) * box[label]\n",
    "    return sum_"
   ]
  },
  {
   "cell_type": "code",
   "execution_count": null,
   "id": "ae039850-618b-49d4-b4e6-12ec03a2cf54",
   "metadata": {},
   "outputs": [],
   "source": [
    "check(lens_seq, tests, 2)\n",
    "lens_seq(data)"
   ]
  }
 ],
 "metadata": {
  "language_info": {
   "codemirror_mode": {
    "name": "ipython"
   },
   "file_extension": ".py",
   "mimetype": "text/x-python",
   "name": "python",
   "nbconvert_exporter": "python"
  }
 },
 "nbformat": 4,
 "nbformat_minor": 5
}

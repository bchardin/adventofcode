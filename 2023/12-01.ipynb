{
 "cells": [
  {
   "cell_type": "code",
   "execution_count": null,
   "id": "c3247d2f-62c2-4f4f-a7e9-bfab4d32bd3b",
   "metadata": {},
   "outputs": [],
   "source": [
    "import re"
   ]
  },
  {
   "cell_type": "code",
   "execution_count": null,
   "id": "9a792655-0ef1-4db8-b032-d5e936a8ed42",
   "metadata": {},
   "outputs": [],
   "source": [
    "filename = \"inputs/12-01.txt\"\n",
    "with open(filename, \"r\") as f:\n",
    "    data = f.read()"
   ]
  },
  {
   "cell_type": "code",
   "execution_count": null,
   "id": "661e1822-ff0f-4a87-a4a9-ffbd4aeb36a2",
   "metadata": {},
   "outputs": [],
   "source": [
    "# data, part_1, part_2\n",
    "tests = [\n",
    "    (\n",
    "        \"\"\"1abc2\n",
    "pqr3stu8vwx\n",
    "a1b2c3d4e5f\n",
    "treb7uchet\"\"\",\n",
    "        142,\n",
    "        None,\n",
    "    ),\n",
    "    (\n",
    "        \"\"\"two1nine\n",
    "eightwothree\n",
    "abcone2threexyz\n",
    "xtwone3four\n",
    "4nineeightseven2\n",
    "zoneight234\n",
    "7pqrstsixteen\"\"\",\n",
    "        None,\n",
    "        281,\n",
    "    ),\n",
    "    (\n",
    "        \"\"\"oneight\"\"\",\n",
    "        None,\n",
    "        18,\n",
    "    ),\n",
    "]"
   ]
  },
  {
   "cell_type": "code",
   "execution_count": null,
   "id": "0763c3e7-9c9d-4b83-9163-8b8e636b0003",
   "metadata": {},
   "outputs": [],
   "source": [
    "def check(function, part=1, tests=tests):\n",
    "    for input, *outputs in tests:\n",
    "        output = outputs[part - 1]\n",
    "        if output is not None:\n",
    "            result = function(input)\n",
    "            assert result == output, f\"{result} == {output}\""
   ]
  },
  {
   "cell_type": "markdown",
   "id": "e3a0e91e-2dd3-4cfe-897d-6869e1ec01e5",
   "metadata": {},
   "source": [
    "# Part 1"
   ]
  },
  {
   "cell_type": "code",
   "execution_count": null,
   "id": "5336c60c-d388-4175-9433-3137f09594c1",
   "metadata": {},
   "outputs": [],
   "source": [
    "def calibration_value(line):\n",
    "    digits = re.findall(r\"\\d\", line)\n",
    "    return int(digits[0] + digits[-1])\n",
    "\n",
    "def total_calibration(lines):\n",
    "    return sum([calibration_value(line) for line in lines.splitlines()])"
   ]
  },
  {
   "cell_type": "code",
   "execution_count": null,
   "id": "6578ef02-b056-4063-9464-75c100961bf7",
   "metadata": {},
   "outputs": [],
   "source": [
    "check(total_calibration)\n",
    "print(total_calibration(data))"
   ]
  },
  {
   "cell_type": "markdown",
   "id": "3400c71a-58bb-4be1-8075-62736c611162",
   "metadata": {},
   "source": [
    "# Part 2"
   ]
  },
  {
   "cell_type": "code",
   "execution_count": null,
   "id": "539ba0a8-6319-4b59-8874-d8e02ae34950",
   "metadata": {},
   "outputs": [],
   "source": [
    "NUMBERS = [\n",
    "    \"zero\",\n",
    "    \"one\",\n",
    "    \"two\",\n",
    "    \"three\",\n",
    "    \"four\",\n",
    "    \"five\",\n",
    "    \"six\",\n",
    "    \"seven\",\n",
    "    \"eight\",\n",
    "    \"nine\",\n",
    "]\n",
    "\n",
    "def convert(text):\n",
    "    if text in NUMBERS:\n",
    "        return NUMBERS.index(text)\n",
    "    else:\n",
    "        return int(text)\n",
    "\n",
    "def calibration_value(line):\n",
    "    digits = re.findall(r\"(?=(\\d|\" + \"|\".join(NUMBERS) + \"))\", line)\n",
    "    val = convert(digits[0]) * 10 + convert(digits[-1])\n",
    "    return val"
   ]
  },
  {
   "cell_type": "code",
   "execution_count": null,
   "id": "0109fd6b-659b-4465-8a3f-5318aa76399c",
   "metadata": {},
   "outputs": [],
   "source": [
    "check(total_calibration, 2)\n",
    "print(total_calibration(data))"
   ]
  }
 ],
 "metadata": {
  "language_info": {
   "codemirror_mode": {
    "name": "ipython"
   },
   "file_extension": ".py",
   "mimetype": "text/x-python",
   "name": "python",
   "nbconvert_exporter": "python"
  }
 },
 "nbformat": 4,
 "nbformat_minor": 5
}

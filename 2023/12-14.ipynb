{
 "cells": [
  {
   "cell_type": "code",
   "execution_count": null,
   "id": "fed8fc3a-d4d8-4590-9a49-f56ecbf5de4f",
   "metadata": {},
   "outputs": [],
   "source": [
    "import os\n",
    "import sys\n",
    "\n",
    "sys.path.insert(0, os.path.abspath(\"../utils\"))\n",
    "from aoc_utils import load_data, check"
   ]
  },
  {
   "cell_type": "code",
   "execution_count": null,
   "id": "61342c74-6c06-4600-af0d-879fe0b0eda7",
   "metadata": {},
   "outputs": [],
   "source": [
    "data = load_data(2023, 14)"
   ]
  },
  {
   "cell_type": "code",
   "execution_count": null,
   "id": "661e1822-ff0f-4a87-a4a9-ffbd4aeb36a2",
   "metadata": {},
   "outputs": [],
   "source": [
    "# data, part_1, part_2\n",
    "tests = [\n",
    "    (\n",
    "        \"\"\"O....#....\n",
    "O.OO#....#\n",
    ".....##...\n",
    "OO.#O....O\n",
    ".O.....O#.\n",
    "O.#..O.#.#\n",
    "..O..#O..O\n",
    ".......O..\n",
    "#....###..\n",
    "#OO..#....\n",
    "\"\"\",\n",
    "        136,\n",
    "        64,\n",
    "    ),\n",
    "]"
   ]
  },
  {
   "cell_type": "markdown",
   "id": "e3a0e91e-2dd3-4cfe-897d-6869e1ec01e5",
   "metadata": {},
   "source": [
    "# Part 1"
   ]
  },
  {
   "cell_type": "code",
   "execution_count": null,
   "id": "d8de366e-a85b-430e-bbb2-21454a44d636",
   "metadata": {},
   "outputs": [],
   "source": [
    "def transpose(lines):\n",
    "    return [\"\".join(line) for line in zip(*lines)]"
   ]
  },
  {
   "cell_type": "code",
   "execution_count": null,
   "id": "91b12c97-1f4f-4e2d-baac-4308c96429c8",
   "metadata": {},
   "outputs": [],
   "source": [
    "def roll(lines, direction=\"north\"):\n",
    "    def _roll_we(lines, order=\"O.\"):\n",
    "        return [\n",
    "            \"#\".join(\n",
    "                \"\".join(c * section.count(c) for c in order)\n",
    "                for section in line.split(\"#\")\n",
    "            )\n",
    "            for line in lines\n",
    "        ]\n",
    "\n",
    "    if direction == \"west\":\n",
    "        return _roll_we(lines)\n",
    "    if direction == \"east\":\n",
    "        return _roll_we(lines, order=\".O\")\n",
    "    if direction == \"north\":\n",
    "        return transpose(_roll_we(transpose(lines)))\n",
    "    if direction == \"south\":\n",
    "        return transpose(_roll_we(transpose(lines), order=\".O\"))\n",
    "    raise ValueError(f\"Invalid direction: {direction}\")"
   ]
  },
  {
   "cell_type": "code",
   "execution_count": null,
   "id": "abdd3933-911d-4302-a8db-8e8d9b37e8e5",
   "metadata": {},
   "outputs": [],
   "source": [
    "def north_load(lines):\n",
    "    return sum(\n",
    "        (c == \"O\") * (len(line) - i)\n",
    "        for line in transpose(lines)\n",
    "        for i, c in enumerate(line)\n",
    "    )"
   ]
  },
  {
   "cell_type": "code",
   "execution_count": null,
   "id": "a2506b6e-6d7a-4e39-a5ef-00c14c5bf709",
   "metadata": {},
   "outputs": [],
   "source": [
    "def roll_and_load(data):\n",
    "    lines = data.splitlines()\n",
    "    return north_load(roll(lines))"
   ]
  },
  {
   "cell_type": "code",
   "execution_count": null,
   "id": "9d0e9143-9dd3-453f-9d86-e415da87425d",
   "metadata": {},
   "outputs": [],
   "source": [
    "check(roll_and_load, tests)\n",
    "roll_and_load(data)"
   ]
  },
  {
   "cell_type": "markdown",
   "id": "3386658c-9811-4824-8fcf-59521344d102",
   "metadata": {},
   "source": [
    "# Part 2"
   ]
  },
  {
   "cell_type": "code",
   "execution_count": null,
   "id": "40d3b637-541a-4b42-9775-c0ed091af316",
   "metadata": {},
   "outputs": [],
   "source": [
    "def spin(data, cycles=1000000000):\n",
    "    lines = data.splitlines()\n",
    "    cycle = [\"north\", \"west\", \"south\", \"east\"]\n",
    "    states = {}\n",
    "    step = 0\n",
    "    cycle_found = False\n",
    "    while step < cycles:\n",
    "        for direction in cycle:\n",
    "            lines = roll(lines, direction=direction)\n",
    "        if tuple(lines) in states and not cycle_found:\n",
    "            cycle_found = True\n",
    "            cycle_length = step - states[tuple(lines)]\n",
    "            step = cycles - (cycles - step) % cycle_length\n",
    "        else:\n",
    "            states[tuple(lines)] = step\n",
    "        step += 1\n",
    "    return north_load(lines)"
   ]
  },
  {
   "cell_type": "code",
   "execution_count": null,
   "id": "ae039850-618b-49d4-b4e6-12ec03a2cf54",
   "metadata": {},
   "outputs": [],
   "source": [
    "check(spin, tests, 2)\n",
    "spin(data)"
   ]
  }
 ],
 "metadata": {
  "language_info": {
   "codemirror_mode": {
    "name": "ipython"
   },
   "file_extension": ".py",
   "mimetype": "text/x-python",
   "name": "python",
   "nbconvert_exporter": "python"
  }
 },
 "nbformat": 4,
 "nbformat_minor": 5
}

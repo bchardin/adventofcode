{
 "cells": [
  {
   "cell_type": "code",
   "execution_count": null,
   "id": "c3247d2f-62c2-4f4f-a7e9-bfab4d32bd3b",
   "metadata": {},
   "outputs": [],
   "source": [
    "import pyparsing as pp"
   ]
  },
  {
   "cell_type": "code",
   "execution_count": null,
   "id": "9a792655-0ef1-4db8-b032-d5e936a8ed42",
   "metadata": {},
   "outputs": [],
   "source": [
    "filename = \"inputs/12-02.txt\"\n",
    "with open(filename, \"r\") as f:\n",
    "    data = f.read()"
   ]
  },
  {
   "cell_type": "code",
   "execution_count": null,
   "id": "661e1822-ff0f-4a87-a4a9-ffbd4aeb36a2",
   "metadata": {},
   "outputs": [],
   "source": [
    "# data, part_1, part_2\n",
    "tests = [\n",
    "    (\n",
    "        \"\"\"Game 1: 3 blue, 4 red; 1 red, 2 green, 6 blue; 2 green\n",
    "Game 2: 1 blue, 2 green; 3 green, 4 blue, 1 red; 1 green, 1 blue\n",
    "Game 3: 8 green, 6 blue, 20 red; 5 blue, 4 red, 13 green; 5 green, 1 red\n",
    "Game 4: 1 green, 3 red, 6 blue; 3 green, 6 red; 3 green, 15 blue, 14 red\n",
    "Game 5: 6 red, 1 blue, 3 green; 2 blue, 1 red, 2 green\"\"\",\n",
    "        8,\n",
    "        2286,\n",
    "    ),\n",
    "]"
   ]
  },
  {
   "cell_type": "code",
   "execution_count": null,
   "id": "a26540bd-7722-4e69-9917-a761bbc79e92",
   "metadata": {},
   "outputs": [],
   "source": [
    "def check(function, part=1, tests=tests):\n",
    "    for input, *outputs in tests:\n",
    "        output = outputs[part - 1]\n",
    "        if output is not None:\n",
    "            result = function(input)\n",
    "            assert result == output, f\"{result} == {output}\""
   ]
  },
  {
   "cell_type": "markdown",
   "id": "e3a0e91e-2dd3-4cfe-897d-6869e1ec01e5",
   "metadata": {},
   "source": [
    "# Part 1"
   ]
  },
  {
   "cell_type": "code",
   "execution_count": null,
   "id": "2eff23db-1712-4687-9458-52640165318b",
   "metadata": {},
   "outputs": [],
   "source": [
    "thresholds = {\n",
    "    \"red\": 12,\n",
    "    \"green\": 13,\n",
    "    \"blue\": 14,\n",
    "}"
   ]
  },
  {
   "cell_type": "code",
   "execution_count": null,
   "id": "347bb84b-14e6-4001-9c95-d7177cc38ceb",
   "metadata": {},
   "outputs": [],
   "source": [
    "uint = pp.Word(pp.nums).set_parse_action(lambda toks: int(toks[0]))\n",
    "game = pp.Suppress(\"Game\") + uint(\"game_id\") + pp.Suppress(\":\")\n",
    "color_expr = pp.one_of(\"red green blue\")\n",
    "draw_expr = pp.Group(uint + color_expr)\n",
    "draws_expr = pp.Group(pp.delimited_list(draw_expr))\n",
    "line_expr = game + pp.delimited_list(draws_expr, delim=\";\")"
   ]
  },
  {
   "cell_type": "code",
   "execution_count": null,
   "id": "90cff232-ba31-4f16-a02c-fc3cdf0309fd",
   "metadata": {},
   "outputs": [],
   "source": [
    "def parse_game(line, thresholds=thresholds):\n",
    "    gameid, *draws = line_expr.parse_string(line)\n",
    "    for draw in draws:\n",
    "        cubes = {color: nb for nb, color in draw}\n",
    "        for color in cubes:\n",
    "            if cubes[color] > thresholds[color]:\n",
    "                return 0\n",
    "    return gameid"
   ]
  },
  {
   "cell_type": "code",
   "execution_count": null,
   "id": "2d1b5fc0-4336-4972-a7a1-b9a123469296",
   "metadata": {},
   "outputs": [],
   "source": [
    "def sum_game_ids(data):\n",
    "    return sum([parse_game(line) for line in data.splitlines()])"
   ]
  },
  {
   "cell_type": "code",
   "execution_count": null,
   "id": "78d3127c-da83-4666-88be-ff84e5866991",
   "metadata": {},
   "outputs": [],
   "source": [
    "check(sum_game_ids)\n",
    "sum_game_ids(data)"
   ]
  },
  {
   "cell_type": "markdown",
   "id": "3400c71a-58bb-4be1-8075-62736c611162",
   "metadata": {},
   "source": [
    "# Part 2"
   ]
  },
  {
   "cell_type": "code",
   "execution_count": null,
   "id": "539ba0a8-6319-4b59-8874-d8e02ae34950",
   "metadata": {},
   "outputs": [],
   "source": [
    "def parse_game(line):\n",
    "    thresholds = {\"red\": 0, \"green\": 0, \"blue\": 0}\n",
    "    gameid, *draws = line_expr.parse_string(line)\n",
    "    for draw in draws:\n",
    "        cubes = {color: nb for nb, color in draw}\n",
    "        for color in cubes:\n",
    "            thresholds[color] = max(thresholds[color], cubes[color])\n",
    "    return thresholds[\"red\"] * thresholds[\"green\"] * thresholds[\"blue\"]"
   ]
  },
  {
   "cell_type": "code",
   "execution_count": null,
   "id": "a6451413-860a-42c2-b802-49c6e94be30d",
   "metadata": {},
   "outputs": [],
   "source": [
    "check(sum_game_ids, 2)\n",
    "sum_game_ids(data)"
   ]
  }
 ],
 "metadata": {
  "language_info": {
   "codemirror_mode": {
    "name": "ipython"
   },
   "file_extension": ".py",
   "mimetype": "text/x-python",
   "name": "python",
   "nbconvert_exporter": "python"
  }
 },
 "nbformat": 4,
 "nbformat_minor": 5
}

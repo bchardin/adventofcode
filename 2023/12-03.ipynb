{
 "cells": [
  {
   "cell_type": "code",
   "execution_count": null,
   "id": "f5cf56d9-d894-49a0-815a-311d2658f1c4",
   "metadata": {},
   "outputs": [],
   "source": [
    "import os\n",
    "import sys\n",
    "\n",
    "sys.path.insert(0, os.path.abspath(\"../utils\"))\n",
    "from aoc_utils import load_data, check"
   ]
  },
  {
   "cell_type": "code",
   "execution_count": null,
   "id": "c3247d2f-62c2-4f4f-a7e9-bfab4d32bd3b",
   "metadata": {},
   "outputs": [],
   "source": [
    "import re"
   ]
  },
  {
   "cell_type": "code",
   "execution_count": null,
   "id": "a4dfdecb-2291-4fbe-bac2-301816657bb7",
   "metadata": {},
   "outputs": [],
   "source": [
    "data = load_data(2023, 3)"
   ]
  },
  {
   "cell_type": "code",
   "execution_count": null,
   "id": "661e1822-ff0f-4a87-a4a9-ffbd4aeb36a2",
   "metadata": {},
   "outputs": [],
   "source": [
    "# data, part_1, part_2\n",
    "tests = [\n",
    "    (\n",
    "        \"\"\"467..114..\n",
    "...*......\n",
    "..35..633.\n",
    "......#...\n",
    "617*......\n",
    ".....+.58.\n",
    "..592.....\n",
    "......755.\n",
    "...$.*....\n",
    ".664.598..\"\"\",\n",
    "        4361,\n",
    "        467835,\n",
    "    ),\n",
    "    (\n",
    "        \"\"\"10*..\n",
    "10...\"\"\",\n",
    "        20,\n",
    "        100,\n",
    "    ),\n",
    "]"
   ]
  },
  {
   "cell_type": "markdown",
   "id": "e3a0e91e-2dd3-4cfe-897d-6869e1ec01e5",
   "metadata": {},
   "source": [
    "# Part 1"
   ]
  },
  {
   "cell_type": "code",
   "execution_count": null,
   "id": "b643333a-eca1-430a-bb5e-2d5eaf6efbf4",
   "metadata": {},
   "outputs": [],
   "source": [
    "def symbols(line):\n",
    "    p = re.compile(r\"\\D\")\n",
    "    return {m.start() for m in p.finditer(line.replace(\".\", \"0\"))}\n",
    "\n",
    "def numbers(line, idx=None):\n",
    "    p = re.compile(r\"\\d+\")\n",
    "    return {(m.start() - 1, m.end(), int(m.group()), idx) for m in p.finditer(line)}"
   ]
  },
  {
   "cell_type": "code",
   "execution_count": null,
   "id": "87c19ed5-0a88-4d6d-8248-c7df988c8edc",
   "metadata": {},
   "outputs": [],
   "source": [
    "def sum_parts(data):\n",
    "    sum_ = 0\n",
    "    lines = data.splitlines()\n",
    "    for idx, line in enumerate(lines):\n",
    "        nums = numbers(line)\n",
    "        syms = symbols(line)\n",
    "        if idx > 0:\n",
    "            syms = syms.union(symbols(lines[idx - 1]))\n",
    "        if idx < len(lines) - 1:\n",
    "            syms = syms.union(symbols(lines[idx + 1]))\n",
    "        for start, end, num, _ in nums:\n",
    "            for pos in syms:\n",
    "                if start <= pos <= end:\n",
    "                    sum_ += num\n",
    "    return sum_"
   ]
  },
  {
   "cell_type": "code",
   "execution_count": null,
   "id": "40261acd-e89b-455f-bcb3-f25e7d0f0d3d",
   "metadata": {},
   "outputs": [],
   "source": [
    "check(sum_parts, tests)\n",
    "sum_parts(data)"
   ]
  },
  {
   "cell_type": "markdown",
   "id": "98fa000e-2a66-4a1f-9f44-84ffe80c9d59",
   "metadata": {},
   "source": [
    "# Part 2"
   ]
  },
  {
   "cell_type": "code",
   "execution_count": null,
   "id": "715dc76b-462f-4674-9d78-34bd59ab9f45",
   "metadata": {},
   "outputs": [],
   "source": [
    "def gears(line):\n",
    "    p = re.compile(r\"\\*\")\n",
    "    return {m.start() for m in p.finditer(line)}"
   ]
  },
  {
   "cell_type": "code",
   "execution_count": null,
   "id": "cd37a55a-c7c1-4b7b-b4a2-76354c24b89a",
   "metadata": {},
   "outputs": [],
   "source": [
    "def sum_gears(data):\n",
    "    sum = 0\n",
    "    lines = data.splitlines()\n",
    "    used = []\n",
    "    for idx, line in enumerate(lines):\n",
    "        nums = numbers(line, idx)\n",
    "        grs = gears(line)\n",
    "        if idx > 0:\n",
    "            nums = nums.union(numbers(lines[idx - 1], idx - 1))\n",
    "        if idx < len(lines) - 1:\n",
    "            nums = nums.union(numbers(lines[idx + 1], idx + 1))\n",
    "        for pos in grs:\n",
    "            selected = []\n",
    "            for start, end, num, idx in nums:\n",
    "                if start <= pos <= end:\n",
    "                    selected += [num]\n",
    "            if len(selected) == 2:\n",
    "                sum += selected[0] * selected[1]\n",
    "    return sum"
   ]
  },
  {
   "cell_type": "code",
   "execution_count": null,
   "id": "66d92849-68e0-4063-b965-c94a6663f735",
   "metadata": {},
   "outputs": [],
   "source": [
    "check(sum_gears, tests, 2)\n",
    "sum_gears(data)"
   ]
  }
 ],
 "metadata": {
  "language_info": {
   "codemirror_mode": {
    "name": "ipython"
   },
   "file_extension": ".py",
   "mimetype": "text/x-python",
   "name": "python",
   "nbconvert_exporter": "python"
  }
 },
 "nbformat": 4,
 "nbformat_minor": 5
}

{
 "cells": [
  {
   "cell_type": "code",
   "execution_count": null,
   "id": "c3247d2f-62c2-4f4f-a7e9-bfab4d32bd3b",
   "metadata": {},
   "outputs": [],
   "source": [
    "import pyparsing as pp\n",
    "from bisect import bisect_left"
   ]
  },
  {
   "cell_type": "code",
   "execution_count": null,
   "id": "9a792655-0ef1-4db8-b032-d5e936a8ed42",
   "metadata": {},
   "outputs": [],
   "source": [
    "filename = \"inputs/12-05.txt\"\n",
    "with open(filename, \"r\") as f:\n",
    "    data = f.read()"
   ]
  },
  {
   "cell_type": "code",
   "execution_count": null,
   "id": "661e1822-ff0f-4a87-a4a9-ffbd4aeb36a2",
   "metadata": {},
   "outputs": [],
   "source": [
    "tests = [\n",
    "    (\n",
    "        \"\"\"seeds: 79 14 55 13\n",
    "\n",
    "seed-to-soil map:\n",
    "50 98 2\n",
    "52 50 48\n",
    "\n",
    "soil-to-fertilizer map:\n",
    "0 15 37\n",
    "37 52 2\n",
    "39 0 15\n",
    "\n",
    "fertilizer-to-water map:\n",
    "49 53 8\n",
    "0 11 42\n",
    "42 0 7\n",
    "57 7 4\n",
    "\n",
    "water-to-light map:\n",
    "88 18 7\n",
    "18 25 70\n",
    "\n",
    "light-to-temperature map:\n",
    "45 77 23\n",
    "81 45 19\n",
    "68 64 13\n",
    "\n",
    "temperature-to-humidity map:\n",
    "0 69 1\n",
    "1 0 69\n",
    "\n",
    "humidity-to-location map:\n",
    "60 56 37\n",
    "56 93 4\"\"\",\n",
    "        35,\n",
    "        46,\n",
    "    ),\n",
    "]"
   ]
  },
  {
   "cell_type": "code",
   "execution_count": null,
   "id": "feb7413b-28f2-4ec8-bc47-5dcba8316db0",
   "metadata": {},
   "outputs": [],
   "source": [
    "def check(function, part=1, tests=tests):\n",
    "    for input, *outputs in tests:\n",
    "        output = outputs[part - 1]\n",
    "        if output is not None:\n",
    "            result = function(input)\n",
    "            assert result == output, f\"{result} == {output}\""
   ]
  },
  {
   "cell_type": "markdown",
   "id": "e3a0e91e-2dd3-4cfe-897d-6869e1ec01e5",
   "metadata": {},
   "source": [
    "# Part 1"
   ]
  },
  {
   "cell_type": "code",
   "execution_count": null,
   "id": "c2a7e407-9a67-43b8-b932-71e46cfd827e",
   "metadata": {},
   "outputs": [],
   "source": [
    "uint = pp.Word(pp.nums).set_parse_action(lambda toks: int(toks[0]))\n",
    "word = pp.Word(pp.alphas)\n",
    "header_expr = pp.Suppress(\"seeds\") + pp.Suppress(\":\") + pp.Group(pp.OneOrMore(uint)).set_parse_action(lambda toks: toks.as_list())\n",
    "mapping_expr = pp.Group(\n",
    "    uint.set_results_name(\"destination\")\n",
    "    + uint.set_results_name(\"source\")\n",
    "    + uint.set_results_name(\"length\")\n",
    ")\n",
    "block_expr = pp.Group(\n",
    "    word.set_results_name(\"source\")\n",
    "    + pp.Suppress(\"-to-\")\n",
    "    + word.set_results_name(\"destination\")\n",
    "    + pp.Suppress(\"map:\")\n",
    "    + pp.OneOrMore(mapping_expr)\n",
    ")\n",
    "data_expr = header_expr + pp.OneOrMore(block_expr)"
   ]
  },
  {
   "cell_type": "code",
   "execution_count": null,
   "id": "45cf18fe-7d77-44f2-be21-1bce58126b49",
   "metadata": {},
   "outputs": [],
   "source": [
    "def apply_mapping(seed, almanac, categories, start=\"seed\", end=\"location\"):\n",
    "    cat = start\n",
    "    while cat != end:\n",
    "        mappings = almanac[cat]\n",
    "        map_idx = bisect_left(mappings, (seed + 1, -1)) - 1\n",
    "        if map_idx >= 0:\n",
    "            src, length, dest = mappings[map_idx]\n",
    "            assert src <= seed\n",
    "            if src + length > seed:\n",
    "                seed += dest - src\n",
    "        cat = categories[cat]\n",
    "    return seed"
   ]
  },
  {
   "cell_type": "code",
   "execution_count": null,
   "id": "cb6b4f5b-8626-438e-9c13-3449aea40af1",
   "metadata": {},
   "outputs": [],
   "source": [
    "def min_seed(data):\n",
    "    seeds, *groups = data_expr.parse_string(data)\n",
    "    almanac = {}\n",
    "    categories = {}\n",
    "    for source, dest, *mappings in groups:\n",
    "        almanac[source] = []\n",
    "        categories[source] = dest\n",
    "        for dest_start, source_start, length in mappings:\n",
    "            almanac[source].append((source_start, length, dest_start))\n",
    "        almanac[source] = sorted(almanac[source])\n",
    "    return min([apply_mapping(seed, almanac, categories) for seed in seeds])"
   ]
  },
  {
   "cell_type": "code",
   "execution_count": null,
   "id": "9d0e9143-9dd3-453f-9d86-e415da87425d",
   "metadata": {},
   "outputs": [],
   "source": [
    "check(min_seed)\n",
    "min_seed(data)"
   ]
  },
  {
   "cell_type": "markdown",
   "id": "3386658c-9811-4824-8fcf-59521344d102",
   "metadata": {},
   "source": [
    "# Part 2"
   ]
  },
  {
   "cell_type": "code",
   "execution_count": null,
   "id": "72d19eff-ad24-495a-89e1-261e44cd4027",
   "metadata": {},
   "outputs": [],
   "source": [
    "def apply_mapping(seed_pair, almanac, categories, start=\"seed\", end=\"location\"):\n",
    "    cat = start\n",
    "    seeds = [seed_pair]\n",
    "    while cat != end:\n",
    "        mappings = almanac[cat]\n",
    "        next_seeds = []\n",
    "        for seed, range in seeds:\n",
    "            while range > 0:\n",
    "                map_idx = bisect_left(mappings, (seed + 1, -1)) - 1\n",
    "                if map_idx < 0:\n",
    "                    # no mapping\n",
    "                    length = min(mappings[0][0], range)\n",
    "                    next_seeds.append((seed, length))\n",
    "                    seed += length\n",
    "                    range -= length\n",
    "                else:\n",
    "                    src, mapping_length, dest = mappings[map_idx]\n",
    "                    assert src <= seed\n",
    "                    if src + mapping_length > seed:\n",
    "                        length = min(mapping_length + src - seed, range)\n",
    "                        next_seeds.append((seed + dest - src, length))\n",
    "                        seed += length\n",
    "                        range -= length\n",
    "                    else:\n",
    "                        # no mapping\n",
    "                        if map_idx == len(mappings) - 1:\n",
    "                            next_seeds.append((seed, range))\n",
    "                            range = 0\n",
    "                        else:\n",
    "                            next = mappings[map_idx + 1][0]\n",
    "                            length = min(next - seed, range)\n",
    "                            next_seeds.append((seed + dest - src, length))\n",
    "                            seed += length\n",
    "                            range -= length\n",
    "        cat = categories[cat]\n",
    "        seeds = next_seeds\n",
    "    return min([seed for seed, _ in seeds])"
   ]
  },
  {
   "cell_type": "code",
   "execution_count": null,
   "id": "9f15d761-3d55-48ca-8e13-5dadaee5c563",
   "metadata": {},
   "outputs": [],
   "source": [
    "def min_seed(data):\n",
    "    seeds, *groups = data_expr.parse_string(data)\n",
    "    seed_pairs = list(zip(seeds[::2], seeds[1::2]))\n",
    "    almanac = {}\n",
    "    categories = {}\n",
    "    for source, dest, *mappings in groups:\n",
    "        almanac[source] = []\n",
    "        categories[source] = dest\n",
    "        for dest_start, source_start, length in mappings:\n",
    "            almanac[source].append((source_start, length, dest_start))\n",
    "        almanac[source] = sorted(almanac[source])\n",
    "    return min([apply_mapping(seed_pair, almanac, categories) for seed_pair in seed_pairs])"
   ]
  },
  {
   "cell_type": "code",
   "execution_count": null,
   "id": "ae039850-618b-49d4-b4e6-12ec03a2cf54",
   "metadata": {},
   "outputs": [],
   "source": [
    "check(min_seed, 2)\n",
    "min_seed(data)"
   ]
  }
 ],
 "metadata": {
  "language_info": {
   "codemirror_mode": {
    "name": "ipython"
   },
   "file_extension": ".py",
   "mimetype": "text/x-python",
   "name": "python",
   "nbconvert_exporter": "python"
  }
 },
 "nbformat": 4,
 "nbformat_minor": 5
}

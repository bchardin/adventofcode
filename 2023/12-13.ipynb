{
 "cells": [
  {
   "cell_type": "code",
   "execution_count": null,
   "id": "fed8fc3a-d4d8-4590-9a49-f56ecbf5de4f",
   "metadata": {},
   "outputs": [],
   "source": [
    "import os\n",
    "import sys\n",
    "\n",
    "sys.path.insert(0, os.path.abspath(\"../utils\"))\n",
    "from aoc_utils import load_data, check"
   ]
  },
  {
   "cell_type": "code",
   "execution_count": null,
   "id": "61342c74-6c06-4600-af0d-879fe0b0eda7",
   "metadata": {},
   "outputs": [],
   "source": [
    "data = load_data(2023, 13)"
   ]
  },
  {
   "cell_type": "code",
   "execution_count": null,
   "id": "661e1822-ff0f-4a87-a4a9-ffbd4aeb36a2",
   "metadata": {},
   "outputs": [],
   "source": [
    "# data, part_1, part_2\n",
    "tests = [\n",
    "    (\n",
    "        \"\"\"#.##..##.\n",
    "..#.##.#.\n",
    "##......#\n",
    "##......#\n",
    "..#.##.#.\n",
    "..##..##.\n",
    "#.#.##.#.\n",
    "\n",
    "#...##..#\n",
    "#....#..#\n",
    "..##..###\n",
    "#####.##.\n",
    "#####.##.\n",
    "..##..###\n",
    "#....#..#\"\"\",\n",
    "        405,\n",
    "        400,\n",
    "    ),\n",
    "]"
   ]
  },
  {
   "cell_type": "markdown",
   "id": "e3a0e91e-2dd3-4cfe-897d-6869e1ec01e5",
   "metadata": {},
   "source": [
    "# Part 1"
   ]
  },
  {
   "cell_type": "code",
   "execution_count": null,
   "id": "83a1c8fc-691f-43d9-be07-97dbf20f661b",
   "metadata": {},
   "outputs": [],
   "source": [
    "def reflexion(lines):\n",
    "    for i in range(1, len(lines)):\n",
    "        length = min(i, len(lines) - i)\n",
    "        left = lines[i - length:i][::-1]\n",
    "        right = lines[i:i + length]\n",
    "        if left == right:\n",
    "            return i\n",
    "    return None"
   ]
  },
  {
   "cell_type": "code",
   "execution_count": null,
   "id": "ad46986b-31ce-41ba-8cc0-44441b834c83",
   "metadata": {},
   "outputs": [],
   "source": [
    "def transpose(lines):\n",
    "    return [\"\".join(line) for line in zip(*lines)]"
   ]
  },
  {
   "cell_type": "code",
   "execution_count": null,
   "id": "acd8384a-2d5d-41a2-864f-a42a87063f04",
   "metadata": {},
   "outputs": [],
   "source": [
    "def parse_groups(data):\n",
    "    total = 0\n",
    "    patterns = data.split(\"\\n\\n\")\n",
    "    for pattern in patterns:\n",
    "        lines = pattern.splitlines()\n",
    "        score = reflexion(lines)\n",
    "        if score is not None:\n",
    "            total += 100 * score\n",
    "        else:\n",
    "            total += reflexion(transpose(lines))\n",
    "    return total"
   ]
  },
  {
   "cell_type": "code",
   "execution_count": null,
   "id": "9d0e9143-9dd3-453f-9d86-e415da87425d",
   "metadata": {},
   "outputs": [],
   "source": [
    "check(parse_groups, tests)\n",
    "parse_groups(data)"
   ]
  },
  {
   "cell_type": "markdown",
   "id": "3386658c-9811-4824-8fcf-59521344d102",
   "metadata": {},
   "source": [
    "# Part 2"
   ]
  },
  {
   "cell_type": "code",
   "execution_count": null,
   "id": "8b19c4d8-8317-44d8-955f-98b70067369a",
   "metadata": {},
   "outputs": [],
   "source": [
    "def reflexion(lines):\n",
    "    for i in range(1, len(lines)):\n",
    "        length = min(i, len(lines) - i)\n",
    "        left = lines[i - length:i][::-1]\n",
    "        right = lines[i:i + length]\n",
    "        diff = [l != r for l, r in zip(left, right)]\n",
    "        if sum(diff) == 1:\n",
    "            idx = diff.index(True)\n",
    "            if sum(l != r for l, r in zip(left[idx], right[idx])) == 1:\n",
    "                return i\n",
    "    return None"
   ]
  },
  {
   "cell_type": "code",
   "execution_count": null,
   "id": "ae039850-618b-49d4-b4e6-12ec03a2cf54",
   "metadata": {},
   "outputs": [],
   "source": [
    "check(parse_groups, tests, 2)\n",
    "parse_groups(data)"
   ]
  }
 ],
 "metadata": {
  "language_info": {
   "codemirror_mode": {
    "name": "ipython"
   },
   "file_extension": ".py",
   "mimetype": "text/x-python",
   "name": "python",
   "nbconvert_exporter": "python"
  }
 },
 "nbformat": 4,
 "nbformat_minor": 5
}

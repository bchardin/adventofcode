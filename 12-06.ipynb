{
 "cells": [
  {
   "cell_type": "markdown",
   "id": "131f996b-ae44-4f47-abc6-026c3388c841",
   "metadata": {},
   "source": [
    "# Part 1"
   ]
  },
  {
   "cell_type": "code",
   "execution_count": null,
   "id": "69fe53c2-6169-4d70-af08-1a24869df773",
   "metadata": {},
   "outputs": [],
   "source": [
    "def detect_start(input_, width=4):\n",
    "    for i in range(width, len(input_)):\n",
    "        if len(set(input_[i-width:i])) == width:\n",
    "            return i"
   ]
  },
  {
   "cell_type": "code",
   "execution_count": null,
   "id": "390c8a9b-9cca-482f-985a-6a7474235682",
   "metadata": {},
   "outputs": [],
   "source": [
    "with open(\"12-06.txt\", \"r\") as f:\n",
    "    print(detect_start(f.read()))"
   ]
  },
  {
   "cell_type": "markdown",
   "id": "4969a978-46b1-4073-aa7d-72a0442497de",
   "metadata": {},
   "source": [
    "# Part 2"
   ]
  },
  {
   "cell_type": "code",
   "execution_count": null,
   "id": "c0019fb3-85a7-43a6-9408-c2952403ec77",
   "metadata": {},
   "outputs": [],
   "source": [
    "with open(\"12-06.txt\", \"r\") as f:\n",
    "    print(detect_start(f.read(), 14))"
   ]
  }
 ],
 "metadata": {
  "language_info": {
   "codemirror_mode": {
    "name": "ipython"
   },
   "file_extension": ".py",
   "mimetype": "text/x-python",
   "name": "python",
   "nbconvert_exporter": "python"
  }
 },
 "nbformat": 4,
 "nbformat_minor": 5
}

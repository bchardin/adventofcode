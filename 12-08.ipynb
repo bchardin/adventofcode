{
 "cells": [
  {
   "cell_type": "markdown",
   "metadata": {},
   "source": [
    "# Part 1"
   ]
  },
  {
   "cell_type": "code",
   "execution_count": null,
   "metadata": {},
   "outputs": [],
   "source": [
    "import numpy as np"
   ]
  },
  {
   "cell_type": "code",
   "execution_count": null,
   "metadata": {},
   "outputs": [],
   "source": [
    "input_ = \"12-08.txt\""
   ]
  },
  {
   "cell_type": "code",
   "execution_count": null,
   "metadata": {},
   "outputs": [],
   "source": [
    "with open(input_, \"r\") as f:\n",
    "    grid = np.array([[int(height) for height in l] for l in f.read().splitlines()])"
   ]
  },
  {
   "cell_type": "code",
   "execution_count": null,
   "metadata": {},
   "outputs": [],
   "source": [
    "visible = np.zeros(grid.shape, dtype=np.int32)\n",
    "for (i, j), v in np.ndenumerate(grid):\n",
    "    visible[i, j] = (\n",
    "        (grid[:i, j] < v).all() or\n",
    "        (grid[i+1:, j] < v).all() or\n",
    "        (grid[i, :j] < v).all() or\n",
    "        (grid[i, j+1:] < v).all()\n",
    "    )"
   ]
  },
  {
   "cell_type": "code",
   "execution_count": null,
   "metadata": {},
   "outputs": [],
   "source": [
    "visible.sum()"
   ]
  },
  {
   "cell_type": "markdown",
   "metadata": {},
   "source": [
    "# Part 2"
   ]
  },
  {
   "cell_type": "code",
   "execution_count": null,
   "metadata": {},
   "outputs": [],
   "source": [
    "def line_score(line, height):\n",
    "    visible = line < height\n",
    "    if 0 not in visible:\n",
    "        return len(line)\n",
    "    else:\n",
    "        return np.argmin(visible) + 1"
   ]
  },
  {
   "cell_type": "code",
   "execution_count": null,
   "metadata": {},
   "outputs": [],
   "source": [
    "scores = np.zeros(grid.shape, dtype=np.int32)\n",
    "for (i, j), v in np.ndenumerate(grid):\n",
    "    scores[i, j] = (\n",
    "        line_score(grid[:i, j][::-1], v) *\n",
    "        line_score(grid[i+1:, j], v) *\n",
    "        line_score(grid[i, :j][::-1], v) *\n",
    "        line_score(grid[i, j+1:], v)\n",
    "    )"
   ]
  },
  {
   "cell_type": "code",
   "execution_count": null,
   "metadata": {},
   "outputs": [],
   "source": [
    "scores.max()"
   ]
  }
 ],
 "metadata": {
  "language_info": {
   "codemirror_mode": {
    "name": "ipython"
   },
   "file_extension": ".py",
   "mimetype": "text/x-python",
   "name": "python",
   "nbconvert_exporter": "python"
  }
 },
 "nbformat": 4,
 "nbformat_minor": 4
}

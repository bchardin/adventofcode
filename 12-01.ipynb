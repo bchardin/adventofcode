{
 "cells": [
  {
   "cell_type": "code",
   "execution_count": null,
   "id": "35e7124b-1a05-48e7-b673-59444fe9d08b",
   "metadata": {},
   "outputs": [],
   "source": [
    "import numpy as np"
   ]
  },
  {
   "cell_type": "code",
   "execution_count": null,
   "id": "40f13244-995f-499f-9e59-87ef845318c5",
   "metadata": {},
   "outputs": [],
   "source": [
    "filename = \"inputs/12-01.txt\"\n",
    "with open(filename, \"r\") as f:\n",
    "    data = f.read()"
   ]
  },
  {
   "cell_type": "code",
   "execution_count": null,
   "id": "57436d24-d37a-4a39-a18f-13ca0a28eee7",
   "metadata": {},
   "outputs": [],
   "source": [
    "carry = []\n",
    "current = 0\n",
    "for line in data.splitlines():\n",
    "    if not line:\n",
    "        carry.append(current)\n",
    "        current = 0\n",
    "    else:\n",
    "        current += int(line)\n",
    "carry = np.array(carry)\n",
    "print(f\"The most Calories is {np.max(carry)}.\")\n",
    "print(f\"The three most loaded Elves carry a total of {np.sort(carry)[-3:].sum()} Calories.\")"
   ]
  }
 ],
 "metadata": {
  "language_info": {
   "codemirror_mode": {
    "name": "ipython"
   },
   "file_extension": ".py",
   "mimetype": "text/x-python",
   "name": "python",
   "nbconvert_exporter": "python"
  }
 },
 "nbformat": 4,
 "nbformat_minor": 5
}

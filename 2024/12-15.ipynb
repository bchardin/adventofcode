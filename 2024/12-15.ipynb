{
 "cells": [
  {
   "cell_type": "code",
   "execution_count": null,
   "id": "fed8fc3a-d4d8-4590-9a49-f56ecbf5de4f",
   "metadata": {},
   "outputs": [],
   "source": [
    "import os\n",
    "import sys\n",
    "\n",
    "sys.path.insert(0, os.path.abspath(\"../utils\"))\n",
    "from aoc_utils import load_data, check"
   ]
  },
  {
   "cell_type": "code",
   "execution_count": null,
   "id": "61342c74-6c06-4600-af0d-879fe0b0eda7",
   "metadata": {},
   "outputs": [],
   "source": [
    "data = load_data(2024, 15)"
   ]
  },
  {
   "cell_type": "code",
   "execution_count": null,
   "id": "661e1822-ff0f-4a87-a4a9-ffbd4aeb36a2",
   "metadata": {},
   "outputs": [],
   "source": [
    "# data, part_1, part_2\n",
    "tests = [\n",
    "    (\n",
    "        \"\"\"########\n",
    "#..O.O.#\n",
    "##@.O..#\n",
    "#...O..#\n",
    "#.#.O..#\n",
    "#...O..#\n",
    "#......#\n",
    "########\n",
    "\n",
    "<^^>>>vv<v>>v<<\n",
    "\"\"\",\n",
    "        2028,\n",
    "        None,\n",
    "    ),\n",
    "    (\n",
    "        \"\"\"##########\n",
    "#..O..O.O#\n",
    "#......O.#\n",
    "#.OO..O.O#\n",
    "#..O@..O.#\n",
    "#O#..O...#\n",
    "#O..O..O.#\n",
    "#.OO.O.OO#\n",
    "#....O...#\n",
    "##########\n",
    "\n",
    "<vv>^<v^>v>^vv^v>v<>v^v<v<^vv<<<^><<><>>v<vvv<>^v^>^<<<><<v<<<v^vv^v>^\n",
    "vvv<<^>^v^^><<>>><>^<<><^vv^^<>vvv<>><^^v>^>vv<>v<<<<v<^v>^<^^>>>^<v<v\n",
    "><>vv>v^v^<>><>>>><^^>vv>v<^^^>>v^v^<^^>v^^>v^<^v>v<>>v^v^<v>v^^<^^vv<\n",
    "<<v<^>>^^^^>>>v^<>vvv^><v<<<>^^^vv^<vvv>^>v<^^^^v<>^>vvvv><>>v^<<^^^^^\n",
    "^><^><>>><>^^<<^^v>>><^<v>^<vv>>v>>>^v><>^v><<<<v>>v<v<v>vvv>^<><<>^><\n",
    "^>><>^v<><^vvv<^^<><v<<<<<><^v<<<><<<^^<v<^^^><^>>^<v^><<<^>>^v<v^v<v^\n",
    ">^>>^v>vv>^<<^v<>><<><<v<<v><>v<^vv<<<>^^v^>^^>>><<^v>>v^v><^^>>^<>vv^\n",
    "<><^^>^^^<><vvvvv^v<v<<>^v<v>v<<^><<><<><<<^^<<<^<<>><<><^^^>^^<>^>v<>\n",
    "^^>vv<^v^v<vv>^<><v<^v>^^^>>>^^vvv^>vvv<>>>^<^>>>>>^<<^v>^vvv<>^<><<v>\n",
    "v^^>>><<^^<>>^v^<v^vv<>v^<<>^<^v^v><^<<<><<^<v><v<>vv>>v><v^<vv<>v^<<^\n",
    "\"\"\",\n",
    "        10092,\n",
    "        9021,\n",
    "    ),\n",
    "]"
   ]
  },
  {
   "cell_type": "markdown",
   "id": "e3a0e91e-2dd3-4cfe-897d-6869e1ec01e5",
   "metadata": {},
   "source": [
    "# Part 1"
   ]
  },
  {
   "cell_type": "code",
   "execution_count": null,
   "id": "bf529427-91d9-4e78-b0dd-37b55b18f463",
   "metadata": {},
   "outputs": [],
   "source": [
    "def parse_input(data, large):\n",
    "    layout, moves = data.split(\"\\n\\n\")\n",
    "    walls = set()\n",
    "    blocks = set()\n",
    "    for j, line in enumerate(layout.splitlines()):\n",
    "        for i, c in enumerate(line):\n",
    "            if large:\n",
    "                i = 2 * i\n",
    "            if c == \"#\":\n",
    "                walls.add((i, j))\n",
    "                if large:\n",
    "                    walls.add((i + 1, j))\n",
    "            elif c == \"O\":\n",
    "                blocks.add((i, j))\n",
    "            elif c == \"@\":\n",
    "                robot = i, j\n",
    "            else:\n",
    "                assert c == \".\"\n",
    "    directions = {\n",
    "        \"v\": (0, 1),\n",
    "        \"^\": (0, -1),\n",
    "        \">\": (1, 0),\n",
    "        \"<\": (-1, 0),\n",
    "    }\n",
    "    moves = [directions[c] for c in \"\".join(moves.splitlines())]\n",
    "    return robot, walls, blocks, moves"
   ]
  },
  {
   "cell_type": "code",
   "execution_count": null,
   "id": "73dd4630-4e49-426e-a2be-0eac5b86c310",
   "metadata": {},
   "outputs": [],
   "source": [
    "def print_map(robot, walls, blocks, large):\n",
    "    width = max(i for i, _ in walls) + 1\n",
    "    height = max(j for _, j in walls) + 1\n",
    "    for j in range(height):\n",
    "        line = \"\"\n",
    "        for i in range(width):\n",
    "            if (i, j) == robot:\n",
    "                line += \"@\"\n",
    "            elif (i, j) in walls:\n",
    "                line += \"#\"\n",
    "            elif (i, j) in blocks:\n",
    "                if large:\n",
    "                    line += \"[\"\n",
    "                else:\n",
    "                    line += \"O\"\n",
    "            elif large and (i - 1, j) in blocks:\n",
    "                line += \"]\"\n",
    "            else:\n",
    "                line += \".\"\n",
    "        print(line)"
   ]
  },
  {
   "cell_type": "code",
   "execution_count": null,
   "id": "858dc8c2-dfba-4c38-bcab-7e75a58ae8c6",
   "metadata": {},
   "outputs": [],
   "source": [
    "def push_small_blocks(pos, dir_, blocks, walls):\n",
    "    bi, bj = pos\n",
    "    di, dj = dir_\n",
    "    while (bi, bj) in blocks:\n",
    "        bi += di\n",
    "        bj += dj\n",
    "    if (bi, bj) in walls:\n",
    "        return blocks, False\n",
    "    if (bi, bj) != pos:\n",
    "        return blocks - {pos} | {(bi, bj)}, True\n",
    "    return blocks, True"
   ]
  },
  {
   "cell_type": "code",
   "execution_count": null,
   "id": "8b43950d-957b-4b4c-984f-7fd84755defb",
   "metadata": {},
   "outputs": [],
   "source": [
    "def move_blocks(robot, walls, blocks, moves, push_blocks):\n",
    "    blocks = blocks.copy()\n",
    "    i, j = robot\n",
    "    for di, dj in moves:\n",
    "        blocks, moved = push_blocks((i + di, j + dj), (di, dj), blocks, walls)\n",
    "        if moved:\n",
    "            i += di\n",
    "            j += dj\n",
    "    return robot, blocks"
   ]
  },
  {
   "cell_type": "code",
   "execution_count": null,
   "id": "bd890a2c-7122-4a9e-ab75-bc4f37f90f41",
   "metadata": {},
   "outputs": [],
   "source": [
    "def move_and_locate(data, *, large=False, push_blocks=push_small_blocks):\n",
    "    _, blocks = move_blocks(*parse_input(data, large=large), push_blocks)\n",
    "    return sum(i + 100 * j for i, j in blocks)"
   ]
  },
  {
   "cell_type": "code",
   "execution_count": null,
   "id": "9d0e9143-9dd3-453f-9d86-e415da87425d",
   "metadata": {},
   "outputs": [],
   "source": [
    "check(move_and_locate, tests)\n",
    "move_and_locate(data)"
   ]
  },
  {
   "cell_type": "markdown",
   "id": "3386658c-9811-4824-8fcf-59521344d102",
   "metadata": {},
   "source": [
    "# Part 2"
   ]
  },
  {
   "cell_type": "code",
   "execution_count": null,
   "id": "63785a3e-f071-490a-9b5a-79edc186a537",
   "metadata": {},
   "outputs": [],
   "source": [
    "def push_large_blocks(pos, dir_, blocks, walls):\n",
    "    di, dj = dir_\n",
    "    to_move = set()\n",
    "    to_check = {pos}\n",
    "    while to_check:\n",
    "        i, j = to_check.pop()\n",
    "        if (i, j) in walls:\n",
    "            return blocks, False\n",
    "        for bi in (i - 1, i):\n",
    "            if (bi, j) in blocks:\n",
    "                to_move.add((bi, j))\n",
    "                if di == 0:\n",
    "                    to_check |= {(bi, j + dj), (bi + 1, j + dj)}\n",
    "                else:\n",
    "                    to_check |= {(i + 2 * di, j)}\n",
    "    if to_move:\n",
    "        return (\n",
    "            blocks - to_move | {(i + di, j + dj) for i, j in to_move},\n",
    "            True,\n",
    "        )\n",
    "    return blocks, True"
   ]
  },
  {
   "cell_type": "code",
   "execution_count": null,
   "id": "ae039850-618b-49d4-b4e6-12ec03a2cf54",
   "metadata": {},
   "outputs": [],
   "source": [
    "check(move_and_locate, tests, 2, large=True, push_blocks=push_large_blocks)\n",
    "move_and_locate(data, large=True, push_blocks=push_large_blocks)"
   ]
  }
 ],
 "metadata": {
  "language_info": {
   "codemirror_mode": {
    "name": "ipython"
   },
   "file_extension": ".py",
   "mimetype": "text/x-python",
   "name": "python",
   "nbconvert_exporter": "python"
  }
 },
 "nbformat": 4,
 "nbformat_minor": 5
}

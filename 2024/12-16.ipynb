{
 "cells": [
  {
   "cell_type": "code",
   "execution_count": null,
   "id": "fed8fc3a-d4d8-4590-9a49-f56ecbf5de4f",
   "metadata": {},
   "outputs": [],
   "source": [
    "import os\n",
    "import sys\n",
    "\n",
    "sys.path.insert(0, os.path.abspath(\"../utils\"))\n",
    "from aoc_utils import load_data, check"
   ]
  },
  {
   "cell_type": "code",
   "execution_count": null,
   "id": "83e8432b-7905-40f8-ae1b-3a34d8b18317",
   "metadata": {},
   "outputs": [],
   "source": [
    "import heapq"
   ]
  },
  {
   "cell_type": "code",
   "execution_count": null,
   "id": "61342c74-6c06-4600-af0d-879fe0b0eda7",
   "metadata": {},
   "outputs": [],
   "source": [
    "data = load_data(2024, 16)"
   ]
  },
  {
   "cell_type": "code",
   "execution_count": null,
   "id": "661e1822-ff0f-4a87-a4a9-ffbd4aeb36a2",
   "metadata": {},
   "outputs": [],
   "source": [
    "# data, part_1, part_2\n",
    "tests = [\n",
    "    (\n",
    "        \"\"\"###############\n",
    "#.......#....E#\n",
    "#.#.###.#.###.#\n",
    "#.....#.#...#.#\n",
    "#.###.#####.#.#\n",
    "#.#.#.......#.#\n",
    "#.#.#####.###.#\n",
    "#...........#.#\n",
    "###.#.#####.#.#\n",
    "#...#.....#.#.#\n",
    "#.#.#.###.#.#.#\n",
    "#.....#...#.#.#\n",
    "#.###.#.#.#.#.#\n",
    "#S..#.....#...#\n",
    "###############\n",
    "\"\"\",\n",
    "        7036,\n",
    "        45,\n",
    "    ),\n",
    "    (\n",
    "        \"\"\"#################\n",
    "#...#...#...#..E#\n",
    "#.#.#.#.#.#.#.#.#\n",
    "#.#.#.#...#...#.#\n",
    "#.#.#.#.###.#.#.#\n",
    "#...#.#.#.....#.#\n",
    "#.#.#.#.#.#####.#\n",
    "#.#...#.#.#.....#\n",
    "#.#.#####.#.###.#\n",
    "#.#.#.......#...#\n",
    "#.#.###.#####.###\n",
    "#.#.#...#.....#.#\n",
    "#.#.#.#####.###.#\n",
    "#.#.#.........#.#\n",
    "#.#.#.#########.#\n",
    "#S#.............#\n",
    "#################\n",
    "\"\"\",\n",
    "        11048,\n",
    "        64,\n",
    "    ),\n",
    "]"
   ]
  },
  {
   "cell_type": "markdown",
   "id": "e3a0e91e-2dd3-4cfe-897d-6869e1ec01e5",
   "metadata": {},
   "source": [
    "# Part 1"
   ]
  },
  {
   "cell_type": "code",
   "execution_count": null,
   "id": "3e13008c-a4c6-4075-aec9-3b35228fae0e",
   "metadata": {},
   "outputs": [],
   "source": [
    "def get_layout(data):\n",
    "    walls = set()\n",
    "    for j, line in enumerate(data.splitlines()):\n",
    "        for i, c in enumerate(line):\n",
    "            if c == \"#\":\n",
    "                walls.add((i, j))\n",
    "            elif c == \"S\":\n",
    "                start = i, j\n",
    "            elif c == \"E\":\n",
    "                finish = i, j\n",
    "            else:\n",
    "                assert c == \".\"\n",
    "    return walls, start, finish"
   ]
  },
  {
   "cell_type": "code",
   "execution_count": null,
   "id": "d019a03a-9f68-4a98-82b8-268f7501abc7",
   "metadata": {},
   "outputs": [],
   "source": [
    "def lowest_path_score(walls, start, finish, direction=(1, 0)):\n",
    "    lowest_scores = {}\n",
    "    queue = [(0, (*start, *direction))]\n",
    "    while queue:\n",
    "        s, pos = heapq.heappop(queue)\n",
    "        if pos in lowest_scores and lowest_scores[pos] <= s:\n",
    "            continue\n",
    "        lowest_scores[pos] = s\n",
    "        i, j, di, dj = pos\n",
    "        if (i, j) == finish:\n",
    "            return s\n",
    "        if (i, j) in walls:\n",
    "            continue\n",
    "        heapq.heappush(queue, (s + 1, (i + di, j + dj, di, dj)))\n",
    "        heapq.heappush(queue, (s + 1000, (i, j, -dj, di)))\n",
    "        heapq.heappush(queue, (s + 1000, (i, j, dj, -di)))\n",
    "    raise ValueError(\"Unreachable finish\")"
   ]
  },
  {
   "cell_type": "code",
   "execution_count": null,
   "id": "1cb70bbe-9364-4065-b51b-b7ee14587720",
   "metadata": {},
   "outputs": [],
   "source": [
    "def reindeer_race(data, score=lowest_path_score):\n",
    "    return score(*get_layout(data))"
   ]
  },
  {
   "cell_type": "code",
   "execution_count": null,
   "id": "9d0e9143-9dd3-453f-9d86-e415da87425d",
   "metadata": {},
   "outputs": [],
   "source": [
    "check(reindeer_race, tests)\n",
    "reindeer_race(data)"
   ]
  },
  {
   "cell_type": "markdown",
   "id": "3386658c-9811-4824-8fcf-59521344d102",
   "metadata": {},
   "source": [
    "# Part 2"
   ]
  },
  {
   "cell_type": "code",
   "execution_count": null,
   "id": "9ee141d7-5c3d-4512-a8a2-86a13fb5aea4",
   "metadata": {},
   "outputs": [],
   "source": [
    "def best_paths_length(walls, start, finish, direction=(1, 0)):\n",
    "    score_with_prev = {}\n",
    "    queue = [(0, (*start, *direction), None)]\n",
    "    best = None\n",
    "    ends = set()\n",
    "    while queue:\n",
    "        s, pos, prev = heapq.heappop(queue)\n",
    "        if best is not None and s > best:\n",
    "            # compute best paths\n",
    "            res = {finish}\n",
    "            while ends:\n",
    "                prev = ends.pop()\n",
    "                res.add(prev[:2])\n",
    "                ends |= score_with_prev[prev][1]\n",
    "            return len(res)\n",
    "        i, j, di, dj = pos\n",
    "        if (i, j) in walls:\n",
    "            continue\n",
    "        if (i, j) == finish:\n",
    "            ends.add(prev)\n",
    "            best = s\n",
    "        if pos in score_with_prev:\n",
    "            ps, pprev = score_with_prev[pos]\n",
    "            assert ps <= s\n",
    "            if ps == s:\n",
    "                score_with_prev[pos] = (s, pprev | {prev})\n",
    "            continue\n",
    "        score_with_prev[pos] = (s, set() if prev is None else {prev})\n",
    "        heapq.heappush(queue, (s + 1, (i + di, j + dj, di, dj), pos))\n",
    "        heapq.heappush(queue, (s + 1000, (i, j, -dj, di), pos))\n",
    "        heapq.heappush(queue, (s + 1000, (i, j, dj, -di), pos))\n",
    "    raise ValueError(\"Unreachable finish\")"
   ]
  },
  {
   "cell_type": "code",
   "execution_count": null,
   "id": "ae039850-618b-49d4-b4e6-12ec03a2cf54",
   "metadata": {},
   "outputs": [],
   "source": [
    "check(reindeer_race, tests, 2, score=best_paths_length)\n",
    "reindeer_race(data, score=best_paths_length)"
   ]
  }
 ],
 "metadata": {
  "language_info": {
   "codemirror_mode": {
    "name": "ipython"
   },
   "file_extension": ".py",
   "mimetype": "text/x-python",
   "name": "python",
   "nbconvert_exporter": "python"
  }
 },
 "nbformat": 4,
 "nbformat_minor": 5
}

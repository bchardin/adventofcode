{
 "cells": [
  {
   "cell_type": "code",
   "execution_count": null,
   "id": "fed8fc3a-d4d8-4590-9a49-f56ecbf5de4f",
   "metadata": {},
   "outputs": [],
   "source": [
    "import os\n",
    "import sys\n",
    "\n",
    "sys.path.insert(0, os.path.abspath(\"../utils\"))\n",
    "from aoc_utils import load_data, check"
   ]
  },
  {
   "cell_type": "code",
   "execution_count": null,
   "id": "61342c74-6c06-4600-af0d-879fe0b0eda7",
   "metadata": {},
   "outputs": [],
   "source": [
    "data = load_data(2024, 12)"
   ]
  },
  {
   "cell_type": "code",
   "execution_count": null,
   "id": "661e1822-ff0f-4a87-a4a9-ffbd4aeb36a2",
   "metadata": {},
   "outputs": [],
   "source": [
    "# data, part_1, part_2\n",
    "tests = [\n",
    "    (\n",
    "        \"\"\"AAAA\n",
    "BBCD\n",
    "BBCC\n",
    "EEEC\n",
    "\"\"\",\n",
    "        140,\n",
    "        80,\n",
    "    ),\n",
    "    (\n",
    "        \"\"\"OOOOO\n",
    "OXOXO\n",
    "OOOOO\n",
    "OXOXO\n",
    "OOOOO\n",
    "\"\"\",\n",
    "        772,\n",
    "        436,\n",
    "    ),\n",
    "    (\n",
    "        \"\"\"RRRRIICCFF\n",
    "RRRRIICCCF\n",
    "VVRRRCCFFF\n",
    "VVRCCCJFFF\n",
    "VVVVCJJCFE\n",
    "VVIVCCJJEE\n",
    "VVIIICJJEE\n",
    "MIIIIIJJEE\n",
    "MIIISIJEEE\n",
    "MMMISSJEEE\n",
    "\"\"\",\n",
    "        1930,\n",
    "        1206,\n",
    "    ),\n",
    "    (\n",
    "        \"\"\"AAAAAA\n",
    "AAABBA\n",
    "AAABBA\n",
    "ABBAAA\n",
    "ABBAAA\n",
    "AAAAAA\n",
    "\"\"\",\n",
    "        None,\n",
    "        368,\n",
    "    ),\n",
    "    (\n",
    "        \"\"\"EEEEE\n",
    "EXXXX\n",
    "EEEEE\n",
    "EXXXX\n",
    "EEEEE\n",
    "\"\"\",\n",
    "        None,\n",
    "        236,\n",
    "    ),\n",
    "]"
   ]
  },
  {
   "cell_type": "markdown",
   "id": "e3a0e91e-2dd3-4cfe-897d-6869e1ec01e5",
   "metadata": {},
   "source": [
    "# Part 1"
   ]
  },
  {
   "cell_type": "code",
   "execution_count": null,
   "id": "a20fafd6-1f84-419f-ade8-097a7607515b",
   "metadata": {},
   "outputs": [],
   "source": [
    "def parse_garden(data):\n",
    "    garden = {}\n",
    "    for j, line in enumerate(data.splitlines()):\n",
    "        for i, c in enumerate(line):\n",
    "            garden[i, j] = c\n",
    "    return garden"
   ]
  },
  {
   "cell_type": "code",
   "execution_count": null,
   "id": "0f5bd91a-dd90-49f3-805e-35210663fea3",
   "metadata": {},
   "outputs": [],
   "source": [
    "def pop(garden, border_length):\n",
    "    start = next(iter(garden))\n",
    "    plots = [start]\n",
    "    label = garden.pop(start)\n",
    "    done = {start}\n",
    "    area = 0\n",
    "    border = set()\n",
    "    while plots:\n",
    "        i, j = plots.pop()\n",
    "        area += 1\n",
    "        for di, dj in [\n",
    "            (-1, 0),\n",
    "            (1, 0),\n",
    "            (0, -1),\n",
    "            (0, 1),\n",
    "        ]:\n",
    "            adj = i + di, j + dj\n",
    "            if adj in garden and garden[adj] == label:\n",
    "                plots.append(adj)\n",
    "                done.add(adj)\n",
    "                del garden[adj]\n",
    "            elif adj not in done:\n",
    "                border.add((i, j, di, dj))\n",
    "    return area * border_length(border)"
   ]
  },
  {
   "cell_type": "code",
   "execution_count": null,
   "id": "af549d3b-bf0f-4237-ae90-2e7d3624d22c",
   "metadata": {},
   "outputs": [],
   "source": [
    "def fence_cost(data, border_length=len):\n",
    "    garden = parse_garden(data)\n",
    "    cost = 0\n",
    "    while garden:\n",
    "        region_cost = pop(garden, border_length=border_length)\n",
    "        cost += region_cost\n",
    "    return cost"
   ]
  },
  {
   "cell_type": "code",
   "execution_count": null,
   "id": "9d0e9143-9dd3-453f-9d86-e415da87425d",
   "metadata": {},
   "outputs": [],
   "source": [
    "check(fence_cost, tests)\n",
    "fence_cost(data)"
   ]
  },
  {
   "cell_type": "markdown",
   "id": "3386658c-9811-4824-8fcf-59521344d102",
   "metadata": {},
   "source": [
    "# Part 2"
   ]
  },
  {
   "cell_type": "code",
   "execution_count": null,
   "id": "7fe877fe-276e-4be0-8a0e-60d70183b711",
   "metadata": {},
   "outputs": [],
   "source": [
    "def bulk_length(border):\n",
    "    border = border.copy()\n",
    "    length = 0\n",
    "    while border:\n",
    "        ref_i, ref_j, di, dj = border.pop()\n",
    "        length += 1\n",
    "        for d in (-1, 1):\n",
    "            i = ref_i\n",
    "            j = ref_j\n",
    "            # move along the fence\n",
    "            while (i + d * dj, j + d * di, di, dj) in border:\n",
    "                border.remove((i + d * dj, j + d * di, di, dj))\n",
    "                i += d * dj\n",
    "                j += d * di\n",
    "    return length"
   ]
  },
  {
   "cell_type": "code",
   "execution_count": null,
   "id": "d09936dc-72b8-4761-9254-0bd0b2ed8d2b",
   "metadata": {},
   "outputs": [],
   "source": [
    "check(fence_cost, tests, 2, border_length=bulk_length)\n",
    "fence_cost(data, border_length=bulk_length)"
   ]
  }
 ],
 "metadata": {
  "language_info": {
   "codemirror_mode": {
    "name": "ipython"
   },
   "file_extension": ".py",
   "mimetype": "text/x-python",
   "name": "python",
   "nbconvert_exporter": "python"
  }
 },
 "nbformat": 4,
 "nbformat_minor": 5
}

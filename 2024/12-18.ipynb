{
 "cells": [
  {
   "cell_type": "code",
   "execution_count": null,
   "id": "fed8fc3a-d4d8-4590-9a49-f56ecbf5de4f",
   "metadata": {},
   "outputs": [],
   "source": [
    "import os\n",
    "import sys\n",
    "\n",
    "sys.path.insert(0, os.path.abspath(\"../utils\"))\n",
    "from aoc_utils import load_data, check"
   ]
  },
  {
   "cell_type": "code",
   "execution_count": null,
   "id": "f8d2ab87-0e0d-4308-945f-3500d3fe06ae",
   "metadata": {},
   "outputs": [],
   "source": [
    "import heapq"
   ]
  },
  {
   "cell_type": "code",
   "execution_count": null,
   "id": "61342c74-6c06-4600-af0d-879fe0b0eda7",
   "metadata": {},
   "outputs": [],
   "source": [
    "data = load_data(2024, 18)"
   ]
  },
  {
   "cell_type": "code",
   "execution_count": null,
   "id": "661e1822-ff0f-4a87-a4a9-ffbd4aeb36a2",
   "metadata": {},
   "outputs": [],
   "source": [
    "# data, part_1, part_2\n",
    "tests = [\n",
    "    (\n",
    "        \"\"\"5,4\n",
    "4,2\n",
    "4,5\n",
    "3,0\n",
    "2,1\n",
    "6,3\n",
    "2,4\n",
    "1,5\n",
    "0,6\n",
    "3,3\n",
    "2,6\n",
    "5,1\n",
    "1,2\n",
    "5,5\n",
    "2,5\n",
    "6,5\n",
    "1,4\n",
    "0,4\n",
    "6,4\n",
    "1,1\n",
    "6,1\n",
    "1,0\n",
    "0,5\n",
    "1,6\n",
    "2,0\n",
    "\"\"\",\n",
    "        22,\n",
    "        \"6,1\",\n",
    "    ),\n",
    "]"
   ]
  },
  {
   "cell_type": "markdown",
   "id": "e3a0e91e-2dd3-4cfe-897d-6869e1ec01e5",
   "metadata": {},
   "source": [
    "# Part 1"
   ]
  },
  {
   "cell_type": "code",
   "execution_count": null,
   "id": "81ca7c2b-2114-444e-b035-1d7f1d907b5f",
   "metadata": {},
   "outputs": [],
   "source": [
    "def get_layout(data, limit):\n",
    "    walls = set()\n",
    "    for _, line in zip(range(limit), data.splitlines()):\n",
    "        walls.add(tuple(int(v) for v in line.split(\",\")))\n",
    "    return walls"
   ]
  },
  {
   "cell_type": "code",
   "execution_count": null,
   "id": "fbd3f09f-0c64-4872-8df8-5ec2518137a4",
   "metadata": {},
   "outputs": [],
   "source": [
    "def get_shortest_path(walls, dims):\n",
    "    xmax, ymax = dims\n",
    "    end = (xmax - 1, ymax - 1)\n",
    "    queue = [(0, (0, 0))]\n",
    "    done = {(0, 0)}\n",
    "    while queue:\n",
    "        d, (x, y) = heapq.heappop(queue)\n",
    "        if (x, y) in walls or x < 0 or x >= xmax or y < 0 or y >= ymax:\n",
    "            continue\n",
    "        if (x, y) == end:\n",
    "            return d\n",
    "        for dx, dy in [\n",
    "            (-1, 0),\n",
    "            (1, 0),\n",
    "            (0, -1),\n",
    "            (0, 1),\n",
    "        ]:\n",
    "            next_ = x + dx, y + dy\n",
    "            if next_ not in done:\n",
    "                heapq.heappush(queue, (d + 1, next_))\n",
    "                done.add(next_)\n",
    "    return None"
   ]
  },
  {
   "cell_type": "code",
   "execution_count": null,
   "id": "d22d6931-6523-4209-a38a-8c389c532766",
   "metadata": {},
   "outputs": [],
   "source": [
    "def shortest_path(data, dims, limit):\n",
    "    walls = get_layout(data, limit)\n",
    "    return get_shortest_path(walls, dims)"
   ]
  },
  {
   "cell_type": "code",
   "execution_count": null,
   "id": "9d0e9143-9dd3-453f-9d86-e415da87425d",
   "metadata": {},
   "outputs": [],
   "source": [
    "check(shortest_path, tests, dims=(7, 7), limit=12)\n",
    "shortest_path(data, dims=(71, 71), limit=1024)"
   ]
  },
  {
   "cell_type": "markdown",
   "id": "3386658c-9811-4824-8fcf-59521344d102",
   "metadata": {},
   "source": [
    "# Part 2"
   ]
  },
  {
   "cell_type": "code",
   "execution_count": null,
   "id": "eb17fd23-47c2-4a63-87a9-8edf5202e79d",
   "metadata": {},
   "outputs": [],
   "source": [
    "def blocking_path(data, dims):\n",
    "    blocks = data.splitlines()\n",
    "    left = 0\n",
    "    right = len(blocks)\n",
    "    while right > left + 1:\n",
    "        mid = (left + right) // 2\n",
    "        length = shortest_path(data, dims, mid)\n",
    "        if length is None:\n",
    "            right = mid - 1\n",
    "        else:\n",
    "            left = mid\n",
    "    return blocks[right]"
   ]
  },
  {
   "cell_type": "code",
   "execution_count": null,
   "id": "ae039850-618b-49d4-b4e6-12ec03a2cf54",
   "metadata": {},
   "outputs": [],
   "source": [
    "check(blocking_path, tests, 2, dims=(7, 7))\n",
    "blocking_path(data, dims=(71, 71))"
   ]
  }
 ],
 "metadata": {
  "language_info": {
   "codemirror_mode": {
    "name": "ipython"
   },
   "file_extension": ".py",
   "mimetype": "text/x-python",
   "name": "python",
   "nbconvert_exporter": "python"
  }
 },
 "nbformat": 4,
 "nbformat_minor": 5
}

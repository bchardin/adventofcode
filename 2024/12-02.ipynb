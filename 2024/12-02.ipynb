{
 "cells": [
  {
   "cell_type": "code",
   "execution_count": null,
   "id": "0",
   "metadata": {},
   "outputs": [],
   "source": [
    "import os\n",
    "import sys\n",
    "\n",
    "sys.path.insert(0, os.path.abspath(\"../utils\"))\n",
    "from aoc_utils import load_data, check"
   ]
  },
  {
   "cell_type": "code",
   "execution_count": null,
   "id": "1",
   "metadata": {},
   "outputs": [],
   "source": [
    "import numpy as np"
   ]
  },
  {
   "cell_type": "code",
   "execution_count": null,
   "id": "2",
   "metadata": {},
   "outputs": [],
   "source": [
    "data = load_data(2024, 2)"
   ]
  },
  {
   "cell_type": "code",
   "execution_count": null,
   "id": "3",
   "metadata": {},
   "outputs": [],
   "source": [
    "# data, part_1, part_2\n",
    "tests = [\n",
    "    (\n",
    "        \"\"\"7 6 4 2 1\n",
    "1 2 7 8 9\n",
    "9 7 6 2 1\n",
    "1 3 2 4 5\n",
    "8 6 4 4 1\n",
    "1 3 6 7 9\n",
    "\"\"\",\n",
    "        2,\n",
    "        4,\n",
    "    ),\n",
    "    (\n",
    "        \"\"\"1 2 3 4 5 100\n",
    "1 2 3 4 5 100 6\n",
    "\"\"\",\n",
    "        0,\n",
    "        2,\n",
    "    ),\n",
    "    (\n",
    "        \"\"\"1 1 1 1 1\n",
    "1 1 1 1 2\n",
    "\"\"\",\n",
    "        0,\n",
    "        0,\n",
    "    ),\n",
    "    (\n",
    "        \"\"\"1 8\n",
    "\"\"\",\n",
    "        0,\n",
    "        1,\n",
    "    ),\n",
    "    (\n",
    "        \"\"\"1 1\n",
    "\"\"\",\n",
    "        0,\n",
    "        1,\n",
    "    ),\n",
    "    (\n",
    "        \"\"\"1 1 0\n",
    "\"\"\",\n",
    "        0,\n",
    "        1,\n",
    "    ),\n",
    "    (\n",
    "        \"\"\"1 1 0 1\n",
    "\"\"\",\n",
    "        0,\n",
    "        0,\n",
    "    ),\n",
    "    (\n",
    "        \"\"\"1\"\"\",\n",
    "        1,\n",
    "        1,\n",
    "    ),\n",
    "]"
   ]
  },
  {
   "cell_type": "markdown",
   "id": "4",
   "metadata": {},
   "source": [
    "# Part 1"
   ]
  },
  {
   "cell_type": "code",
   "execution_count": null,
   "id": "5",
   "metadata": {},
   "outputs": [],
   "source": [
    "def is_monotonic(arr):\n",
    "    \"\"\"Check if a sequence is strictly monotonic.\"\"\"\n",
    "    return np.all(arr[:-1] > arr[1:]) or np.all(arr[:-1] < arr[1:])\n",
    "\n",
    "def is_bounded(arr):\n",
    "    \"\"\"Check if the difference between consecutive values is at most 3.\"\"\"\n",
    "    return np.all(np.abs(arr[:-1] - arr[1:]) <= 3)\n",
    "\n",
    "def is_safe(arr):\n",
    "    \"\"\"Check if a report is safe (i.e., monotonic and bounded).\"\"\"\n",
    "    return is_monotonic(arr) and is_bounded(arr)"
   ]
  },
  {
   "cell_type": "code",
   "execution_count": null,
   "id": "6",
   "metadata": {},
   "outputs": [],
   "source": [
    "def count_safe(data, safety_check=is_safe):\n",
    "    \"\"\"Count the number of safe reports in a bunch of reports.\n",
    "\n",
    "    Parameters\n",
    "    ----------\n",
    "    data : str\n",
    "        The input data, with one report per line.\n",
    "    safety_check : callable(NDarray) -> bool\n",
    "        The function to use to assess report safety.\n",
    "\n",
    "    Returns\n",
    "    -------\n",
    "    int\n",
    "        The number of safe reports.\n",
    "    \"\"\"\n",
    "    reports = [np.array([int(v) for v in line.split()]) for line in data.splitlines()]\n",
    "    return sum(safety_check(report) for report in reports)"
   ]
  },
  {
   "cell_type": "code",
   "execution_count": null,
   "id": "7",
   "metadata": {},
   "outputs": [],
   "source": [
    "check(count_safe, tests)\n",
    "count_safe(data)"
   ]
  },
  {
   "cell_type": "markdown",
   "id": "8",
   "metadata": {},
   "source": [
    "# Part 2"
   ]
  },
  {
   "cell_type": "markdown",
   "id": "9",
   "metadata": {},
   "source": [
    "Some added test cases are (probably) not present in AOC input files:\n",
    "\n",
    "- `1`: safe\n",
    "- `1 1`: safe (remove any)\n",
    "- `1 1 0`: safe (remove any of the `1`s)\n",
    "- `1 8` : safe (remove any)\n",
    "\n",
    "The safety check for part 2 first identifies at which indices discrepancies occur (the `errors` variable).\n",
    "\n",
    "- If a **single error position** is identified, then the dampening has two possible values to remove.  \n",
    "E.g., errors = [5] means that values at position (5, 6) are unsafe. Values at either index 5 or 6 can be removed.\n",
    "- **Two error positions** must be consecutive to be rectifiable.  \n",
    "E.g., errors = [5, 6] means that values at positions (5, 6) and (6, 7) are unsafe. The only possible value to remove is at index 6.\n",
    "- **Three or more error positions** are not recoverable."
   ]
  },
  {
   "cell_type": "code",
   "execution_count": null,
   "id": "10",
   "metadata": {},
   "outputs": [],
   "source": [
    "def is_mostly_safe(arr):\n",
    "    \"\"\"Identify if a report is _mostly_ safe.\n",
    "\n",
    "    A report is safe if:\n",
    "    - it is strictly monotonic,\n",
    "    - the difference between two consecutive values is at most 3.\n",
    "\n",
    "    A report is _mostly_ safe if it is safe, or if it can be made safe by\n",
    "    removing a single value.\n",
    "\n",
    "    Parameters\n",
    "    ----------\n",
    "    arr : ndarray\n",
    "        The report, as a 1D sequence of integers.\n",
    "\n",
    "    Returns\n",
    "    -------\n",
    "    bool\n",
    "        Whether the report is _mostly_ safe.\n",
    "    \"\"\"\n",
    "    if len(arr) <= 1:\n",
    "        return True\n",
    "    diff = arr[:-1] - arr[1:]\n",
    "    slopes, cnts = np.unique(np.sign(diff), return_counts=True)\n",
    "    slope = slopes[np.argmax(cnts)]\n",
    "    if slope == 0:\n",
    "        # Edge case for two equal consecutive values among three (slope counts are tied)\n",
    "        slope = 1\n",
    "    errors = np.flatnonzero((np.abs(diff) > 3) | (np.sign(diff) != slope))\n",
    "    if len(errors) == 0:\n",
    "        return True\n",
    "    if len(errors) == 1:\n",
    "        pos = errors[0]\n",
    "        return is_safe(np.delete(arr, pos)) or is_safe(np.delete(arr, pos + 1))\n",
    "    if len(errors) == 2 and errors[0] + 1 == errors[1]:\n",
    "        return is_safe(np.delete(arr, errors[-1]))\n",
    "    return False"
   ]
  },
  {
   "cell_type": "code",
   "execution_count": null,
   "id": "11",
   "metadata": {},
   "outputs": [],
   "source": [
    "check(count_safe, tests, 2, safety_check=is_mostly_safe)\n",
    "count_safe(data, safety_check=is_mostly_safe)"
   ]
  }
 ],
 "metadata": {
  "language_info": {
   "codemirror_mode": {
    "name": "ipython"
   },
   "file_extension": ".py",
   "mimetype": "text/x-python",
   "name": "python",
   "nbconvert_exporter": "python"
  }
 },
 "nbformat": 4,
 "nbformat_minor": 5
}

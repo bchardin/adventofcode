{
 "cells": [
  {
   "cell_type": "code",
   "execution_count": null,
   "id": "fed8fc3a-d4d8-4590-9a49-f56ecbf5de4f",
   "metadata": {},
   "outputs": [],
   "source": [
    "import os\n",
    "import sys\n",
    "\n",
    "sys.path.insert(0, os.path.abspath(\"../utils\"))\n",
    "from aoc_utils import load_data, check"
   ]
  },
  {
   "cell_type": "code",
   "execution_count": null,
   "id": "d3612de3-5da0-4202-b312-d60046858063",
   "metadata": {},
   "outputs": [],
   "source": [
    "from collections import defaultdict"
   ]
  },
  {
   "cell_type": "code",
   "execution_count": null,
   "id": "61342c74-6c06-4600-af0d-879fe0b0eda7",
   "metadata": {},
   "outputs": [],
   "source": [
    "data = load_data(2024, 5)"
   ]
  },
  {
   "cell_type": "code",
   "execution_count": null,
   "id": "661e1822-ff0f-4a87-a4a9-ffbd4aeb36a2",
   "metadata": {},
   "outputs": [],
   "source": [
    "# data, part_1, part_2\n",
    "tests = [\n",
    "    (\n",
    "        \"\"\"47|53\n",
    "97|13\n",
    "97|61\n",
    "97|47\n",
    "75|29\n",
    "61|13\n",
    "75|53\n",
    "29|13\n",
    "97|29\n",
    "53|29\n",
    "61|53\n",
    "97|53\n",
    "61|29\n",
    "47|13\n",
    "75|47\n",
    "97|75\n",
    "47|61\n",
    "75|61\n",
    "47|29\n",
    "75|13\n",
    "53|13\n",
    "\n",
    "75,47,61,53,29\n",
    "97,61,53,29,13\n",
    "75,29,13\n",
    "75,97,47,61,53\n",
    "61,13,29\n",
    "97,13,75,29,47\n",
    "\"\"\",\n",
    "        143,\n",
    "        123,\n",
    "    ),\n",
    "    (\n",
    "        \"\"\"1|2\n",
    "2|3\n",
    "\n",
    "3,1,2\n",
    "\"\"\",\n",
    "        0,\n",
    "        2,\n",
    "    ),\n",
    "]"
   ]
  },
  {
   "cell_type": "markdown",
   "id": "e3a0e91e-2dd3-4cfe-897d-6869e1ec01e5",
   "metadata": {},
   "source": [
    "# Part 1"
   ]
  },
  {
   "cell_type": "code",
   "execution_count": null,
   "id": "e65492f2-0167-4f35-be28-7c17fb360708",
   "metadata": {},
   "outputs": [],
   "source": [
    "def parse_updates(data):\n",
    "    orders, updates = data.split(\"\\n\\n\")\n",
    "    precedence = defaultdict(list)\n",
    "    for line in orders.splitlines():\n",
    "        before, after = (int(v) for v in line.split(\"|\"))\n",
    "        precedence[before].append(after)\n",
    "    updates = [[int(v) for v in line.split(\",\")] for line in updates.splitlines()]\n",
    "    return precedence, updates"
   ]
  },
  {
   "cell_type": "code",
   "execution_count": null,
   "id": "f83b129b-54ed-4ea4-bf77-d68137a5e8a7",
   "metadata": {},
   "outputs": [],
   "source": [
    "def sort(values, precedence):\n",
    "    leasts = set(values)  # leasts contains all smallest values\n",
    "    forward = defaultdict(list)  # a -> [b1, b2, ...] means a < bi\n",
    "    reverse = defaultdict(list)  # a -> [b1, b2, ...] means a > bi\n",
    "    for a, dests in precedence.items():\n",
    "        for dest in dests:\n",
    "            if a in values and dest in values:\n",
    "                forward[a] += [dest]\n",
    "                reverse[dest] += [a]\n",
    "                leasts -= {dest}\n",
    "\n",
    "    ret = []\n",
    "    while leasts:\n",
    "        least = leasts.pop()\n",
    "        ret += [least]\n",
    "        if least in forward:\n",
    "            candidates = forward.pop(least)\n",
    "            for candidate in candidates:\n",
    "                reverse[candidate].remove(least)\n",
    "                if not reverse[candidate]:\n",
    "                    leasts.add(candidate)\n",
    "\n",
    "    if any(reverse.values()):\n",
    "        raise ValueError(\"Non sortable sequence\")\n",
    "    return ret"
   ]
  },
  {
   "cell_type": "code",
   "execution_count": null,
   "id": "ed876ee8-7759-460a-93ae-62e2efb54bb0",
   "metadata": {},
   "outputs": [],
   "source": [
    "def check_updates(data, *, valid=True):\n",
    "    precedence, updates = parse_updates(data)\n",
    "    s = 0\n",
    "    for update in updates:\n",
    "        ordered = sort(update, precedence)\n",
    "        if valid == (ordered == update):\n",
    "            s += ordered[len(ordered) // 2]\n",
    "    return s"
   ]
  },
  {
   "cell_type": "code",
   "execution_count": null,
   "id": "9d0e9143-9dd3-453f-9d86-e415da87425d",
   "metadata": {},
   "outputs": [],
   "source": [
    "check(check_updates, tests)\n",
    "check_updates(data)"
   ]
  },
  {
   "cell_type": "markdown",
   "id": "3386658c-9811-4824-8fcf-59521344d102",
   "metadata": {},
   "source": [
    "# Part 2"
   ]
  },
  {
   "cell_type": "code",
   "execution_count": null,
   "id": "ae039850-618b-49d4-b4e6-12ec03a2cf54",
   "metadata": {},
   "outputs": [],
   "source": [
    "check(check_updates, tests, 2, valid=False)\n",
    "check_updates(data, valid=False)"
   ]
  },
  {
   "cell_type": "markdown",
   "id": "1243b124-b99b-485d-b90e-28f586bee150",
   "metadata": {},
   "source": [
    "# Lessons learned"
   ]
  },
  {
   "cell_type": "markdown",
   "id": "8f705029-d394-4094-9e2f-a357f7ae351a",
   "metadata": {},
   "source": [
    "The built-in function `sorted` (combined with `cmp_to_key`) is not applicable for partial orders, but it also does not work with total orders that are only partially visible through the comparison function.  \n",
    "At least for me, this kind of solution gave the expected result with AOC's input."
   ]
  },
  {
   "cell_type": "code",
   "execution_count": null,
   "id": "0b4e2a33-9fe7-4e7c-a98b-742250d48891",
   "metadata": {},
   "outputs": [],
   "source": [
    "from functools import cmp_to_key, partial"
   ]
  },
  {
   "cell_type": "code",
   "execution_count": null,
   "id": "5adf1232-d626-44d2-98c2-10672d848cd2",
   "metadata": {},
   "outputs": [],
   "source": [
    "def comparator(a, b, precedence):\n",
    "    if a in precedence and b in precedence[a]:\n",
    "        cmp = -1\n",
    "    elif b in precedence and a in precedence[b]:\n",
    "        cmp = 1\n",
    "    else:\n",
    "        cmp = 0\n",
    "    print(f\"comparing {a} and {b} -> {cmp}\")\n",
    "    return cmp"
   ]
  },
  {
   "cell_type": "markdown",
   "id": "073a3255-c195-4fba-8a5d-eca381774dca",
   "metadata": {},
   "source": [
    "## Partial order"
   ]
  },
  {
   "cell_type": "markdown",
   "id": "9d8402e6-6673-4361-a2e4-42f04b71c186",
   "metadata": {},
   "source": [
    "In the example below, 1 should be before 3, and 2 can be anywhere.  \n",
    "The provided result `[3, 2, 1]` is incorrect."
   ]
  },
  {
   "cell_type": "code",
   "execution_count": null,
   "id": "69d305fb-f861-42d7-9de1-f7ca87cc3e8c",
   "metadata": {},
   "outputs": [],
   "source": [
    "sorted([3, 2, 1], key=cmp_to_key(partial(comparator, precedence={1: {3}})))"
   ]
  },
  {
   "cell_type": "markdown",
   "id": "3a0e9663-1f0f-4b9b-aca8-6f78d1352964",
   "metadata": {},
   "source": [
    "## Total order"
   ]
  },
  {
   "cell_type": "markdown",
   "id": "487383bc-41b6-4b2d-b5b0-22406064fd14",
   "metadata": {},
   "source": [
    "In the example below, the precedence states that 1 < 2 and 2 < 3, so the only solution is: `[1, 2, 3]`.  \n",
    "Since `sorted` only compares 1 and 3 (which are not comparable), and then 1 and 2 (which are already in the right order), the provided result `[3, 1, 2]` is incorrect."
   ]
  },
  {
   "cell_type": "code",
   "execution_count": null,
   "id": "0723f5ac-2785-4899-8a5a-9c8f8b360704",
   "metadata": {},
   "outputs": [],
   "source": [
    "sorted([3, 1, 2], key=cmp_to_key(partial(comparator, precedence={1: {2}, 2: {3}})))"
   ]
  }
 ],
 "metadata": {
  "language_info": {
   "codemirror_mode": {
    "name": "ipython"
   },
   "file_extension": ".py",
   "mimetype": "text/x-python",
   "name": "python",
   "nbconvert_exporter": "python"
  }
 },
 "nbformat": 4,
 "nbformat_minor": 5
}

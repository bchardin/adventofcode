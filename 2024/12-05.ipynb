{
 "cells": [
  {
   "cell_type": "code",
   "execution_count": null,
   "id": "fed8fc3a-d4d8-4590-9a49-f56ecbf5de4f",
   "metadata": {},
   "outputs": [],
   "source": [
    "import os\n",
    "import sys\n",
    "\n",
    "sys.path.insert(0, os.path.abspath(\"../utils\"))\n",
    "from aoc_utils import load_data, check"
   ]
  },
  {
   "cell_type": "code",
   "execution_count": null,
   "id": "d3612de3-5da0-4202-b312-d60046858063",
   "metadata": {},
   "outputs": [],
   "source": [
    "from collections import defaultdict\n",
    "from functools import cmp_to_key, partial"
   ]
  },
  {
   "cell_type": "code",
   "execution_count": null,
   "id": "61342c74-6c06-4600-af0d-879fe0b0eda7",
   "metadata": {},
   "outputs": [],
   "source": [
    "data = load_data(2024, 5)"
   ]
  },
  {
   "cell_type": "code",
   "execution_count": null,
   "id": "661e1822-ff0f-4a87-a4a9-ffbd4aeb36a2",
   "metadata": {},
   "outputs": [],
   "source": [
    "# data, part_1, part_2\n",
    "tests = [\n",
    "    (\n",
    "        \"\"\"47|53\n",
    "97|13\n",
    "97|61\n",
    "97|47\n",
    "75|29\n",
    "61|13\n",
    "75|53\n",
    "29|13\n",
    "97|29\n",
    "53|29\n",
    "61|53\n",
    "97|53\n",
    "61|29\n",
    "47|13\n",
    "75|47\n",
    "97|75\n",
    "47|61\n",
    "75|61\n",
    "47|29\n",
    "75|13\n",
    "53|13\n",
    "\n",
    "75,47,61,53,29\n",
    "97,61,53,29,13\n",
    "75,29,13\n",
    "75,97,47,61,53\n",
    "61,13,29\n",
    "97,13,75,29,47\n",
    "\"\"\",\n",
    "        143,\n",
    "        123,\n",
    "    ),\n",
    "]"
   ]
  },
  {
   "cell_type": "markdown",
   "id": "e3a0e91e-2dd3-4cfe-897d-6869e1ec01e5",
   "metadata": {},
   "source": [
    "# Part 1"
   ]
  },
  {
   "cell_type": "code",
   "execution_count": null,
   "id": "e65492f2-0167-4f35-be28-7c17fb360708",
   "metadata": {},
   "outputs": [],
   "source": [
    "def parse_updates(data):\n",
    "    orders, updates = data.split(\"\\n\\n\")\n",
    "    precedence = defaultdict(list)\n",
    "    for line in orders.splitlines():\n",
    "        before, after = (int(v) for v in line.split(\"|\"))\n",
    "        precedence[before].append(after)\n",
    "    updates = [[int(v) for v in line.split(\",\")] for line in updates.splitlines()]\n",
    "    return precedence, updates"
   ]
  },
  {
   "cell_type": "code",
   "execution_count": null,
   "id": "542d0675-e0f0-44f7-bdf0-010d4e5e4986",
   "metadata": {},
   "outputs": [],
   "source": [
    "def compare(a, b, precedence):\n",
    "    if a in precedence and b in precedence[a]:\n",
    "        return -1\n",
    "    if b in precedence and a in precedence[b]:\n",
    "        return 1\n",
    "    return 0"
   ]
  },
  {
   "cell_type": "code",
   "execution_count": null,
   "id": "a08f21a1-dce0-4a8d-89ee-3ad0008a948a",
   "metadata": {},
   "outputs": [],
   "source": [
    "def check_updates(data, *, valid=True):\n",
    "    precedence, updates = parse_updates(data)\n",
    "    custom_key = cmp_to_key(partial(compare, precedence=precedence))\n",
    "    s = 0\n",
    "    for update in updates:\n",
    "        ordered = sorted(update, key=custom_key)\n",
    "        if valid == (ordered == update):\n",
    "            s += ordered[len(ordered) // 2]\n",
    "    return s"
   ]
  },
  {
   "cell_type": "code",
   "execution_count": null,
   "id": "9d0e9143-9dd3-453f-9d86-e415da87425d",
   "metadata": {},
   "outputs": [],
   "source": [
    "check(check_updates, tests)\n",
    "check_updates(data)"
   ]
  },
  {
   "cell_type": "markdown",
   "id": "3386658c-9811-4824-8fcf-59521344d102",
   "metadata": {},
   "source": [
    "# Part 2"
   ]
  },
  {
   "cell_type": "code",
   "execution_count": null,
   "id": "ae039850-618b-49d4-b4e6-12ec03a2cf54",
   "metadata": {},
   "outputs": [],
   "source": [
    "check(check_updates, tests, 2, valid=False)\n",
    "check_updates(data, valid=False)"
   ]
  }
 ],
 "metadata": {
  "language_info": {
   "codemirror_mode": {
    "name": "ipython"
   },
   "file_extension": ".py",
   "mimetype": "text/x-python",
   "name": "python",
   "nbconvert_exporter": "python"
  }
 },
 "nbformat": 4,
 "nbformat_minor": 5
}

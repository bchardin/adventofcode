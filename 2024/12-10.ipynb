{
 "cells": [
  {
   "cell_type": "code",
   "execution_count": null,
   "id": "fed8fc3a-d4d8-4590-9a49-f56ecbf5de4f",
   "metadata": {},
   "outputs": [],
   "source": [
    "import os\n",
    "import sys\n",
    "\n",
    "sys.path.insert(0, os.path.abspath(\"../utils\"))\n",
    "from aoc_utils import load_data, check"
   ]
  },
  {
   "cell_type": "code",
   "execution_count": null,
   "id": "61342c74-6c06-4600-af0d-879fe0b0eda7",
   "metadata": {},
   "outputs": [],
   "source": [
    "data = load_data(2024, 10)"
   ]
  },
  {
   "cell_type": "code",
   "execution_count": null,
   "id": "661e1822-ff0f-4a87-a4a9-ffbd4aeb36a2",
   "metadata": {},
   "outputs": [],
   "source": [
    "# data, part_1, part_2\n",
    "tests = [\n",
    "    (\n",
    "        \"\"\"89010123\n",
    "78121874\n",
    "87430965\n",
    "96549874\n",
    "45678903\n",
    "32019012\n",
    "01329801\n",
    "10456732\n",
    "\"\"\",\n",
    "        36,\n",
    "        81,\n",
    "    ),\n",
    "]"
   ]
  },
  {
   "cell_type": "markdown",
   "id": "e3a0e91e-2dd3-4cfe-897d-6869e1ec01e5",
   "metadata": {},
   "source": [
    "# Part 1"
   ]
  },
  {
   "cell_type": "code",
   "execution_count": null,
   "id": "a708e2f7-2012-40ff-9505-98f765ac76ec",
   "metadata": {},
   "outputs": [],
   "source": [
    "def get_map(data):\n",
    "    heights = {}\n",
    "    starts = set()\n",
    "    for j, line in enumerate(data.splitlines()):\n",
    "        for i, c in enumerate(line):\n",
    "            height = int(c)\n",
    "            heights[i, j] = height\n",
    "            if height == 0:\n",
    "                starts.add((i, j))\n",
    "    return heights, starts"
   ]
  },
  {
   "cell_type": "code",
   "execution_count": null,
   "id": "848a41ac-0624-4035-9330-24bea9187855",
   "metadata": {},
   "outputs": [],
   "source": [
    "def get_path(heights, path):\n",
    "    pos = path[-1]\n",
    "    if heights[pos] == 9:\n",
    "        return {path}\n",
    "    paths = set()\n",
    "    i, j = pos\n",
    "    for di, dj in [\n",
    "        (-1, 0),\n",
    "        (1, 0),\n",
    "        (0, -1),\n",
    "        (0, 1),\n",
    "    ]:\n",
    "        next_pos = i + di, j + dj\n",
    "        if next_pos in heights and heights[next_pos] == heights[pos] + 1:\n",
    "            next_path = path + (next_pos,)\n",
    "            paths |= get_path(heights, next_path)\n",
    "    return paths"
   ]
  },
  {
   "cell_type": "code",
   "execution_count": null,
   "id": "7e330001-d803-49de-a9fd-0fe4b629f1f6",
   "metadata": {},
   "outputs": [],
   "source": [
    "def trail_score(data, *, full_path=False):\n",
    "    score = 0\n",
    "    heights, starts = get_map(data)\n",
    "    for start in starts:\n",
    "        if full_path:\n",
    "            score += len(get_path(heights, (start,)))\n",
    "        else:\n",
    "            score += len({path[-1] for path in get_path(heights, (start,))})\n",
    "    return score"
   ]
  },
  {
   "cell_type": "code",
   "execution_count": null,
   "id": "9d0e9143-9dd3-453f-9d86-e415da87425d",
   "metadata": {},
   "outputs": [],
   "source": [
    "check(trail_score, tests)\n",
    "trail_score(data)"
   ]
  },
  {
   "cell_type": "markdown",
   "id": "3386658c-9811-4824-8fcf-59521344d102",
   "metadata": {},
   "source": [
    "# Part 2"
   ]
  },
  {
   "cell_type": "code",
   "execution_count": null,
   "id": "ae039850-618b-49d4-b4e6-12ec03a2cf54",
   "metadata": {},
   "outputs": [],
   "source": [
    "check(trail_score, tests, 2, full_path=True)\n",
    "trail_score(data, full_path=True)"
   ]
  }
 ],
 "metadata": {
  "language_info": {
   "codemirror_mode": {
    "name": "ipython"
   },
   "file_extension": ".py",
   "mimetype": "text/x-python",
   "name": "python",
   "nbconvert_exporter": "python"
  }
 },
 "nbformat": 4,
 "nbformat_minor": 5
}

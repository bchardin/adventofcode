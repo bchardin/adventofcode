{
 "cells": [
  {
   "cell_type": "code",
   "execution_count": null,
   "id": "fed8fc3a-d4d8-4590-9a49-f56ecbf5de4f",
   "metadata": {},
   "outputs": [],
   "source": [
    "import os\n",
    "import sys\n",
    "\n",
    "sys.path.insert(0, os.path.abspath(\"../utils\"))\n",
    "from aoc_utils import load_data, check"
   ]
  },
  {
   "cell_type": "code",
   "execution_count": null,
   "id": "a8a6aa46-ea4a-45d2-82e8-4bdf45d3a06b",
   "metadata": {},
   "outputs": [],
   "source": [
    "from itertools import product"
   ]
  },
  {
   "cell_type": "code",
   "execution_count": null,
   "id": "61342c74-6c06-4600-af0d-879fe0b0eda7",
   "metadata": {},
   "outputs": [],
   "source": [
    "data = load_data(2024, 4)"
   ]
  },
  {
   "cell_type": "code",
   "execution_count": null,
   "id": "661e1822-ff0f-4a87-a4a9-ffbd4aeb36a2",
   "metadata": {},
   "outputs": [],
   "source": [
    "# data, part_1, part_2\n",
    "tests = [\n",
    "    (\n",
    "        \"\"\"MMMSXXMASM\n",
    "MSAMXMSMSA\n",
    "AMXSXMAAMM\n",
    "MSAMASMSMX\n",
    "XMASAMXAMM\n",
    "XXAMMXXAMA\n",
    "SMSMSASXSS\n",
    "SAXAMASAAA\n",
    "MAMMMXMMMM\n",
    "MXMXAXMASX\n",
    "\"\"\",\n",
    "        18,\n",
    "        9,\n",
    "    ),\n",
    "]"
   ]
  },
  {
   "cell_type": "markdown",
   "id": "e3a0e91e-2dd3-4cfe-897d-6869e1ec01e5",
   "metadata": {},
   "source": [
    "# Part 1"
   ]
  },
  {
   "cell_type": "code",
   "execution_count": null,
   "id": "6cae66c9-da6e-4259-bb56-bf1d5bc6eb36",
   "metadata": {},
   "outputs": [],
   "source": [
    "def parse_letters(data):\n",
    "    letters = {}\n",
    "    for y, line in enumerate(data.splitlines()):\n",
    "        for x, c in enumerate(line):\n",
    "            letters[(x, y)] = c\n",
    "    return letters, x + 1, y + 1"
   ]
  },
  {
   "cell_type": "code",
   "execution_count": null,
   "id": "f288e27b-da8a-4368-8810-53d73e5cc937",
   "metadata": {},
   "outputs": [],
   "source": [
    "def is_word_here(letters, x, y, dx, dy):\n",
    "    return all(\n",
    "        letters.get((x + i * dx, y + i * dy), None) == c\n",
    "        for i, c in enumerate(\"XMAS\")\n",
    "    )"
   ]
  },
  {
   "cell_type": "code",
   "execution_count": null,
   "id": "1d493349-71ce-45fc-8d5d-6c59c830a130",
   "metadata": {},
   "outputs": [],
   "source": [
    "def word_count(data):\n",
    "    letters, width, height = parse_letters(data)\n",
    "    wc = 0\n",
    "    for dx, dy in product([-1, 0, 1], [-1, 0, 1]):\n",
    "        if dx == 0 and dy == 0:\n",
    "            continue\n",
    "        # for every starting position\n",
    "        for x in range(width):\n",
    "            for y in range(height):\n",
    "                wc += is_word_here(letters, x, y, dx, dy)\n",
    "    return wc"
   ]
  },
  {
   "cell_type": "code",
   "execution_count": null,
   "id": "9d0e9143-9dd3-453f-9d86-e415da87425d",
   "metadata": {},
   "outputs": [],
   "source": [
    "check(word_count, tests)\n",
    "word_count(data)"
   ]
  },
  {
   "cell_type": "markdown",
   "id": "3386658c-9811-4824-8fcf-59521344d102",
   "metadata": {},
   "source": [
    "# Part 2"
   ]
  },
  {
   "cell_type": "code",
   "execution_count": null,
   "id": "d90766e4-512a-4316-a359-0c19a49eca68",
   "metadata": {},
   "outputs": [],
   "source": [
    "def is_pattern_here(letters, x, y, pattern):\n",
    "    return all(\n",
    "        letters.get((x + i, y + j), None) == c\n",
    "        for (i, j), c in pattern.items()\n",
    "    )"
   ]
  },
  {
   "cell_type": "code",
   "execution_count": null,
   "id": "9b49e874-c67d-4b6a-a44c-fbe263d3bd68",
   "metadata": {},
   "outputs": [],
   "source": [
    "def rotate(pattern):\n",
    "    rotated = {}\n",
    "    width = max(x for x, _ in pattern)\n",
    "    for (x, y), c in pattern.items():\n",
    "        rotated[(y, width - x)] = c\n",
    "    return rotated"
   ]
  },
  {
   "cell_type": "code",
   "execution_count": null,
   "id": "33210fa0-5812-458a-b65d-25232b71bd75",
   "metadata": {},
   "outputs": [],
   "source": [
    "def word_count(data):\n",
    "    letters, width, height = parse_letters(data)\n",
    "    pattern = {\n",
    "        (0, 0): \"M\",\n",
    "        (2, 0): \"S\",\n",
    "        (1, 1): \"A\",\n",
    "        (0, 2): \"M\",\n",
    "        (2, 2): \"S\",\n",
    "    }\n",
    "    wc = 0\n",
    "    for _ in range(4):\n",
    "        for x in range(width):\n",
    "            for y in range(height):\n",
    "                wc += is_pattern_here(letters, x, y, pattern)\n",
    "        pattern = rotate(pattern)\n",
    "    return wc"
   ]
  },
  {
   "cell_type": "code",
   "execution_count": null,
   "id": "ae039850-618b-49d4-b4e6-12ec03a2cf54",
   "metadata": {},
   "outputs": [],
   "source": [
    "check(word_count, tests, 2)\n",
    "word_count(data)"
   ]
  }
 ],
 "metadata": {
  "language_info": {
   "codemirror_mode": {
    "name": "ipython"
   },
   "file_extension": ".py",
   "mimetype": "text/x-python",
   "name": "python",
   "nbconvert_exporter": "python"
  }
 },
 "nbformat": 4,
 "nbformat_minor": 5
}

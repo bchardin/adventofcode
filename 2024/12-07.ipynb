{
 "cells": [
  {
   "cell_type": "code",
   "execution_count": null,
   "id": "fed8fc3a-d4d8-4590-9a49-f56ecbf5de4f",
   "metadata": {},
   "outputs": [],
   "source": [
    "import os\n",
    "import sys\n",
    "\n",
    "sys.path.insert(0, os.path.abspath(\"../utils\"))\n",
    "from aoc_utils import load_data, check"
   ]
  },
  {
   "cell_type": "code",
   "execution_count": null,
   "id": "61342c74-6c06-4600-af0d-879fe0b0eda7",
   "metadata": {},
   "outputs": [],
   "source": [
    "data = load_data(2024, 7)"
   ]
  },
  {
   "cell_type": "code",
   "execution_count": null,
   "id": "661e1822-ff0f-4a87-a4a9-ffbd4aeb36a2",
   "metadata": {},
   "outputs": [],
   "source": [
    "# data, part_1, part_2\n",
    "tests = [\n",
    "    (\n",
    "        \"\"\"190: 10 19\n",
    "3267: 81 40 27\n",
    "83: 17 5\n",
    "156: 15 6\n",
    "7290: 6 8 6 15\n",
    "161011: 16 10 13\n",
    "192: 17 8 14\n",
    "21037: 9 7 18 13\n",
    "292: 11 6 16 20\n",
    "\"\"\",\n",
    "        3749,\n",
    "        11387,\n",
    "    ),\n",
    "]"
   ]
  },
  {
   "cell_type": "markdown",
   "id": "e3a0e91e-2dd3-4cfe-897d-6869e1ec01e5",
   "metadata": {},
   "source": [
    "# Part 1"
   ]
  },
  {
   "cell_type": "code",
   "execution_count": null,
   "id": "d6576c89-1bcd-4812-8a41-e6b5e3f4bfd9",
   "metadata": {},
   "outputs": [],
   "source": [
    "def parse_lines(data):\n",
    "    lines = []\n",
    "    for line in data.splitlines():\n",
    "        left, _, right = line.partition(\": \")\n",
    "        result = int(left)\n",
    "        numbers = [int(v) for v in right.split()]\n",
    "        assert min(numbers) > 0\n",
    "        lines.append((result, numbers))\n",
    "    return lines"
   ]
  },
  {
   "cell_type": "code",
   "execution_count": null,
   "id": "ae80f111-d312-434c-8719-4ad5b1850d56",
   "metadata": {},
   "outputs": [],
   "source": [
    "def check_line(result, total, remaining, concat):\n",
    "    if not remaining:\n",
    "        return total == result\n",
    "    if total > result:\n",
    "        return False\n",
    "    next_, *remaining = remaining\n",
    "    return (\n",
    "        check_line(result, total + next_, remaining, concat)\n",
    "        or check_line(result, total * next_, remaining, concat)\n",
    "        or (\n",
    "            concat\n",
    "            and check_line(result, int(str(total) + str(next_)), remaining, concat)\n",
    "        )\n",
    "    )"
   ]
  },
  {
   "cell_type": "code",
   "execution_count": null,
   "id": "970d0db0-2727-4af6-801a-dc72bc48b431",
   "metadata": {},
   "outputs": [],
   "source": [
    "def sum_valid_lines(data, *, concat=False):\n",
    "    s = 0\n",
    "    for result, (total, *remaining) in parse_lines(data):\n",
    "        if check_line(result, total, remaining, concat):\n",
    "            s += result\n",
    "    return s"
   ]
  },
  {
   "cell_type": "code",
   "execution_count": null,
   "id": "9d0e9143-9dd3-453f-9d86-e415da87425d",
   "metadata": {},
   "outputs": [],
   "source": [
    "check(sum_valid_lines, tests)\n",
    "sum_valid_lines(data)"
   ]
  },
  {
   "cell_type": "markdown",
   "id": "3386658c-9811-4824-8fcf-59521344d102",
   "metadata": {},
   "source": [
    "# Part 2"
   ]
  },
  {
   "cell_type": "code",
   "execution_count": null,
   "id": "ae039850-618b-49d4-b4e6-12ec03a2cf54",
   "metadata": {},
   "outputs": [],
   "source": [
    "check(sum_valid_lines, tests, 2, concat=True)\n",
    "sum_valid_lines(data, concat=True)"
   ]
  }
 ],
 "metadata": {
  "language_info": {
   "codemirror_mode": {
    "name": "ipython"
   },
   "file_extension": ".py",
   "mimetype": "text/x-python",
   "name": "python",
   "nbconvert_exporter": "python"
  }
 },
 "nbformat": 4,
 "nbformat_minor": 5
}

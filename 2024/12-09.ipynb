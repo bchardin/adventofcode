{
 "cells": [
  {
   "cell_type": "code",
   "execution_count": null,
   "id": "fed8fc3a-d4d8-4590-9a49-f56ecbf5de4f",
   "metadata": {},
   "outputs": [],
   "source": [
    "import os\n",
    "import sys\n",
    "\n",
    "sys.path.insert(0, os.path.abspath(\"../utils\"))\n",
    "from aoc_utils import load_data, check"
   ]
  },
  {
   "cell_type": "code",
   "execution_count": null,
   "id": "1cc5fac6-9e98-4695-a779-c1de6d6197f7",
   "metadata": {},
   "outputs": [],
   "source": [
    "from collections import defaultdict\n",
    "from itertools import accumulate, islice, count\n",
    "from pathlib import Path"
   ]
  },
  {
   "cell_type": "code",
   "execution_count": null,
   "id": "61342c74-6c06-4600-af0d-879fe0b0eda7",
   "metadata": {},
   "outputs": [],
   "source": [
    "data = load_data(2024, 9)"
   ]
  },
  {
   "cell_type": "code",
   "execution_count": null,
   "id": "5392e428-4c57-44a0-af1a-76152ebff1ef",
   "metadata": {},
   "outputs": [],
   "source": [
    "# data, part_1, part_2\n",
    "tests = [\n",
    "    (\n",
    "        \"\"\"2333133121414131402\"\"\",\n",
    "        1928,\n",
    "        2858,\n",
    "    ),\n",
    "]\n",
    "# performance tests provided by Standard_Bar8402\n",
    "# (https://www.reddit.com/r/adventofcode/comments/1haauty/)\n",
    "for filename, part1, part2 in [\n",
    "    (\"inputs/test_input_19-09_01.txt\", 63614979355824, 97898222299196),\n",
    "    (\"inputs/test_input_19-09_02.txt\", 4620970906611856, 5799706413896802),\n",
    "]:\n",
    "    if Path(filename).is_file():\n",
    "        tests.append((Path(filename).read_text(), part1, part2))"
   ]
  },
  {
   "cell_type": "markdown",
   "id": "e3a0e91e-2dd3-4cfe-897d-6869e1ec01e5",
   "metadata": {},
   "source": [
    "# Part 1"
   ]
  },
  {
   "cell_type": "code",
   "execution_count": null,
   "id": "5c99bb19-7d21-45cb-bdf9-0e3b06746032",
   "metadata": {},
   "outputs": [],
   "source": [
    "def move_checksum(data):\n",
    "    # represent files as (id, length)\n",
    "    # e.g. [(0, 2), (1, 3), ..., (9, 2)]\n",
    "    lengths = [int(c) for c in data]\n",
    "    file_sectors = list(enumerate(lengths[::2]))\n",
    "    checksum = 0\n",
    "    pos = 0\n",
    "    for i, length in enumerate(lengths):\n",
    "        if i % 2 == 1:\n",
    "            # rightmost sectors\n",
    "            while length and file_sectors:\n",
    "                idx, file_length = file_sectors.pop()\n",
    "                if file_length > length:\n",
    "                    file_sectors += [(idx, file_length - length)]\n",
    "                    file_length = length\n",
    "                checksum += idx * (2 * pos + file_length - 1) * file_length // 2\n",
    "                length -= file_length\n",
    "                pos += file_length\n",
    "        else:\n",
    "            # leftmost sectors\n",
    "            idx, file_length = file_sectors.pop(0)\n",
    "            checksum += idx * (2 * pos + file_length - 1) * file_length // 2\n",
    "            pos += file_length\n",
    "        if not file_sectors:\n",
    "            return checksum\n",
    "    raise AssertionError"
   ]
  },
  {
   "cell_type": "code",
   "execution_count": null,
   "id": "ae6cfe63-e3e1-40e9-bb9f-72add9e0b96c",
   "metadata": {},
   "outputs": [],
   "source": [
    "check(move_checksum, tests)\n",
    "move_checksum(data)"
   ]
  },
  {
   "cell_type": "markdown",
   "id": "3386658c-9811-4824-8fcf-59521344d102",
   "metadata": {},
   "source": [
    "# Part 2"
   ]
  },
  {
   "cell_type": "code",
   "execution_count": null,
   "id": "9bff21dd-df6f-4de2-be8b-160a6f9e9e57",
   "metadata": {},
   "outputs": [],
   "source": [
    "def defrag_checksum(data):\n",
    "    # represent files as (id, length, position)\n",
    "    # e.g. [(0, 2, 0), (1, 3, 5), ..., (9, 2, 40)]\n",
    "    lengths = [int(c) for c in data]\n",
    "    files = list(\n",
    "        zip(\n",
    "            count(),\n",
    "            lengths[::2],\n",
    "            # position (cumulative sum)\n",
    "            islice(accumulate([0, *lengths]), 0, None, 2),\n",
    "        ),\n",
    "    )\n",
    "    checksum = 0\n",
    "    pos = 0\n",
    "    done = set()\n",
    "    rightmosts = defaultdict(lambda: len(files) - 1)\n",
    "    for i, length in enumerate(lengths):\n",
    "        if i % 2 == 1:\n",
    "            while length:\n",
    "                # find the rightmost sector that fits\n",
    "                which = min(rightmosts[length], len(files) - 1)\n",
    "                while which >= 0 and files[which][1] > length:\n",
    "                    which -= 1\n",
    "                rightmosts[length] = which\n",
    "                if which < 0:\n",
    "                    # nothing fits\n",
    "                    pos += length\n",
    "                    length = 0\n",
    "                else:\n",
    "                    idx, sector_length, file_pos = files.pop(which)\n",
    "                    done.add(file_pos)\n",
    "                    checksum += idx * (2 * pos + sector_length - 1) * sector_length // 2\n",
    "                    length -= sector_length\n",
    "                    pos += sector_length\n",
    "        else:\n",
    "            if pos not in done:\n",
    "                # leftmost sector\n",
    "                idx, sector_length, file_pos = files.pop(0)\n",
    "                checksum += idx * (2 * pos + sector_length - 1) * sector_length // 2\n",
    "            pos += length\n",
    "        if not files:\n",
    "            return checksum\n",
    "    raise AssertionError"
   ]
  },
  {
   "cell_type": "code",
   "execution_count": null,
   "id": "ae039850-618b-49d4-b4e6-12ec03a2cf54",
   "metadata": {},
   "outputs": [],
   "source": [
    "check(defrag_checksum, tests, 2)\n",
    "defrag_checksum(data)"
   ]
  },
  {
   "cell_type": "markdown",
   "id": "7294b90b-a840-4527-bad3-0860402cfac6",
   "metadata": {},
   "source": [
    "# First working solution\n",
    "\n",
    "These are simpler solutions that work ok (resp ~80ms and ~300ms) with the original input, but do not scale as well."
   ]
  },
  {
   "cell_type": "code",
   "execution_count": null,
   "id": "3642400b-cfcb-4e86-aa9b-f1b7d9f61ab5",
   "metadata": {},
   "outputs": [],
   "source": [
    "def move_checksum(data):\n",
    "    # expand files into sectors\n",
    "    # e.g. 001112333...99\n",
    "    file_sectors = [i for i, v in enumerate(data[::2]) for _ in range(int(v))]\n",
    "    checksum = 0\n",
    "    free = False\n",
    "    pos = 0\n",
    "    for c in data:\n",
    "        for _ in range(int(c)):\n",
    "            if free:\n",
    "                # rightmost sectors\n",
    "                checksum += pos * file_sectors.pop()\n",
    "            else:\n",
    "                # leftmost sectors\n",
    "                checksum += pos * file_sectors.pop(0)\n",
    "            if not file_sectors:\n",
    "                return checksum\n",
    "            pos += 1\n",
    "        free = not free\n",
    "    # unreachable\n",
    "    raise AssertionError"
   ]
  },
  {
   "cell_type": "code",
   "execution_count": null,
   "id": "a0e4a11d-5f45-472d-842a-a869923baf2b",
   "metadata": {},
   "outputs": [],
   "source": [
    "check(move_checksum, tests)\n",
    "move_checksum(data)"
   ]
  },
  {
   "cell_type": "code",
   "execution_count": null,
   "id": "61e9a07b-047f-4319-9d0a-870b2c0c4ad8",
   "metadata": {},
   "outputs": [],
   "source": [
    "import numpy as np"
   ]
  },
  {
   "cell_type": "code",
   "execution_count": null,
   "id": "1fbb432d-13d7-4b20-8699-be5e8d3de85e",
   "metadata": {},
   "outputs": [],
   "source": [
    "def defrag_checksum(data):\n",
    "    files = []\n",
    "    free_lengths = []\n",
    "    free_positions = []\n",
    "    free = False\n",
    "    pos = 0\n",
    "    idx = 0\n",
    "    for c in data:\n",
    "        length = int(c)\n",
    "        if free and length:\n",
    "            free_lengths += [length]\n",
    "            free_positions += [pos]\n",
    "        if not free:\n",
    "            files += [(idx, length, pos)]\n",
    "            idx += 1\n",
    "        pos += length\n",
    "        free = not free\n",
    "    free_lengths = np.array(free_lengths)\n",
    "    free_positions = np.array(free_positions)\n",
    "    checksum = 0\n",
    "    for idx, length, pos in files[::-1]:\n",
    "        candidates = free_lengths >= length\n",
    "        if not candidates.any():\n",
    "            checksum += idx * (2 * pos + length - 1) * length // 2\n",
    "            continue\n",
    "        free_pos = free_positions[candidates].min()\n",
    "        if free_pos < pos:\n",
    "            # move\n",
    "            checksum += idx * (2 * free_pos + length - 1) * length // 2\n",
    "            # update free sectors\n",
    "            free_idx, *_ = (free_positions == free_pos).nonzero()\n",
    "            free_lengths[free_idx] -= length\n",
    "            free_positions[free_idx] += length\n",
    "            # since we move files right to left, we fortunately do not have to\n",
    "            # put reclaimed space back into the pool\n",
    "        else:\n",
    "            checksum += idx * (2 * pos + length - 1) * length // 2\n",
    "    return checksum"
   ]
  },
  {
   "cell_type": "code",
   "execution_count": null,
   "id": "5249f2eb-4e36-4530-944d-228c38c38078",
   "metadata": {},
   "outputs": [],
   "source": [
    "check(defrag_checksum, tests, 2)\n",
    "defrag_checksum(data)"
   ]
  }
 ],
 "metadata": {
  "language_info": {
   "codemirror_mode": {
    "name": "ipython"
   },
   "file_extension": ".py",
   "mimetype": "text/x-python",
   "name": "python",
   "nbconvert_exporter": "python"
  }
 },
 "nbformat": 4,
 "nbformat_minor": 5
}

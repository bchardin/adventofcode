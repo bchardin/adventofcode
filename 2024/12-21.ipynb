{
 "cells": [
  {
   "cell_type": "code",
   "execution_count": null,
   "id": "0",
   "metadata": {},
   "outputs": [],
   "source": [
    "import os\n",
    "import sys\n",
    "\n",
    "sys.path.insert(0, os.path.abspath(\"../utils\"))\n",
    "from aoc_utils import check, load_data"
   ]
  },
  {
   "cell_type": "code",
   "execution_count": null,
   "id": "1",
   "metadata": {},
   "outputs": [],
   "source": [
    "from collections.abc import Hashable, Mapping\n",
    "from functools import cache\n",
    "from itertools import permutations"
   ]
  },
  {
   "cell_type": "code",
   "execution_count": null,
   "id": "2",
   "metadata": {},
   "outputs": [],
   "source": [
    "data = load_data(2024, 21)"
   ]
  },
  {
   "cell_type": "code",
   "execution_count": null,
   "id": "3",
   "metadata": {},
   "outputs": [],
   "source": [
    "# data, part_1, part_2\n",
    "tests = [\n",
    "    (\n",
    "        \"\"\"029A\n",
    "980A\n",
    "179A\n",
    "456A\n",
    "379A\n",
    "\"\"\",\n",
    "        126384,\n",
    "        154115708116294,\n",
    "    ),\n",
    "]"
   ]
  },
  {
   "cell_type": "markdown",
   "id": "4",
   "metadata": {},
   "source": [
    "# Part 1"
   ]
  },
  {
   "cell_type": "code",
   "execution_count": null,
   "id": "5",
   "metadata": {},
   "outputs": [],
   "source": [
    "class KeyPad(Hashable, Mapping):\n",
    "    \"\"\"An hashable wrapper around dictionaries to represent a keypad.\"\"\"\n",
    "\n",
    "    def __init__(self, keys):\n",
    "        self._dct = keys\n",
    "        self._hash = hash(tuple(keys.items()))\n",
    "        self._len = len(keys)\n",
    "        self._values = frozenset(keys.values())\n",
    "        if len(self._values) != self._len:\n",
    "            raise ValueError(\"Key positions must be unique\")\n",
    "\n",
    "    def __len__(self):\n",
    "        return self._len\n",
    "\n",
    "    def __hash__(self):\n",
    "        return self._hash\n",
    "\n",
    "    def __eq__(self, other):\n",
    "        return other._dct == self._dct\n",
    "\n",
    "    def __getitem__(self, item):\n",
    "        return self._dct[item]\n",
    "\n",
    "    def __iter__(self):\n",
    "        return self._dct.__iter__()\n",
    "\n",
    "    def values(self):\n",
    "        return self._values\n",
    "\n",
    "def parse_pad(lines):\n",
    "    \"\"\"Convert pad descriptions to a KeyPad object.\"\"\"\n",
    "    pad = {}\n",
    "    for j, line in enumerate(lines):\n",
    "        for i, c in enumerate(line):\n",
    "            if c != \" \":\n",
    "                pad[c] = i, j\n",
    "    return KeyPad(pad)"
   ]
  },
  {
   "cell_type": "code",
   "execution_count": null,
   "id": "6",
   "metadata": {},
   "outputs": [],
   "source": [
    "DIRECTIONS = {\"<\": (-1, 0), \">\": (1, 0), \"^\": (0, -1), \"v\": (0, 1)}\n",
    "\n",
    "def is_valid(start, sequence, valid):\n",
    "    \"\"\"Check if a sequence of instructions only considers valid positions.\"\"\"\n",
    "    i, j = start\n",
    "    for c in sequence:\n",
    "        di, dj = DIRECTIONS[c]\n",
    "        i += di\n",
    "        j += dj\n",
    "        if (i, j) not in valid:\n",
    "            return False\n",
    "    return True\n",
    "\n",
    "def gen_paths(a, b, pad, push=\"A\"):\n",
    "    \"\"\"Generate all shortest valid instruction sequences.\n",
    "\n",
    "    These sequences make a robot starting above the `a` position push the `b` key.\n",
    "    \"\"\"\n",
    "    ai, aj = pad[a]\n",
    "    bi, bj = pad[b]\n",
    "    di, dj = bi - ai, bj - aj\n",
    "    keys = \"<\" * (-di) + \">\" * di + \"^\" * (-dj) + \"v\" * dj\n",
    "    for sequence in {\"\".join(p) for p in permutations(keys)}:\n",
    "        if is_valid(pad[a], sequence, pad.values()):\n",
    "            yield sequence + push"
   ]
  },
  {
   "cell_type": "code",
   "execution_count": null,
   "id": "7",
   "metadata": {},
   "outputs": [],
   "source": [
    "@cache\n",
    "def min_cost(a, b, pads, start):\n",
    "    \"\"\"Compute the minimum number of instructions for a chain of robots.\n",
    "\n",
    "    Parameters\n",
    "    ----------\n",
    "    a: str\n",
    "        The starting key.\n",
    "    b: str\n",
    "        The key to be pushed.\n",
    "    pads: tuple(KeyPad)\n",
    "        The sequence of keypad layouts for robots to use.\n",
    "        This sequence is reversed w.r.t. the chain of robots, i.e., the first\n",
    "        keypad is linked with the door to open.\n",
    "    start: str\n",
    "        The robots arm starting position.\n",
    "\n",
    "    Returns\n",
    "    -------\n",
    "    int\n",
    "        The minimum number of instructions.\n",
    "    \"\"\"\n",
    "    if not pads:\n",
    "        # The human can push any key in one instruction\n",
    "        return 1\n",
    "    return min(\n",
    "        sum(\n",
    "            min_cost(da, db, pads[1:], start)\n",
    "            for da, db in zip(start + path, path)\n",
    "        ) for path in gen_paths(a, b, pads[0])\n",
    "    )"
   ]
  },
  {
   "cell_type": "code",
   "execution_count": null,
   "id": "8",
   "metadata": {},
   "outputs": [],
   "source": [
    "def find_shortest(code, pads, push=\"A\"):\n",
    "    return sum(\n",
    "        min_cost(a, b, pads, push)\n",
    "        for a, b in zip(push + code, code)\n",
    "    )"
   ]
  },
  {
   "cell_type": "code",
   "execution_count": null,
   "id": "9",
   "metadata": {},
   "outputs": [],
   "source": [
    "def type_codes(data, depth=2):\n",
    "    pad_lines = ([\"789\", \"456\", \"123\", \" 0A\"], [\" ^A\", \"<v>\"])\n",
    "    npad, dpad = map(parse_pad, pad_lines)\n",
    "    pads = (npad,) + (dpad,) * depth\n",
    "    complexities = 0\n",
    "    for code in data.splitlines():\n",
    "        num = int(code.replace(\"A\", \"\"))\n",
    "        complexities += find_shortest(code, pads) * num\n",
    "    return complexities"
   ]
  },
  {
   "cell_type": "code",
   "execution_count": null,
   "id": "10",
   "metadata": {},
   "outputs": [],
   "source": [
    "check(type_codes, tests)\n",
    "type_codes(data)"
   ]
  },
  {
   "cell_type": "markdown",
   "id": "11",
   "metadata": {},
   "source": [
    "# Part 2"
   ]
  },
  {
   "cell_type": "code",
   "execution_count": null,
   "id": "12",
   "metadata": {},
   "outputs": [],
   "source": [
    "check(type_codes, tests, 2, depth=25)\n",
    "type_codes(data, depth=25)"
   ]
  }
 ],
 "metadata": {
  "language_info": {
   "codemirror_mode": {
    "name": "ipython"
   },
   "file_extension": ".py",
   "mimetype": "text/x-python",
   "name": "python",
   "nbconvert_exporter": "python"
  }
 },
 "nbformat": 4,
 "nbformat_minor": 5
}

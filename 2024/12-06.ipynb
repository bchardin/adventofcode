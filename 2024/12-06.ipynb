{
 "cells": [
  {
   "cell_type": "code",
   "execution_count": null,
   "id": "fed8fc3a-d4d8-4590-9a49-f56ecbf5de4f",
   "metadata": {},
   "outputs": [],
   "source": [
    "import os\n",
    "import sys\n",
    "\n",
    "sys.path.insert(0, os.path.abspath(\"../utils\"))\n",
    "from aoc_utils import load_data, check"
   ]
  },
  {
   "cell_type": "code",
   "execution_count": null,
   "id": "61342c74-6c06-4600-af0d-879fe0b0eda7",
   "metadata": {},
   "outputs": [],
   "source": [
    "data = load_data(2024, 6)"
   ]
  },
  {
   "cell_type": "code",
   "execution_count": null,
   "id": "661e1822-ff0f-4a87-a4a9-ffbd4aeb36a2",
   "metadata": {},
   "outputs": [],
   "source": [
    "# data, part_1, part_2\n",
    "tests = [\n",
    "    (\n",
    "        \"\"\"....#.....\n",
    ".........#\n",
    "..........\n",
    "..#.......\n",
    ".......#..\n",
    "..........\n",
    ".#..^.....\n",
    "........#.\n",
    "#.........\n",
    "......#...\n",
    "\"\"\",\n",
    "        41,\n",
    "        6,\n",
    "    ),\n",
    "]"
   ]
  },
  {
   "cell_type": "markdown",
   "id": "e3a0e91e-2dd3-4cfe-897d-6869e1ec01e5",
   "metadata": {},
   "source": [
    "# Part 1"
   ]
  },
  {
   "cell_type": "code",
   "execution_count": null,
   "id": "f5cf61b2-2cb4-41da-ad90-f5c0768d2ad0",
   "metadata": {},
   "outputs": [],
   "source": [
    "def parse_map(data):\n",
    "    map_ = {}\n",
    "    for j, line in enumerate(data.splitlines()):\n",
    "        for i, c in enumerate(line):\n",
    "            if c in \"^.\":\n",
    "                if c == \"^\":\n",
    "                    start = (i, j), (0, -1)\n",
    "                map_[i, j] = \".\"\n",
    "            elif c in \"#.\":\n",
    "                map_[i, j] = c\n",
    "            else:\n",
    "                raise AssertionError(f\"Invalid character '{c}'\")\n",
    "    return map_, start"
   ]
  },
  {
   "cell_type": "code",
   "execution_count": null,
   "id": "6c05d466-eab1-488f-92cf-39d3140efd3c",
   "metadata": {},
   "outputs": [],
   "source": [
    "def walk(map_, start):\n",
    "    \"\"\"Get the oriented path along a map.\n",
    "\n",
    "    Stop when looping or exiting the map.\n",
    "\n",
    "    Parameters\n",
    "    ----------\n",
    "    map_ : dict[(x, y), \".\" | \"#\"]\n",
    "        The floor map with empty spaces \".\" and walls \"#\".\n",
    "    start : (x, y,), (dx, dy)\n",
    "        The starting (x, y) position and (dx, dy) orientation.\n",
    "        The orientation should be either (0, -1), (O, 1), (-1, 0) or (1, 0).\n",
    "\n",
    "    Returns\n",
    "    -------\n",
    "    path : set[(x, y, dx, dy))\n",
    "        The resulting oriented path.\n",
    "    loop : bool\n",
    "        Whether the path loops (True) or exists the area (False)\n",
    "    \"\"\"\n",
    "    (x, y), (dx, dy) = start\n",
    "    seen = set()\n",
    "    while True:\n",
    "        if (x, y, dx, dy) in seen:\n",
    "            return seen, True\n",
    "        seen.add((x, y, dx, dy))\n",
    "        next_pos = x + dx, y + dy\n",
    "        while next_pos in map_ and map_[next_pos] == \"#\":\n",
    "            # turn right\n",
    "            dx, dy = -dy, dx\n",
    "            next_pos = x + dx, y + dy\n",
    "        if next_pos not in map_:\n",
    "            return seen, False\n",
    "        x, y = next_pos"
   ]
  },
  {
   "cell_type": "code",
   "execution_count": null,
   "id": "0b8148a3-b2d1-4fa1-a099-0ce8c3ffa33c",
   "metadata": {},
   "outputs": [],
   "source": [
    "def get_path(oriented_path):\n",
    "    \"\"\"Compute the non-oriented path.\"\"\"\n",
    "    return {(x, y) for (x, y, _, _) in oriented_path}"
   ]
  },
  {
   "cell_type": "code",
   "execution_count": null,
   "id": "35c46a67-0747-4600-a78f-543d4311f1b8",
   "metadata": {},
   "outputs": [],
   "source": [
    "def path_length(data):\n",
    "    oriented_path, loop = walk(*parse_map(data))\n",
    "    assert not loop\n",
    "    return len(get_path(oriented_path))"
   ]
  },
  {
   "cell_type": "code",
   "execution_count": null,
   "id": "9d0e9143-9dd3-453f-9d86-e415da87425d",
   "metadata": {},
   "outputs": [],
   "source": [
    "check(path_length, tests)\n",
    "path_length(data)"
   ]
  },
  {
   "cell_type": "markdown",
   "id": "3386658c-9811-4824-8fcf-59521344d102",
   "metadata": {},
   "source": [
    "# Part 2"
   ]
  },
  {
   "cell_type": "code",
   "execution_count": null,
   "id": "ebaf5c5b-4d28-464e-b98d-9f21e1ee0281",
   "metadata": {},
   "outputs": [],
   "source": [
    "def block_path(data):\n",
    "    map_, start = parse_map(data)\n",
    "    start_pos, _ = start\n",
    "    loops = 0\n",
    "    oriented_path, _ = walk(map_, start)\n",
    "    path = get_path(oriented_path)\n",
    "    for pos in path:\n",
    "        if pos != start_pos:\n",
    "            map_[pos] = \"#\"\n",
    "            _, loop = walk(map_, start)\n",
    "            loops += loop\n",
    "            map_[pos] = \".\"\n",
    "    return loops"
   ]
  },
  {
   "cell_type": "code",
   "execution_count": null,
   "id": "ae039850-618b-49d4-b4e6-12ec03a2cf54",
   "metadata": {},
   "outputs": [],
   "source": [
    "%%time\n",
    "check(block_path, tests, 2)\n",
    "block_path(data)"
   ]
  }
 ],
 "metadata": {
  "language_info": {
   "codemirror_mode": {
    "name": "ipython"
   },
   "file_extension": ".py",
   "mimetype": "text/x-python",
   "name": "python",
   "nbconvert_exporter": "python"
  }
 },
 "nbformat": 4,
 "nbformat_minor": 5
}

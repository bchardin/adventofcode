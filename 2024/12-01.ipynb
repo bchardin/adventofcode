{
 "cells": [
  {
   "cell_type": "code",
   "execution_count": null,
   "id": "0",
   "metadata": {},
   "outputs": [],
   "source": [
    "import os\n",
    "import sys\n",
    "\n",
    "sys.path.insert(0, os.path.abspath(\"../utils\"))\n",
    "from aoc_utils import load_data, check"
   ]
  },
  {
   "cell_type": "code",
   "execution_count": null,
   "id": "1",
   "metadata": {},
   "outputs": [],
   "source": [
    "data = load_data(2024, 1)"
   ]
  },
  {
   "cell_type": "code",
   "execution_count": null,
   "id": "2",
   "metadata": {},
   "outputs": [],
   "source": [
    "# data, part_1, part_2\n",
    "tests = [\n",
    "    (\n",
    "        \"\"\"3   4\n",
    "4   3\n",
    "2   5\n",
    "1   3\n",
    "3   9\n",
    "3   3\n",
    "\"\"\",\n",
    "        11,\n",
    "        31,\n",
    "    ),\n",
    "]"
   ]
  },
  {
   "cell_type": "markdown",
   "id": "3",
   "metadata": {},
   "source": [
    "# Part 1"
   ]
  },
  {
   "cell_type": "code",
   "execution_count": null,
   "id": "4",
   "metadata": {},
   "outputs": [],
   "source": [
    "def get_lists(data):\n",
    "    \"\"\"Extract left and right integers lists from the input data.\"\"\"\n",
    "    return tuple(zip(*[[int(v) for v in line.split()] for line in data.splitlines()]))\n",
    "\n",
    "def get_distance(data):\n",
    "    \"\"\"Sort lists and sum absolute differences.\"\"\"\n",
    "    left, right = get_lists(data)\n",
    "    return sum(abs(x - y) for x, y in zip(sorted(left), sorted(right)))"
   ]
  },
  {
   "cell_type": "code",
   "execution_count": null,
   "id": "5",
   "metadata": {},
   "outputs": [],
   "source": [
    "check(get_distance, tests)\n",
    "get_distance(data)"
   ]
  },
  {
   "cell_type": "markdown",
   "id": "6",
   "metadata": {},
   "source": [
    "# Part 2"
   ]
  },
  {
   "cell_type": "code",
   "execution_count": null,
   "id": "7",
   "metadata": {},
   "outputs": [],
   "source": [
    "from collections import Counter"
   ]
  },
  {
   "cell_type": "code",
   "execution_count": null,
   "id": "8",
   "metadata": {},
   "outputs": [],
   "source": [
    "def sim_score(data):\n",
    "    \"\"\"Compute the AOC similarity score.\"\"\"\n",
    "    left, right = get_lists(data)\n",
    "    cnt = Counter(right)\n",
    "    return sum(x * cnt[x] for x in left)"
   ]
  },
  {
   "cell_type": "code",
   "execution_count": null,
   "id": "9",
   "metadata": {},
   "outputs": [],
   "source": [
    "check(sim_score, tests, 2)\n",
    "sim_score(data)"
   ]
  }
 ],
 "metadata": {
  "language_info": {
   "codemirror_mode": {
    "name": "ipython"
   },
   "file_extension": ".py",
   "mimetype": "text/x-python",
   "name": "python",
   "nbconvert_exporter": "python"
  }
 },
 "nbformat": 4,
 "nbformat_minor": 5
}

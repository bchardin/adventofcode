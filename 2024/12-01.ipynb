{
 "cells": [
  {
   "cell_type": "code",
   "execution_count": null,
   "id": "fed8fc3a-d4d8-4590-9a49-f56ecbf5de4f",
   "metadata": {},
   "outputs": [],
   "source": [
    "import os\n",
    "import sys\n",
    "\n",
    "sys.path.insert(0, os.path.abspath(\"../utils\"))\n",
    "from aoc_utils import load_data, check"
   ]
  },
  {
   "cell_type": "code",
   "execution_count": null,
   "id": "61342c74-6c06-4600-af0d-879fe0b0eda7",
   "metadata": {},
   "outputs": [],
   "source": [
    "data = load_data(2024, 1)"
   ]
  },
  {
   "cell_type": "code",
   "execution_count": null,
   "id": "661e1822-ff0f-4a87-a4a9-ffbd4aeb36a2",
   "metadata": {},
   "outputs": [],
   "source": [
    "# data, part_1, part_2\n",
    "tests = [\n",
    "    (\n",
    "        \"\"\"3   4\n",
    "4   3\n",
    "2   5\n",
    "1   3\n",
    "3   9\n",
    "3   3\n",
    "\"\"\",\n",
    "        11,\n",
    "        31,\n",
    "    ),\n",
    "]"
   ]
  },
  {
   "cell_type": "markdown",
   "id": "e3a0e91e-2dd3-4cfe-897d-6869e1ec01e5",
   "metadata": {},
   "source": [
    "# Part 1"
   ]
  },
  {
   "cell_type": "code",
   "execution_count": null,
   "id": "538c7558-224e-4531-8330-f8bf37299520",
   "metadata": {},
   "outputs": [],
   "source": [
    "def get_lists(data):\n",
    "    \"\"\"Extract left and right integers lists from the input data.\"\"\"\n",
    "    return tuple(zip(*[[int(v) for v in line.split()] for line in data.splitlines()]))\n",
    "\n",
    "def get_distance(data):\n",
    "    \"\"\"Sort lists and sum absolute differences.\"\"\"\n",
    "    left, right = get_lists(data)\n",
    "    return sum(abs(x - y) for x, y in zip(sorted(left), sorted(right)))"
   ]
  },
  {
   "cell_type": "code",
   "execution_count": null,
   "id": "9d0e9143-9dd3-453f-9d86-e415da87425d",
   "metadata": {},
   "outputs": [],
   "source": [
    "check(get_distance, tests)\n",
    "get_distance(data)"
   ]
  },
  {
   "cell_type": "markdown",
   "id": "3386658c-9811-4824-8fcf-59521344d102",
   "metadata": {},
   "source": [
    "# Part 2"
   ]
  },
  {
   "cell_type": "code",
   "execution_count": null,
   "id": "1a03f21f-0374-4a30-b5e8-f042339259da",
   "metadata": {},
   "outputs": [],
   "source": [
    "from collections import Counter"
   ]
  },
  {
   "cell_type": "code",
   "execution_count": null,
   "id": "e6822148-a2ac-41b3-b167-c73c5b4e2e9a",
   "metadata": {},
   "outputs": [],
   "source": [
    "def sim_score(data):\n",
    "    \"\"\"Compute the AOC similarity score.\"\"\"\n",
    "    left, right = get_lists(data)\n",
    "    cnt = Counter(right)\n",
    "    return sum(x * cnt[x] for x in left)"
   ]
  },
  {
   "cell_type": "code",
   "execution_count": null,
   "id": "ae039850-618b-49d4-b4e6-12ec03a2cf54",
   "metadata": {},
   "outputs": [],
   "source": [
    "check(sim_score, tests, 2)\n",
    "sim_score(data)"
   ]
  }
 ],
 "metadata": {
  "language_info": {
   "codemirror_mode": {
    "name": "ipython"
   },
   "file_extension": ".py",
   "mimetype": "text/x-python",
   "name": "python",
   "nbconvert_exporter": "python"
  }
 },
 "nbformat": 4,
 "nbformat_minor": 5
}

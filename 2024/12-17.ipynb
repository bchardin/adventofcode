{
 "cells": [
  {
   "cell_type": "code",
   "execution_count": null,
   "id": "fed8fc3a-d4d8-4590-9a49-f56ecbf5de4f",
   "metadata": {},
   "outputs": [],
   "source": [
    "import os\n",
    "import sys\n",
    "\n",
    "sys.path.insert(0, os.path.abspath(\"../utils\"))\n",
    "from aoc_utils import load_data, check"
   ]
  },
  {
   "cell_type": "code",
   "execution_count": null,
   "id": "4f8e47e2-c0f6-41a0-ab09-0ff806497b63",
   "metadata": {},
   "outputs": [],
   "source": [
    "import re"
   ]
  },
  {
   "cell_type": "code",
   "execution_count": null,
   "id": "61342c74-6c06-4600-af0d-879fe0b0eda7",
   "metadata": {},
   "outputs": [],
   "source": [
    "data = load_data(2024, 17)"
   ]
  },
  {
   "cell_type": "code",
   "execution_count": null,
   "id": "661e1822-ff0f-4a87-a4a9-ffbd4aeb36a2",
   "metadata": {},
   "outputs": [],
   "source": [
    "# data, part_1, part_2\n",
    "tests = [\n",
    "    (\n",
    "        \"\"\"Register A: 729\n",
    "Register B: 0\n",
    "Register C: 0\n",
    "\n",
    "Program: 0,1,5,4,3,0\n",
    "\"\"\",\n",
    "        \"4,6,3,5,6,3,5,2,1,0\",\n",
    "        None,\n",
    "    ),\n",
    "    (\n",
    "        \"\"\"Register A: 10\n",
    "Register B: 0\n",
    "Register C: 0\n",
    "\n",
    "Program: 5,0,5,1,5,4\n",
    "\"\"\",\n",
    "        \"0,1,2\",\n",
    "        None,\n",
    "    ),\n",
    "    (\n",
    "        \"\"\"Register A: 2024\n",
    "Register B: 0\n",
    "Register C: 0\n",
    "\n",
    "Program: 0,1,5,4,3,0\n",
    "\"\"\",\n",
    "        \"4,2,5,6,7,7,7,7,3,1,0\",\n",
    "        None,\n",
    "    ),\n",
    "    (\n",
    "        \"\"\"Register A: 0\n",
    "Register B: 29\n",
    "Register C: 0\n",
    "\n",
    "Program: 1,7\n",
    "\"\"\",\n",
    "        \"\",\n",
    "        None,\n",
    "    ),\n",
    "    (\n",
    "        \"\"\"Register A: 0\n",
    "Register B: 2024\n",
    "Register C: 43690\n",
    "\n",
    "Program: 4,0\n",
    "\"\"\",\n",
    "        \"\",\n",
    "        None,\n",
    "    ),\n",
    "    (\n",
    "        \"\"\"Register A: 2024\n",
    "Register B: 0\n",
    "Register C: 0\n",
    "\n",
    "Program: 0,3,5,4,3,0\n",
    "\"\"\",\n",
    "        None,\n",
    "        117440,\n",
    "    ),\n",
    "]"
   ]
  },
  {
   "cell_type": "markdown",
   "id": "e3a0e91e-2dd3-4cfe-897d-6869e1ec01e5",
   "metadata": {},
   "source": [
    "# Part 1"
   ]
  },
  {
   "cell_type": "code",
   "execution_count": null,
   "id": "ededcab4-b438-4ac2-b902-59a861768637",
   "metadata": {},
   "outputs": [],
   "source": [
    "def parse_program(data):\n",
    "    registers, program = data.split(\"\\n\\n\")\n",
    "    registers = dict(\n",
    "        zip(\n",
    "            range(4, 7),\n",
    "            (int(v) for v in re.findall(r\"(-?\\d+)\", registers)),\n",
    "        ),\n",
    "    )\n",
    "    operations = [int(v) for v in re.findall(r\"(-?\\d+)\", program)]\n",
    "    return registers, operations"
   ]
  },
  {
   "cell_type": "code",
   "execution_count": null,
   "id": "72166f7c-c1c9-4152-ba20-40bd49f5160e",
   "metadata": {},
   "outputs": [],
   "source": [
    "def execute(registers, program):\n",
    "    pt = 0\n",
    "    div_targets = {0: 4, 6: 5, 7: 6}\n",
    "    while pt < len(program):\n",
    "        match program[pt:pt + 2]:\n",
    "            case [op, reg] if op in div_targets:\n",
    "                denominator = registers.get(reg, reg)\n",
    "                registers[div_targets[op]] = registers[4] >> denominator\n",
    "            case [1, lit]:\n",
    "                registers[5] ^= lit\n",
    "            case [2, reg]:\n",
    "                registers[5] = registers.get(reg, reg) % 8\n",
    "            case [3, lit]:\n",
    "                if registers[4]:\n",
    "                    pt = lit - 2\n",
    "            case [4, _]:\n",
    "                registers[5] ^= registers[6]\n",
    "            case [5, reg]:\n",
    "                yield registers.get(reg, reg) % 8\n",
    "            case _:\n",
    "                raise AssertionError\n",
    "        pt += 2"
   ]
  },
  {
   "cell_type": "code",
   "execution_count": null,
   "id": "4923d846-eda0-4154-ac29-ea5576a49862",
   "metadata": {},
   "outputs": [],
   "source": [
    "def parse_and_execture(data):\n",
    "    registers, program = parse_program(data)\n",
    "    return \",\".join(str(v) for v in execute(registers, program))"
   ]
  },
  {
   "cell_type": "code",
   "execution_count": null,
   "id": "9d0e9143-9dd3-453f-9d86-e415da87425d",
   "metadata": {},
   "outputs": [],
   "source": [
    "check(parse_and_execture, tests)\n",
    "parse_and_execture(data)"
   ]
  },
  {
   "cell_type": "markdown",
   "id": "3386658c-9811-4824-8fcf-59521344d102",
   "metadata": {},
   "source": [
    "# Part 2\n",
    "\n",
    "This solution assumes that the program has the following properties:\n",
    "\n",
    "- register A is right shifted by 3 bits during each iteration\n",
    "- one value is output during each iteration\n",
    "- counting from last to first, the ith output depends on at most the 3i most significant bits of A"
   ]
  },
  {
   "cell_type": "code",
   "execution_count": null,
   "id": "0dc05541-4346-4a86-a2f2-b6d38634e354",
   "metadata": {},
   "outputs": [],
   "source": [
    "def matches(registers, program, a_values):\n",
    "    a = sum(v * 8**i for i, v in enumerate(a_values[::-1]))\n",
    "    reg = registers.copy()\n",
    "    reg[4] = a\n",
    "    cnt = 0\n",
    "    for v1, v2 in reversed(list(zip(execute(reg, program), program))):\n",
    "        if v1 != v2:\n",
    "            break\n",
    "        cnt += 1\n",
    "    return cnt"
   ]
  },
  {
   "cell_type": "code",
   "execution_count": null,
   "id": "90f45485-374e-4c7d-9d7f-5a778ea1e87c",
   "metadata": {},
   "outputs": [],
   "source": [
    "def fix_input(data):\n",
    "    registers, program = parse_program(data)\n",
    "    a = [0] * len(program)\n",
    "    while (m := matches(registers, program, a)) < len(program):\n",
    "        a[m] += 1\n",
    "        while a[m] > 7:\n",
    "            a[m] = 0\n",
    "            a[m - 1] += 1\n",
    "            m -= 1\n",
    "    return sum(v * 8**i for i, v in enumerate(a[::-1]))"
   ]
  },
  {
   "cell_type": "code",
   "execution_count": null,
   "id": "ae039850-618b-49d4-b4e6-12ec03a2cf54",
   "metadata": {},
   "outputs": [],
   "source": [
    "check(fix_input, tests, 2)\n",
    "fix_input(data)"
   ]
  }
 ],
 "metadata": {
  "language_info": {
   "codemirror_mode": {
    "name": "ipython"
   },
   "file_extension": ".py",
   "mimetype": "text/x-python",
   "name": "python",
   "nbconvert_exporter": "python"
  }
 },
 "nbformat": 4,
 "nbformat_minor": 5
}

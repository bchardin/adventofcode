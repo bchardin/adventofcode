{
 "cells": [
  {
   "cell_type": "code",
   "execution_count": null,
   "id": "fed8fc3a-d4d8-4590-9a49-f56ecbf5de4f",
   "metadata": {},
   "outputs": [],
   "source": [
    "import os\n",
    "import sys\n",
    "\n",
    "sys.path.insert(0, os.path.abspath(\"../utils\"))\n",
    "from aoc_utils import load_data, check"
   ]
  },
  {
   "cell_type": "code",
   "execution_count": null,
   "id": "30bb30f3-5da6-417a-a1a0-7d2f3acfcf11",
   "metadata": {},
   "outputs": [],
   "source": [
    "from collections import defaultdict\n",
    "from itertools import permutations, combinations"
   ]
  },
  {
   "cell_type": "code",
   "execution_count": null,
   "id": "61342c74-6c06-4600-af0d-879fe0b0eda7",
   "metadata": {},
   "outputs": [],
   "source": [
    "data = load_data(2024, 8)"
   ]
  },
  {
   "cell_type": "code",
   "execution_count": null,
   "id": "661e1822-ff0f-4a87-a4a9-ffbd4aeb36a2",
   "metadata": {},
   "outputs": [],
   "source": [
    "# data, part_1, part_2\n",
    "tests = [\n",
    "    (\n",
    "        \"\"\"............\n",
    "........0...\n",
    ".....0......\n",
    ".......0....\n",
    "....0.......\n",
    "......A.....\n",
    "............\n",
    "............\n",
    "........A...\n",
    ".........A..\n",
    "............\n",
    "............\n",
    "\"\"\",\n",
    "        14,\n",
    "        34,\n",
    "    ),\n",
    "    (\n",
    "        \"\"\"............\n",
    "............\n",
    "............\n",
    "............\n",
    "............\n",
    "............\n",
    "............\n",
    "X...........\n",
    "............\n",
    "X...........\n",
    "............\n",
    "............\n",
    "\"\"\",\n",
    "        None,\n",
    "        12,\n",
    "    ),\n",
    "]"
   ]
  },
  {
   "cell_type": "markdown",
   "id": "e3a0e91e-2dd3-4cfe-897d-6869e1ec01e5",
   "metadata": {},
   "source": [
    "# Part 1"
   ]
  },
  {
   "cell_type": "code",
   "execution_count": null,
   "id": "933ddc14-c643-44a9-b2c3-103f4240ba09",
   "metadata": {},
   "outputs": [],
   "source": [
    "def parse_map(data):\n",
    "    antenas = defaultdict(set)\n",
    "    for j, line in enumerate(data.splitlines()):\n",
    "        for i, c in enumerate(line):\n",
    "            if c != \".\":\n",
    "                antenas[c].add((i, j))\n",
    "    return antenas, i + 1, j + 1"
   ]
  },
  {
   "cell_type": "code",
   "execution_count": null,
   "id": "08296275-c5c0-46d5-bead-13e283ebc36f",
   "metadata": {},
   "outputs": [],
   "source": [
    "def get_antinodes(antenas, width, height):\n",
    "    antinodes = set()\n",
    "    for (x1, y1), (x2, y2) in permutations(antenas, 2):\n",
    "        x = 2 * x2 - x1\n",
    "        y = 2 * y2 - y1\n",
    "        if 0 <= x < width and 0 <= y < height:\n",
    "            antinodes.add((x, y))\n",
    "    return antinodes"
   ]
  },
  {
   "cell_type": "code",
   "execution_count": null,
   "id": "4427b6fa-eaa3-4027-9302-9f006117fb1d",
   "metadata": {},
   "outputs": [],
   "source": [
    "def count_antinodes(data, antinode_locations=get_antinodes):\n",
    "    antenas, width, height = parse_map(data)\n",
    "    antinodes = set()\n",
    "    for locations in antenas.values():\n",
    "        antinodes |= antinode_locations(locations, width, height)\n",
    "    return len(antinodes)"
   ]
  },
  {
   "cell_type": "code",
   "execution_count": null,
   "id": "9d0e9143-9dd3-453f-9d86-e415da87425d",
   "metadata": {},
   "outputs": [],
   "source": [
    "check(count_antinodes, tests)\n",
    "count_antinodes(data)"
   ]
  },
  {
   "cell_type": "markdown",
   "id": "3386658c-9811-4824-8fcf-59521344d102",
   "metadata": {},
   "source": [
    "# Part 2"
   ]
  },
  {
   "cell_type": "code",
   "execution_count": null,
   "id": "4ce7a522-f08f-40b7-a30e-f7cd58ae9e14",
   "metadata": {},
   "outputs": [],
   "source": [
    "import math"
   ]
  },
  {
   "cell_type": "code",
   "execution_count": null,
   "id": "211f55a7-59f6-4cd3-9d8e-3a60d33b951c",
   "metadata": {},
   "outputs": [],
   "source": [
    "def get_antinode_lines(antenas, width, height):\n",
    "    antinodes = set()\n",
    "    for (x1, y1), (x2, y2) in combinations(antenas, 2):\n",
    "        dx = x2 - x1\n",
    "        dy = y2 - y1\n",
    "        gcd = math.gcd(dx, dy)\n",
    "        dx //= gcd\n",
    "        dy //= gcd\n",
    "        # 0 <= x1 + k * dx <= width - 1\n",
    "        # 0 <= y1 + k * dy <= height - 1\n",
    "        kmin = -math.inf\n",
    "        kmax = math.inf\n",
    "        for z, dz, length in [(x1, dx, width - 1), (y1, dy, height - 1)]:\n",
    "            if dz > 0:\n",
    "                kmin = max(kmin, -z / dz)\n",
    "                kmax = min(kmax, (length - z) / dz)\n",
    "            elif dz < 0:\n",
    "                kmax = min(kmax, -z / dz)\n",
    "                kmin = max(kmin, (length - z) / dz)\n",
    "        for k in range(math.ceil(kmin), math.floor(kmax) + 1):\n",
    "            x, y = x1 + k * dx, y1 + k * dy\n",
    "            assert 0 <= x < width and 0 <= y < height\n",
    "            antinodes.add((x, y))\n",
    "    return antinodes"
   ]
  },
  {
   "cell_type": "code",
   "execution_count": null,
   "id": "ae039850-618b-49d4-b4e6-12ec03a2cf54",
   "metadata": {},
   "outputs": [],
   "source": [
    "check(count_antinodes, tests, 2, antinode_locations=get_antinode_lines)\n",
    "count_antinodes(data, antinode_locations=get_antinode_lines)"
   ]
  }
 ],
 "metadata": {
  "language_info": {
   "codemirror_mode": {
    "name": "ipython"
   },
   "file_extension": ".py",
   "mimetype": "text/x-python",
   "name": "python",
   "nbconvert_exporter": "python"
  }
 },
 "nbformat": 4,
 "nbformat_minor": 5
}

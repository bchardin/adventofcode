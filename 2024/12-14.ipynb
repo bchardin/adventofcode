{
 "cells": [
  {
   "cell_type": "code",
   "execution_count": null,
   "id": "fed8fc3a-d4d8-4590-9a49-f56ecbf5de4f",
   "metadata": {},
   "outputs": [],
   "source": [
    "import os\n",
    "import sys\n",
    "\n",
    "sys.path.insert(0, os.path.abspath(\"../utils\"))\n",
    "from aoc_utils import load_data, check"
   ]
  },
  {
   "cell_type": "code",
   "execution_count": null,
   "id": "fd9d23a6-56a5-498c-85cf-2e55d98d1848",
   "metadata": {},
   "outputs": [],
   "source": [
    "import math\n",
    "import re\n",
    "from collections import defaultdict\n",
    "from itertools import product\n",
    "from matplotlib import pyplot as plt\n",
    "import numpy as np"
   ]
  },
  {
   "cell_type": "code",
   "execution_count": null,
   "id": "61342c74-6c06-4600-af0d-879fe0b0eda7",
   "metadata": {},
   "outputs": [],
   "source": [
    "data = load_data(2024, 14)"
   ]
  },
  {
   "cell_type": "code",
   "execution_count": null,
   "id": "661e1822-ff0f-4a87-a4a9-ffbd4aeb36a2",
   "metadata": {},
   "outputs": [],
   "source": [
    "# data, part_1, part_2\n",
    "tests = [\n",
    "    (\n",
    "        \"\"\"p=0,4 v=3,-3\n",
    "p=6,3 v=-1,-3\n",
    "p=10,3 v=-1,2\n",
    "p=2,0 v=2,-1\n",
    "p=0,0 v=1,3\n",
    "p=3,0 v=-2,-2\n",
    "p=7,6 v=-1,-3\n",
    "p=3,0 v=-1,-2\n",
    "p=9,3 v=2,3\n",
    "p=7,3 v=-1,2\n",
    "p=2,4 v=2,-3\n",
    "p=9,5 v=-3,-3\n",
    "\"\"\",\n",
    "        12,\n",
    "        None,\n",
    "    ),\n",
    "    (\n",
    "        \"\"\"p=4,5 v=10,0\n",
    "p=2,2 v=6,5\n",
    "p=6,1 v=7,-5\n",
    "p=2,5 v=6,5\n",
    "p=10,5 v=9,-6\n",
    "p=10,1 v=4,-1\n",
    "p=9,4 v=-8,4\n",
    "p=4,0 v=-7,6\n",
    "p=4,2 v=0,2\n",
    "p=5,0 v=10,6\n",
    "p=7,5 v=-4,5\n",
    "p=1,3 v=5,2\n",
    "p=4,3 v=0,-2\n",
    "p=6,4 v=6,4\n",
    "p=6,2 v=-9,-6\n",
    "p=8,4 v=2,-6\n",
    "p=4,3 v=6,-1\n",
    "p=1,2 v=-2,3\n",
    "p=2,0 v=-6,-3\n",
    "p=0,1 v=-2,6\n",
    "p=8,4 v=3,-5\n",
    "p=7,6 v=-4,-4\n",
    "p=3,5 v=1,1\n",
    "p=8,1 v=-1,1\n",
    "p=4,6 v=1,-4\n",
    "p=8,4 v=-2,2\n",
    "p=9,0 v=-8,-4\n",
    "p=3,5 v=7,1\n",
    "p=0,5 v=10,4\n",
    "p=7,2 v=2,2\n",
    "p=3,0 v=0,-5\n",
    "p=6,2 v=-9,-3\n",
    "p=5,4 v=-5,4\n",
    "p=2,5 v=-7,-1\n",
    "\"\"\",\n",
    "        2016,\n",
    "        42,\n",
    "        # a small tree\n",
    "    ),\n",
    "]"
   ]
  },
  {
   "cell_type": "markdown",
   "id": "e3a0e91e-2dd3-4cfe-897d-6869e1ec01e5",
   "metadata": {},
   "source": [
    "# Part 1"
   ]
  },
  {
   "cell_type": "code",
   "execution_count": null,
   "id": "6e52831f-722a-4ee3-838f-5d22600889dc",
   "metadata": {},
   "outputs": [],
   "source": [
    "def get_robots(data, dims):\n",
    "    dx, dy = dims\n",
    "    robots = defaultdict(list)\n",
    "    lcm = 1\n",
    "    for line in data.splitlines():\n",
    "        px, py, vx, vy = (int(v) for v in re.findall(r\"(-?\\d+)\", line))\n",
    "        robots[px, py].append((vx, vy))\n",
    "        lcm = math.lcm(lcm, dx // math.gcd(vx, dx))\n",
    "        lcm = math.lcm(lcm, dy // math.gcd(vy, dy))\n",
    "    return robots, lcm"
   ]
  },
  {
   "cell_type": "code",
   "execution_count": null,
   "id": "e03834d5-433a-4a77-a74f-285f0f8fe371",
   "metadata": {},
   "outputs": [],
   "source": [
    "def move(robots, dims, steps=1):\n",
    "    dx, dy = dims\n",
    "    future = defaultdict(list)\n",
    "    for px, py in robots:\n",
    "        for vx, vy in robots[px, py]:\n",
    "            x = (px + vx * steps) % dx\n",
    "            y = (py + vy * steps) % dy\n",
    "            future[x, y].append((vx, vy))\n",
    "    return future"
   ]
  },
  {
   "cell_type": "code",
   "execution_count": null,
   "id": "a19f578d-5ee8-4b71-8b19-1a300a2b697b",
   "metadata": {},
   "outputs": [],
   "source": [
    "def get_quadrants(data, dims=(101, 103)):\n",
    "    dx, dy = dims\n",
    "    midx = dx // 2\n",
    "    midy = dy // 2\n",
    "    quadrants = {(i, j): 0 for i, j in product([True, False], repeat=2)}\n",
    "    robots, _ = get_robots(data, dims)\n",
    "    robots = move(robots, dims, 100)\n",
    "    for px, py in robots:\n",
    "        if px != midx and py != midy:\n",
    "            quadrants[px > midx, py > midy] += len(robots[px, py])\n",
    "    return math.prod(quadrants.values())"
   ]
  },
  {
   "cell_type": "code",
   "execution_count": null,
   "id": "9d0e9143-9dd3-453f-9d86-e415da87425d",
   "metadata": {},
   "outputs": [],
   "source": [
    "check(get_quadrants, tests, dims=(11, 7))\n",
    "get_quadrants(data)"
   ]
  },
  {
   "cell_type": "markdown",
   "id": "3386658c-9811-4824-8fcf-59521344d102",
   "metadata": {},
   "source": [
    "# Part 2\n",
    "\n",
    "I didn't really know what to look for.  \n",
    "First, I tried to identify some horizontal symmetry, thinking the whole area would look like a large, centered tree. It didn't work.\n",
    "\n",
    "I believe there are (at least) two valid solutions with AOC's inputs:\n",
    "\n",
    "1. Finding when robots have distinct positions, but there is nothing in the puzzle description that suggests this might be true.\n",
    "2. Having the most robots forming continuous shapes (filled or not) in the picture, assuming the Christmas tree looks like this:\n",
    "\n",
    "~~~\n",
    "...3...    ...3...\n",
    "..111..    ..1.1..\n",
    ".12111.    .1...1.\n",
    "1111121    1111121\n",
    "..111..    ..1.1..\n",
    "~~~\n",
    "\n",
    "I kept the second."
   ]
  },
  {
   "cell_type": "code",
   "execution_count": null,
   "id": "5c8e28c7-7d15-4d70-8f79-fa37311cf0b1",
   "metadata": {},
   "outputs": [],
   "source": [
    "def adjacency(robots):\n",
    "    \"\"\"Count robot positions with at least two distinct neighbors.\"\"\"\n",
    "    adjs = 0\n",
    "    for px, py in robots:\n",
    "        neighbors = 0\n",
    "        for dx, dy in product((-1, 0, 1), repeat=2):\n",
    "            if (px + dx, py + dy) in robots:\n",
    "                neighbors += 1\n",
    "        # neighbors include self\n",
    "        if neighbors >= 3:\n",
    "            adjs += len(robots[px, py])\n",
    "    return adjs"
   ]
  },
  {
   "cell_type": "code",
   "execution_count": null,
   "id": "be80d690-b875-45d9-9fb0-65b56a709ee8",
   "metadata": {},
   "outputs": [],
   "source": [
    "def display_map(robots, dims):\n",
    "    dx, dy = dims\n",
    "    picture = np.zeros((dy, dx))\n",
    "    for x in range(dx):\n",
    "        for y in range(dy):\n",
    "            if (x, y) in robots:\n",
    "                picture[y, x] = len(robots[x, y])\n",
    "    plt.figure(figsize=(dx / 20, dy / 20))\n",
    "    plt.imshow(picture)\n",
    "    plt.axis(\"off\")"
   ]
  },
  {
   "cell_type": "code",
   "execution_count": null,
   "id": "699a612a-cd9e-4ef6-a26e-d0c9bff3e7e8",
   "metadata": {},
   "outputs": [],
   "source": [
    "def find_best_picture(data, dims=(101, 103), *, display_picture=True):\n",
    "    dx, dy = dims\n",
    "    robots, lcm = get_robots(data, dims=dims)\n",
    "    assert robots == move(robots, dims, lcm)\n",
    "    max_adjacency = adjacency(robots)\n",
    "    best_picture = robots\n",
    "    when = 0\n",
    "    for t in range(1, lcm):\n",
    "        robots = move(robots, dims)\n",
    "        if (adj := adjacency(robots)) > max_adjacency:\n",
    "            max_adjacency = adj\n",
    "            best_picture = robots\n",
    "            when = t\n",
    "    if display_picture:\n",
    "        display_map(best_picture, dims)\n",
    "    return when"
   ]
  },
  {
   "cell_type": "code",
   "execution_count": null,
   "id": "ae039850-618b-49d4-b4e6-12ec03a2cf54",
   "metadata": {},
   "outputs": [],
   "source": [
    "check(find_best_picture, tests, 2, dims=(11, 7))\n",
    "find_best_picture(data)"
   ]
  }
 ],
 "metadata": {
  "language_info": {
   "codemirror_mode": {
    "name": "ipython"
   },
   "file_extension": ".py",
   "mimetype": "text/x-python",
   "name": "python",
   "nbconvert_exporter": "python"
  }
 },
 "nbformat": 4,
 "nbformat_minor": 5
}

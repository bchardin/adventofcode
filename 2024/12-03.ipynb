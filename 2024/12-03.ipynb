{
 "cells": [
  {
   "cell_type": "code",
   "execution_count": null,
   "id": "fed8fc3a-d4d8-4590-9a49-f56ecbf5de4f",
   "metadata": {},
   "outputs": [],
   "source": [
    "import os\n",
    "import sys\n",
    "\n",
    "sys.path.insert(0, os.path.abspath(\"../utils\"))\n",
    "from aoc_utils import load_data, check"
   ]
  },
  {
   "cell_type": "code",
   "execution_count": null,
   "id": "61e9a07b-047f-4319-9d0a-870b2c0c4ad8",
   "metadata": {},
   "outputs": [],
   "source": [
    "import re"
   ]
  },
  {
   "cell_type": "code",
   "execution_count": null,
   "id": "61342c74-6c06-4600-af0d-879fe0b0eda7",
   "metadata": {},
   "outputs": [],
   "source": [
    "data = load_data(2024, 3)"
   ]
  },
  {
   "cell_type": "code",
   "execution_count": null,
   "id": "661e1822-ff0f-4a87-a4a9-ffbd4aeb36a2",
   "metadata": {},
   "outputs": [],
   "source": [
    "# data, part_1, part_2\n",
    "tests = [\n",
    "    (\n",
    "        \"\"\"xmul(2,4)%&mul[3,7]!@^do_not_mul(5,5)+mul(32,64]then(mul(11,8)mul(8,5))\"\"\",\n",
    "        161,\n",
    "        None,\n",
    "    ),\n",
    "    (\n",
    "        \"\"\"xmul(2,4)&mul[3,7]!^don't()_mul(5,5)+mul(32,64](mul(11,8)undo()?mul(8,5))\"\"\",\n",
    "        None,\n",
    "        48,\n",
    "    ),\n",
    "    (\n",
    "        \"\"\"xmul(2,4)&mul[3,7]!^don't()_mul(5,5)+mul(32,64](mul(11,8)undo()?mul(8,5))do()mul(1,1)\"\"\",\n",
    "        None,\n",
    "        49,\n",
    "    ),\n",
    "]"
   ]
  },
  {
   "cell_type": "markdown",
   "id": "e3a0e91e-2dd3-4cfe-897d-6869e1ec01e5",
   "metadata": {},
   "source": [
    "# Part 1"
   ]
  },
  {
   "cell_type": "code",
   "execution_count": null,
   "id": "77a4edb0-07ed-4985-8df1-e0db5b0fe749",
   "metadata": {},
   "outputs": [],
   "source": [
    "def sum_product(data):\n",
    "    return sum(int(a) * int(b) for a, b in re.findall(r\"mul\\(([0-9]{1,3}),([0-9]{1,3})\\)\", data))"
   ]
  },
  {
   "cell_type": "code",
   "execution_count": null,
   "id": "9d0e9143-9dd3-453f-9d86-e415da87425d",
   "metadata": {},
   "outputs": [],
   "source": [
    "check(sum_product, tests)\n",
    "sum_product(data)"
   ]
  },
  {
   "cell_type": "markdown",
   "id": "3386658c-9811-4824-8fcf-59521344d102",
   "metadata": {},
   "source": [
    "# Part 2"
   ]
  },
  {
   "cell_type": "code",
   "execution_count": null,
   "id": "71de6a0c-005f-4b35-a050-4a5b63ab9586",
   "metadata": {},
   "outputs": [],
   "source": [
    "def enabled_sum_product(data):\n",
    "    s = 0\n",
    "    for enabled in data.split(\"do()\"):\n",
    "        not_disabled, *_ = enabled.partition(\"don't()\")\n",
    "        s += sum_product(not_disabled)\n",
    "    return s"
   ]
  },
  {
   "cell_type": "code",
   "execution_count": null,
   "id": "ae039850-618b-49d4-b4e6-12ec03a2cf54",
   "metadata": {},
   "outputs": [],
   "source": [
    "check(enabled_sum_product, tests, 2)\n",
    "enabled_sum_product(data)"
   ]
  },
  {
   "cell_type": "markdown",
   "id": "9cecde23-8b84-43dc-a0f3-b9c8a8a9259d",
   "metadata": {},
   "source": [
    "# Lessons learned\n",
    "\n",
    "In part 2, my first solution was to use [`split`](https://docs.python.org/3/library/stdtypes.html#str.split) instead of [`partition`](https://docs.python.org/3/library/stdtypes.html#str.partition). (In truth, my very first attempt was based on regular expressions, but that was not very thoughtful.)  \n",
    "After some quick benchmarking, partition seems to be faster, even when setting the maxsplit parameter in split.\n",
    "\n",
    "Using Python 3.11.2:\n",
    "\n",
    "- `partition()` &rarr; ~134 µs\n",
    "- `split()` &rarr; ~149 µs\n",
    "- `split(maxsplit=1)` &rarr; ~138 µs"
   ]
  },
  {
   "cell_type": "code",
   "execution_count": null,
   "id": "059a9f9c-ebd0-4e84-816e-6acf71d5821a",
   "metadata": {},
   "outputs": [],
   "source": [
    "%%timeit\n",
    "enabled_sum_product(data)"
   ]
  },
  {
   "cell_type": "code",
   "execution_count": null,
   "id": "1abd48f9-b7d3-4eb2-bdb3-b093c9966097",
   "metadata": {},
   "outputs": [],
   "source": [
    "def enabled_sum_product(data):\n",
    "    s = 0\n",
    "    for enabled in data.split(\"do()\"):\n",
    "        not_disabled, *_ = enabled.split(\"don't()\")\n",
    "        s += sum_product(not_disabled)\n",
    "    return s"
   ]
  },
  {
   "cell_type": "code",
   "execution_count": null,
   "id": "98726aee-0f32-4941-b340-d8d4725ec5cc",
   "metadata": {},
   "outputs": [],
   "source": [
    "%%timeit\n",
    "enabled_sum_product(data)"
   ]
  },
  {
   "cell_type": "code",
   "execution_count": null,
   "id": "d30c5f2a-71f0-4e04-8961-e9612232905a",
   "metadata": {},
   "outputs": [],
   "source": [
    "def enabled_sum_product(data):\n",
    "    s = 0\n",
    "    for enabled in data.split(\"do()\"):\n",
    "        not_disabled, *_ = enabled.split(\"don't()\", maxsplit=1)\n",
    "        s += sum_product(not_disabled)\n",
    "    return s"
   ]
  },
  {
   "cell_type": "code",
   "execution_count": null,
   "id": "7bf3da07-1413-452d-a0b5-b7305b486b63",
   "metadata": {},
   "outputs": [],
   "source": [
    "%%timeit\n",
    "enabled_sum_product(data)"
   ]
  }
 ],
 "metadata": {
  "language_info": {
   "codemirror_mode": {
    "name": "ipython"
   },
   "file_extension": ".py",
   "mimetype": "text/x-python",
   "name": "python",
   "nbconvert_exporter": "python"
  }
 },
 "nbformat": 4,
 "nbformat_minor": 5
}

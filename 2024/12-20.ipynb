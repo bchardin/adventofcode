{
 "cells": [
  {
   "cell_type": "code",
   "execution_count": null,
   "id": "fed8fc3a-d4d8-4590-9a49-f56ecbf5de4f",
   "metadata": {},
   "outputs": [],
   "source": [
    "import os\n",
    "import sys\n",
    "\n",
    "sys.path.insert(0, os.path.abspath(\"../utils\"))\n",
    "from aoc_utils import load_data, check"
   ]
  },
  {
   "cell_type": "code",
   "execution_count": null,
   "id": "61342c74-6c06-4600-af0d-879fe0b0eda7",
   "metadata": {},
   "outputs": [],
   "source": [
    "data = load_data(2024, 20)"
   ]
  },
  {
   "cell_type": "code",
   "execution_count": null,
   "id": "661e1822-ff0f-4a87-a4a9-ffbd4aeb36a2",
   "metadata": {},
   "outputs": [],
   "source": [
    "# data, part_1, part_2\n",
    "tests = [\n",
    "    (\n",
    "        \"\"\"###############\n",
    "#...#...#.....#\n",
    "#.#.#.#.#.###.#\n",
    "#S#...#.#.#...#\n",
    "#######.#.#.###\n",
    "#######.#.#...#\n",
    "#######.#.###.#\n",
    "###..E#...#...#\n",
    "###.#######.###\n",
    "#...###...#...#\n",
    "#.#####.#.###.#\n",
    "#.#...#.#.#...#\n",
    "#.#.#.#.#.#.###\n",
    "#...#...#...###\n",
    "###############\n",
    "\"\"\",\n",
    "        30,\n",
    "        41,\n",
    "    ),\n",
    "]"
   ]
  },
  {
   "cell_type": "markdown",
   "id": "e3a0e91e-2dd3-4cfe-897d-6869e1ec01e5",
   "metadata": {},
   "source": [
    "# Part 1"
   ]
  },
  {
   "cell_type": "code",
   "execution_count": null,
   "id": "cbce719a-dbbb-43a5-a9e6-710fe47277e1",
   "metadata": {},
   "outputs": [],
   "source": [
    "def get_track(data):\n",
    "    layout = set()\n",
    "    for j, line in enumerate(data.splitlines()):\n",
    "        for i, c in enumerate(line):\n",
    "            if c != \"#\":\n",
    "                layout.add((i, j))\n",
    "            if c == \"S\":\n",
    "                start = i, j\n",
    "            if c == \"E\":\n",
    "                end = i, j\n",
    "    pos = start\n",
    "    d = 0\n",
    "    track = {}\n",
    "    while pos != end:\n",
    "        track[pos] = d\n",
    "        d += 1\n",
    "        i, j = pos\n",
    "        for di, dj in [\n",
    "            (-1, 0),\n",
    "            (1, 0),\n",
    "            (0, -1),\n",
    "            (0, 1),\n",
    "        ]:\n",
    "            next_ = i + di, j + dj\n",
    "            if next_ in layout and next_ not in track:\n",
    "                pos = next_\n",
    "    track[end] = d\n",
    "    return track"
   ]
  },
  {
   "cell_type": "code",
   "execution_count": null,
   "id": "313c30a0-acb4-4404-a879-18aaf5e52051",
   "metadata": {},
   "outputs": [],
   "source": [
    "def find_shortcuts(track, threshold, length):\n",
    "    shortcuts = 0\n",
    "    for i, j in track:\n",
    "        # with the provided lengths, iterating throught the neighborhood is\n",
    "        # faster than checking every track pair\n",
    "        for di in range(-length, length + 1):\n",
    "            jrange = length - abs(di)\n",
    "            for dj in range(-jrange, jrange + 1):\n",
    "                next_ = i + di, j + dj\n",
    "                if next_ in track:\n",
    "                    d = abs(di) + abs(dj)\n",
    "                    if track[next_] - track[i, j] - d >= threshold:\n",
    "                        shortcuts += 1\n",
    "    return shortcuts"
   ]
  },
  {
   "cell_type": "code",
   "execution_count": null,
   "id": "e8e2b167-ad72-4ba6-b87b-ab8523138d22",
   "metadata": {},
   "outputs": [],
   "source": [
    "def get_shortcuts(data, threshold, length=2):\n",
    "    track = get_track(data)\n",
    "    return find_shortcuts(track, threshold, length)"
   ]
  },
  {
   "cell_type": "code",
   "execution_count": null,
   "id": "9d0e9143-9dd3-453f-9d86-e415da87425d",
   "metadata": {},
   "outputs": [],
   "source": [
    "check(get_shortcuts, tests, threshold=4)\n",
    "get_shortcuts(data, threshold=100)"
   ]
  },
  {
   "cell_type": "markdown",
   "id": "3386658c-9811-4824-8fcf-59521344d102",
   "metadata": {},
   "source": [
    "# Part 2"
   ]
  },
  {
   "cell_type": "code",
   "execution_count": null,
   "id": "ae039850-618b-49d4-b4e6-12ec03a2cf54",
   "metadata": {},
   "outputs": [],
   "source": [
    "check(get_shortcuts, tests, 2, threshold=70, length=20)\n",
    "get_shortcuts(data, threshold=100, length=20)"
   ]
  },
  {
   "cell_type": "markdown",
   "id": "99cfc687-7ade-4f49-9ed0-f5698aa63c0b",
   "metadata": {},
   "source": [
    "# KDTree-based search\n",
    "\n",
    "I tried to use a 2D index to identify nearby track points.\n",
    "This second solution has better scaling, but is not significantly faster with lengths 2 (part 1) and 20 (part 2)."
   ]
  },
  {
   "cell_type": "code",
   "execution_count": null,
   "id": "596d9217-fa79-4dbd-bea8-d9c974f77917",
   "metadata": {},
   "outputs": [],
   "source": [
    "from scipy.spatial import KDTree"
   ]
  },
  {
   "cell_type": "code",
   "execution_count": null,
   "id": "77caa5dc-5ee5-4f85-9ee8-6ef565057553",
   "metadata": {},
   "outputs": [],
   "source": [
    "def find_shortcuts(track, threshold, length):\n",
    "    points = list(track)\n",
    "    idx = KDTree(points)\n",
    "    shortcuts = 0\n",
    "    for i, j in track:\n",
    "        for pt_id in idx.query_ball_point((i, j), length, p=1):\n",
    "            ei, ej = points[pt_id]\n",
    "            d = abs(ei - i) + abs(ej - j)\n",
    "            assert d <= length, f\"{d} > {length}\"\n",
    "            if track[ei, ej] - track[i, j] - d >= threshold:\n",
    "                shortcuts += 1\n",
    "    return shortcuts"
   ]
  },
  {
   "cell_type": "code",
   "execution_count": null,
   "id": "1d257957-9711-42c4-b82a-81586f6aeac7",
   "metadata": {},
   "outputs": [],
   "source": [
    "check(get_shortcuts, tests, 2, threshold=70, length=20)\n",
    "get_shortcuts(data, threshold=100, length=20)"
   ]
  }
 ],
 "metadata": {
  "language_info": {
   "codemirror_mode": {
    "name": "ipython"
   },
   "file_extension": ".py",
   "mimetype": "text/x-python",
   "name": "python",
   "nbconvert_exporter": "python"
  }
 },
 "nbformat": 4,
 "nbformat_minor": 5
}

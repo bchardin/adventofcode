{
 "cells": [
  {
   "cell_type": "code",
   "execution_count": null,
   "id": "fed8fc3a-d4d8-4590-9a49-f56ecbf5de4f",
   "metadata": {},
   "outputs": [],
   "source": [
    "import os\n",
    "import sys\n",
    "\n",
    "sys.path.insert(0, os.path.abspath(\"../utils\"))\n",
    "from aoc_utils import load_data, check"
   ]
  },
  {
   "cell_type": "code",
   "execution_count": null,
   "id": "67d72a45-bcb7-48b5-a1d1-baada2963f65",
   "metadata": {},
   "outputs": [],
   "source": [
    "from functools import cache\n",
    "import re"
   ]
  },
  {
   "cell_type": "code",
   "execution_count": null,
   "id": "61342c74-6c06-4600-af0d-879fe0b0eda7",
   "metadata": {},
   "outputs": [],
   "source": [
    "data = load_data(2024, 19)"
   ]
  },
  {
   "cell_type": "code",
   "execution_count": null,
   "id": "661e1822-ff0f-4a87-a4a9-ffbd4aeb36a2",
   "metadata": {},
   "outputs": [],
   "source": [
    "# data, part_1, part_2\n",
    "tests = [\n",
    "    (\n",
    "        \"\"\"r, wr, b, g, bwu, rb, gb, br\n",
    "\n",
    "brwrr\n",
    "bggr\n",
    "gbbr\n",
    "rrbgbr\n",
    "ubwu\n",
    "bwurrg\n",
    "brgr\n",
    "bbrgwb\n",
    "\"\"\",\n",
    "        6,\n",
    "        16,\n",
    "    ),\n",
    "]"
   ]
  },
  {
   "cell_type": "markdown",
   "id": "e3a0e91e-2dd3-4cfe-897d-6869e1ec01e5",
   "metadata": {},
   "source": [
    "# Part 1"
   ]
  },
  {
   "cell_type": "code",
   "execution_count": null,
   "id": "71b6d6d8-91ba-402a-8f23-04ec8f47a070",
   "metadata": {},
   "outputs": [],
   "source": [
    "def parse_input(data):\n",
    "    templates, patterns = data.split(\"\\n\\n\")\n",
    "    templates = templates.split(\", \")\n",
    "    patterns = patterns.splitlines()\n",
    "    return templates, patterns"
   ]
  },
  {
   "cell_type": "code",
   "execution_count": null,
   "id": "c591548d-3d61-464e-b7c6-6a39f1ddc7cd",
   "metadata": {},
   "outputs": [],
   "source": [
    "def find_matches(data):\n",
    "    templates, patterns = parse_input(data)\n",
    "    regex = fr\"^({'|'.join(templates)})*$\"\n",
    "    valid = 0\n",
    "    for pattern in patterns:\n",
    "        if re.match(regex, pattern) is not None:\n",
    "            valid += 1\n",
    "    return valid"
   ]
  },
  {
   "cell_type": "code",
   "execution_count": null,
   "id": "9d0e9143-9dd3-453f-9d86-e415da87425d",
   "metadata": {},
   "outputs": [],
   "source": [
    "check(find_matches, tests)\n",
    "find_matches(data)"
   ]
  },
  {
   "cell_type": "markdown",
   "id": "3386658c-9811-4824-8fcf-59521344d102",
   "metadata": {},
   "source": [
    "# Part 2"
   ]
  },
  {
   "cell_type": "code",
   "execution_count": null,
   "id": "3d83ac55-4025-4f0b-8c07-207b38282bbe",
   "metadata": {},
   "outputs": [],
   "source": [
    "@cache\n",
    "def count_matches(patterns, string):\n",
    "    if not string:\n",
    "        return 1\n",
    "    matches = 0\n",
    "    for pattern in patterns:\n",
    "        if string.startswith(pattern):\n",
    "            matches += count_matches(patterns, string[len(pattern):])\n",
    "    return matches"
   ]
  },
  {
   "cell_type": "code",
   "execution_count": null,
   "id": "bed2baf6-a1db-4e4e-b5bd-d1e31566c322",
   "metadata": {},
   "outputs": [],
   "source": [
    "def sum_matches(data):\n",
    "    templates, patterns = parse_input(data)\n",
    "    templates = tuple(templates)\n",
    "    s = 0\n",
    "    for pattern in patterns:\n",
    "        s += count_matches(templates, pattern)\n",
    "    return s"
   ]
  },
  {
   "cell_type": "code",
   "execution_count": null,
   "id": "ae039850-618b-49d4-b4e6-12ec03a2cf54",
   "metadata": {},
   "outputs": [],
   "source": [
    "check(sum_matches, tests, 2)\n",
    "sum_matches(data)"
   ]
  }
 ],
 "metadata": {
  "language_info": {
   "codemirror_mode": {
    "name": "ipython"
   },
   "file_extension": ".py",
   "mimetype": "text/x-python",
   "name": "python",
   "nbconvert_exporter": "python"
  }
 },
 "nbformat": 4,
 "nbformat_minor": 5
}

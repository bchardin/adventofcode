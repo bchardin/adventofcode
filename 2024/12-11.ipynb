{
 "cells": [
  {
   "cell_type": "code",
   "execution_count": null,
   "id": "fed8fc3a-d4d8-4590-9a49-f56ecbf5de4f",
   "metadata": {},
   "outputs": [],
   "source": [
    "import os\n",
    "import sys\n",
    "\n",
    "sys.path.insert(0, os.path.abspath(\"../utils\"))\n",
    "from aoc_utils import load_data, check"
   ]
  },
  {
   "cell_type": "code",
   "execution_count": null,
   "id": "9caafa01-aec4-4ba5-9173-2afc87d3a9f5",
   "metadata": {},
   "outputs": [],
   "source": [
    "from collections import Counter"
   ]
  },
  {
   "cell_type": "code",
   "execution_count": null,
   "id": "61342c74-6c06-4600-af0d-879fe0b0eda7",
   "metadata": {},
   "outputs": [],
   "source": [
    "data = load_data(2024, 11)"
   ]
  },
  {
   "cell_type": "code",
   "execution_count": null,
   "id": "661e1822-ff0f-4a87-a4a9-ffbd4aeb36a2",
   "metadata": {},
   "outputs": [],
   "source": [
    "# data, part_1, part_2\n",
    "tests = [\n",
    "    (\n",
    "        \"\"\"125 17\"\"\",\n",
    "        55312,\n",
    "        65601038650482,\n",
    "    ),\n",
    "]"
   ]
  },
  {
   "cell_type": "markdown",
   "id": "e3a0e91e-2dd3-4cfe-897d-6869e1ec01e5",
   "metadata": {},
   "source": [
    "# Part 1"
   ]
  },
  {
   "cell_type": "code",
   "execution_count": null,
   "id": "d84ff21f-c9b9-40c6-bc59-05e94d8c4c07",
   "metadata": {},
   "outputs": [],
   "source": [
    "def blink_once(stones):\n",
    "    next_ = Counter()\n",
    "    for stone, cnt in stones.items():\n",
    "        if stone == 0:\n",
    "            next_[1] += cnt\n",
    "        elif len(stone_str := str(stone)) % 2 == 0:\n",
    "            mid = len(stone_str) // 2\n",
    "            for part in (stone_str[:mid], stone_str[mid:]):\n",
    "                value = int(part)\n",
    "                next_[value] += cnt\n",
    "        else:\n",
    "            next_[stone * 2024] += cnt\n",
    "    return next_"
   ]
  },
  {
   "cell_type": "code",
   "execution_count": null,
   "id": "47591dac-1069-4a24-be6c-22b26b08907f",
   "metadata": {},
   "outputs": [],
   "source": [
    "def blink(data, times=25):\n",
    "    stones = Counter(int(v) for v in data.split())\n",
    "    for _ in range(times):\n",
    "        stones = blink_once(stones)\n",
    "    return stones.total()"
   ]
  },
  {
   "cell_type": "code",
   "execution_count": null,
   "id": "9d0e9143-9dd3-453f-9d86-e415da87425d",
   "metadata": {},
   "outputs": [],
   "source": [
    "check(blink, tests)\n",
    "blink(data)"
   ]
  },
  {
   "cell_type": "markdown",
   "id": "3386658c-9811-4824-8fcf-59521344d102",
   "metadata": {},
   "source": [
    "# Part 2"
   ]
  },
  {
   "cell_type": "code",
   "execution_count": null,
   "id": "ae039850-618b-49d4-b4e6-12ec03a2cf54",
   "metadata": {},
   "outputs": [],
   "source": [
    "check(blink, tests, 2, times=75)\n",
    "blink(data, times=75)"
   ]
  }
 ],
 "metadata": {
  "language_info": {
   "codemirror_mode": {
    "name": "ipython"
   },
   "file_extension": ".py",
   "mimetype": "text/x-python",
   "name": "python",
   "nbconvert_exporter": "python"
  }
 },
 "nbformat": 4,
 "nbformat_minor": 5
}

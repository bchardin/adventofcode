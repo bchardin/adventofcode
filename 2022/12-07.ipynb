{
 "cells": [
  {
   "cell_type": "markdown",
   "metadata": {},
   "source": [
    "# Part 1"
   ]
  },
  {
   "cell_type": "code",
   "execution_count": null,
   "metadata": {},
   "outputs": [],
   "source": [
    "import re\n",
    "import numpy as np"
   ]
  },
  {
   "cell_type": "code",
   "execution_count": null,
   "metadata": {},
   "outputs": [],
   "source": [
    "filename = \"inputs/12-07.txt\"\n",
    "with open(filename, \"r\") as f:\n",
    "    data = f.read()"
   ]
  },
  {
   "cell_type": "code",
   "execution_count": null,
   "metadata": {},
   "outputs": [],
   "source": [
    "fs = {}\n",
    "current_dir = None\n",
    "for l in data.splitlines():\n",
    "    if re.match(\"\\$ cd /\", l):\n",
    "        current_dir = [\"\"]\n",
    "        fs[\"/\".join(current_dir)] = 0\n",
    "    if re.match(\"\\$ cd \\.\\.\", l):\n",
    "        current_dir = current_dir[:-1]\n",
    "    if m := re.match(\"\\$ cd (\\w+)\", l):\n",
    "        current_dir = current_dir + [m.group(1)]\n",
    "        fs[\"/\".join(current_dir)] = 0\n",
    "    if m := re.match(\"(\\d+) \\w+\\.?\\w*\", l):\n",
    "        fs[\"/\".join(current_dir)] += int(m.group(1))"
   ]
  },
  {
   "cell_type": "code",
   "execution_count": null,
   "metadata": {},
   "outputs": [],
   "source": [
    "fs_sat = fs.copy()\n",
    "for dir_, size in fs.items():\n",
    "    for d in fs_sat:\n",
    "        if dir_.startswith(d) and not dir_ == d:\n",
    "            fs_sat[d] += size"
   ]
  },
  {
   "cell_type": "code",
   "execution_count": null,
   "metadata": {},
   "outputs": [],
   "source": [
    "tot_size = np.array(list(fs_sat.values()))\n",
    "tot_size[tot_size <= 100000].sum()"
   ]
  },
  {
   "cell_type": "markdown",
   "metadata": {},
   "source": [
    "# Part 2"
   ]
  },
  {
   "cell_type": "code",
   "execution_count": null,
   "metadata": {},
   "outputs": [],
   "source": [
    "target = fs_sat[''] - 40000000"
   ]
  },
  {
   "cell_type": "code",
   "execution_count": null,
   "metadata": {},
   "outputs": [],
   "source": [
    "np.min(tot_size[tot_size >= target])"
   ]
  }
 ],
 "metadata": {
  "language_info": {
   "codemirror_mode": {
    "name": "ipython"
   },
   "file_extension": ".py",
   "mimetype": "text/x-python",
   "name": "python",
   "nbconvert_exporter": "python"
  }
 },
 "nbformat": 4,
 "nbformat_minor": 4
}

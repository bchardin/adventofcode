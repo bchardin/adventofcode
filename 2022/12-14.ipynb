{
 "cells": [
  {
   "cell_type": "markdown",
   "metadata": {},
   "source": [
    "# Part 1"
   ]
  },
  {
   "cell_type": "code",
   "execution_count": null,
   "metadata": {},
   "outputs": [],
   "source": [
    "filename = \"inputs/12-14.txt\"\n",
    "with open(filename, \"r\") as f:\n",
    "    data = f.read()"
   ]
  },
  {
   "cell_type": "code",
   "execution_count": null,
   "metadata": {},
   "outputs": [],
   "source": [
    "lines = []\n",
    "xmax = 500\n",
    "xmin = 500\n",
    "ymax = 0\n",
    "ymin = 0\n",
    "for line in (data.splitlines()):\n",
    "    prev = None\n",
    "    for part in line.split(\"->\"):\n",
    "        x, y = part.split(\",\")\n",
    "        x, y = int(x), int(y)\n",
    "        xmax = max(xmax, x)\n",
    "        xmin = min(xmin, x)\n",
    "        ymax = max(ymax, y)\n",
    "        ymin = min(ymin, y)\n",
    "        if prev is not None:\n",
    "            lines.append((prev, (x, y)))\n",
    "        prev = (x, y)\n",
    "xmin -= 1\n",
    "xmax += 1\n",
    "ymax += 1"
   ]
  },
  {
   "cell_type": "code",
   "execution_count": null,
   "metadata": {},
   "outputs": [],
   "source": [
    "from collections import defaultdict"
   ]
  },
  {
   "cell_type": "code",
   "execution_count": null,
   "metadata": {},
   "outputs": [],
   "source": [
    "cave = defaultdict(lambda: 0)\n",
    "\n",
    "for (x1, y1), (x2, y2) in lines:\n",
    "    if x1 == x2:\n",
    "        for y in range(min(y1, y2), max(y1, y2) + 1):\n",
    "            cave[x1, y] = 1\n",
    "    else:\n",
    "        assert y1 == y2\n",
    "        for x in range(min(x1, x2), max(x1, x2) + 1):\n",
    "            cave[x, y1] = 1\n",
    "\n",
    "empty_cave = cave"
   ]
  },
  {
   "cell_type": "code",
   "execution_count": null,
   "metadata": {},
   "outputs": [],
   "source": [
    "def drop_sand(cave, from_=(500, 0), ymax=ymax, floor=False):\n",
    "    \"\"\" returns False if sand overflowed or did not flow, True otherwise\"\"\"\n",
    "    x, y = from_\n",
    "    if cave[x, y] != 0:\n",
    "        return False\n",
    "    while y < ymax:\n",
    "        blocked = True\n",
    "        for dx, dy in [(0, 1), (-1, 1), (1, 1)]:\n",
    "            if cave[x+dx, y+dy] == 0:\n",
    "                blocked = False\n",
    "                x += dx\n",
    "                y += dy\n",
    "                break\n",
    "        if blocked:\n",
    "            cave[x, y] = 2\n",
    "            return True\n",
    "    if floor:\n",
    "        cave[x, y] = 2\n",
    "        return True\n",
    "    return False"
   ]
  },
  {
   "cell_type": "code",
   "execution_count": null,
   "metadata": {},
   "outputs": [],
   "source": [
    "cave = empty_cave.copy()\n",
    "sand = 0\n",
    "while drop_sand(cave):\n",
    "    sand += 1\n",
    "sand"
   ]
  },
  {
   "cell_type": "markdown",
   "metadata": {},
   "source": [
    "# Part 2"
   ]
  },
  {
   "cell_type": "code",
   "execution_count": null,
   "metadata": {},
   "outputs": [],
   "source": [
    "cave = empty_cave.copy()\n",
    "sand = 0\n",
    "while drop_sand(cave, floor=True):\n",
    "    sand += 1\n",
    "sand"
   ]
  },
  {
   "cell_type": "markdown",
   "metadata": {},
   "source": [
    "# Misc"
   ]
  },
  {
   "cell_type": "code",
   "execution_count": null,
   "metadata": {},
   "outputs": [],
   "source": [
    "def display(cave):\n",
    "    xmin, ymin = [min(l) for l in zip(*cave.keys())]\n",
    "    xmax, ymax = [max(l) for l in zip(*cave.keys())]\n",
    "    DISP = {\n",
    "        0: \".\",\n",
    "        1: \"#\",\n",
    "        2: \"o\",\n",
    "    }\n",
    "    for y in range(ymin, ymax + 1):\n",
    "        print(\"\".join([DISP[cave[x, y]] for x in range(xmin, xmax + 1)]))"
   ]
  }
 ],
 "metadata": {
  "language_info": {
   "codemirror_mode": {
    "name": "ipython"
   },
   "file_extension": ".py",
   "mimetype": "text/x-python",
   "name": "python",
   "nbconvert_exporter": "python"
  }
 },
 "nbformat": 4,
 "nbformat_minor": 4
}

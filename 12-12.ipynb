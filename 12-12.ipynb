{
 "cells": [
  {
   "cell_type": "markdown",
   "metadata": {},
   "source": [
    "# Part 1"
   ]
  },
  {
   "cell_type": "code",
   "execution_count": null,
   "metadata": {},
   "outputs": [],
   "source": [
    "import numpy as np\n",
    "import networkx as nx"
   ]
  },
  {
   "cell_type": "code",
   "execution_count": null,
   "metadata": {},
   "outputs": [],
   "source": [
    "filename = \"12-12.txt\"\n",
    "with open(filename, \"r\") as f:\n",
    "    data = f.read()"
   ]
  },
  {
   "cell_type": "code",
   "execution_count": null,
   "metadata": {},
   "outputs": [],
   "source": [
    "elevation = np.array([[int(c, 36) - 9 for c in s] for s in data.replace('S', 'a').replace('E', 'z').splitlines()])\n",
    "source, destination = (\n",
    "    (\n",
    "        data.find(c) // (elevation.shape[1] + 1),\n",
    "        data.find(c) % (elevation.shape[1] + 1)\n",
    "    )\n",
    "    for c in \"SE\"\n",
    ")"
   ]
  },
  {
   "cell_type": "code",
   "execution_count": null,
   "metadata": {},
   "outputs": [],
   "source": [
    "def add_edge(G, elevation, from_, to_):\n",
    "    \"\"\"The distance between from_ and to_ should be exactly one.\"\"\"\n",
    "    if any(idx < 0 or idx >= elevation.shape[i] for coord in [from_, to_] for i, idx in enumerate(coord)):\n",
    "        return\n",
    "    if elevation[to_] - elevation[from_] <= 1:\n",
    "        G.add_edge(from_, to_)"
   ]
  },
  {
   "cell_type": "code",
   "execution_count": null,
   "metadata": {},
   "outputs": [],
   "source": [
    "G = nx.DiGraph()\n",
    "G.add_nodes_from(np.ndindex(elevation.shape))\n",
    "for i, j in np.ndindex(elevation.shape):\n",
    "    for di, dj in [(-1, 0), (1, 0), (0, -1), (0, 1)]:\n",
    "        add_edge(G, elevation, (i, j), (i+di, j+dj))"
   ]
  },
  {
   "cell_type": "code",
   "execution_count": null,
   "metadata": {},
   "outputs": [],
   "source": [
    "nx.shortest_path_length(G, source=source, target=destination)"
   ]
  },
  {
   "cell_type": "markdown",
   "metadata": {},
   "source": [
    "# Part 2"
   ]
  },
  {
   "cell_type": "code",
   "execution_count": null,
   "metadata": {},
   "outputs": [],
   "source": [
    "lengths = nx.shortest_path_length(G, target=destination)\n",
    "min(lengths[s] for s in zip(*np.where(elevation == 1)) if s in lengths)"
   ]
  }
 ],
 "metadata": {
  "language_info": {
   "codemirror_mode": {
    "name": "ipython"
   },
   "file_extension": ".py",
   "mimetype": "text/x-python",
   "name": "python",
   "nbconvert_exporter": "python"
  }
 },
 "nbformat": 4,
 "nbformat_minor": 4
}
